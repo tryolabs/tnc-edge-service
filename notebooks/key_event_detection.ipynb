{
 "cells": [
  {
   "cell_type": "code",
   "execution_count": 1,
   "id": "268cb2e3-8204-42b4-9e1f-c64da391eca5",
   "metadata": {},
   "outputs": [],
   "source": [
    "%load_ext autoreload"
   ]
  },
  {
   "cell_type": "code",
   "execution_count": 2,
   "id": "9b70c769-e90c-4478-b944-a20d4a750064",
   "metadata": {},
   "outputs": [],
   "source": [
    "%autoreload 2"
   ]
  },
  {
   "cell_type": "code",
   "execution_count": 590,
   "id": "04dd7aeb-2574-469a-84fc-802d0fb2461a",
   "metadata": {},
   "outputs": [
    {
     "name": "stdout",
     "output_type": "stream",
     "text": [
      "Collecting matplotlib_venn\n",
      "  Downloading matplotlib_venn-0.11.10-py3-none-any.whl.metadata (6.4 kB)\n",
      "Requirement already satisfied: matplotlib in /Users/sarahrobinson/opt/anaconda3/envs/edge/lib/python3.12/site-packages (from matplotlib_venn) (3.8.3)\n",
      "Requirement already satisfied: numpy in /Users/sarahrobinson/opt/anaconda3/envs/edge/lib/python3.12/site-packages (from matplotlib_venn) (1.26.4)\n",
      "Requirement already satisfied: scipy in /Users/sarahrobinson/opt/anaconda3/envs/edge/lib/python3.12/site-packages (from matplotlib_venn) (1.13.0)\n",
      "Requirement already satisfied: contourpy>=1.0.1 in /Users/sarahrobinson/opt/anaconda3/envs/edge/lib/python3.12/site-packages (from matplotlib->matplotlib_venn) (1.2.0)\n",
      "Requirement already satisfied: cycler>=0.10 in /Users/sarahrobinson/opt/anaconda3/envs/edge/lib/python3.12/site-packages (from matplotlib->matplotlib_venn) (0.12.1)\n",
      "Requirement already satisfied: fonttools>=4.22.0 in /Users/sarahrobinson/opt/anaconda3/envs/edge/lib/python3.12/site-packages (from matplotlib->matplotlib_venn) (4.50.0)\n",
      "Requirement already satisfied: kiwisolver>=1.3.1 in /Users/sarahrobinson/opt/anaconda3/envs/edge/lib/python3.12/site-packages (from matplotlib->matplotlib_venn) (1.4.5)\n",
      "Requirement already satisfied: packaging>=20.0 in /Users/sarahrobinson/opt/anaconda3/envs/edge/lib/python3.12/site-packages (from matplotlib->matplotlib_venn) (23.2)\n",
      "Requirement already satisfied: pillow>=8 in /Users/sarahrobinson/opt/anaconda3/envs/edge/lib/python3.12/site-packages (from matplotlib->matplotlib_venn) (10.2.0)\n",
      "Requirement already satisfied: pyparsing>=2.3.1 in /Users/sarahrobinson/opt/anaconda3/envs/edge/lib/python3.12/site-packages (from matplotlib->matplotlib_venn) (3.1.2)\n",
      "Requirement already satisfied: python-dateutil>=2.7 in /Users/sarahrobinson/opt/anaconda3/envs/edge/lib/python3.12/site-packages (from matplotlib->matplotlib_venn) (2.9.0.post0)\n",
      "Requirement already satisfied: six>=1.5 in /Users/sarahrobinson/opt/anaconda3/envs/edge/lib/python3.12/site-packages (from python-dateutil>=2.7->matplotlib->matplotlib_venn) (1.16.0)\n",
      "Downloading matplotlib_venn-0.11.10-py3-none-any.whl (33 kB)\n",
      "Installing collected packages: matplotlib_venn\n",
      "Successfully installed matplotlib_venn-0.11.10\n"
     ]
    }
   ],
   "source": [
    "!pip install matplotlib_venn"
   ]
  },
  {
   "cell_type": "code",
   "execution_count": 1,
   "id": "5ecb34f0-72fd-4852-a1ed-f861b05e0970",
   "metadata": {},
   "outputs": [],
   "source": [
    "import awswrangler as wr\n",
    "import pandas as pd\n",
    "import sqlite3\n",
    "import seaborn as sns\n",
    "import matplotlib.pyplot as plt\n",
    "import numpy as np\n",
    "import scipy.stats as stats\n",
    "from sklearn.metrics import mean_squared_error\n",
    "\n",
    "from sklearn.linear_model import LinearRegression\n",
    "\n",
    "import warnings\n",
    "\n",
    "warnings.filterwarnings(\"ignore\")\n",
    "\n",
    "sns.set_theme()\n",
    "\n",
    "import itertools\n",
    "import matplotlib.gridspec as gridspec\n",
    "from scipy.stats import chi2_contingency\n",
    "from matplotlib.dates import DayLocator, HourLocator, DateFormatter, drange\n",
    "\n",
    "import warnings\n",
    "\n",
    "warnings.filterwarnings(\"ignore\")\n",
    "import json\n",
    "from tsai.all import *\n",
    "from IPython.display import display, Markdown\n",
    "import json\n",
    "# from pandas.io.json import json_normalize\n",
    "\n",
    "from matplotlib.patches import Patch\n",
    "\n",
    "import matplotlib.dates as mdates\n",
    "\n",
    "from helper_functions.data_readers import *\n",
    "\n",
    "from helper_functions.aggregations import *"
   ]
  },
  {
   "cell_type": "code",
   "execution_count": 61,
   "id": "ef050a6e-ceab-4bad-a643-e7cf9f6e0be0",
   "metadata": {},
   "outputs": [],
   "source": [
    "import matplotlib.ticker as ticker"
   ]
  },
  {
   "cell_type": "markdown",
   "id": "1760aee1-478a-48a8-a168-7a9748526d69",
   "metadata": {},
   "source": [
    "## helper functions"
   ]
  },
  {
   "cell_type": "code",
   "execution_count": 2,
   "id": "d632a9bd-71b5-4868-a012-2f107ed33c3b",
   "metadata": {},
   "outputs": [],
   "source": [
    "colors = sns.color_palette(\n",
    "    [\n",
    "        \"#184EAD\",\n",
    "        \"#648fff\",\n",
    "        \"#88ccee\",\n",
    "        \"#ae9ef7\",\n",
    "        \"#6844d5\",\n",
    "        \"#332288\",\n",
    "        \"#c52dac\",\n",
    "        \"#ef4341\",\n",
    "        \"#84164c\",\n",
    "        \"#cb6577\",\n",
    "        \"#ff6100\",\n",
    "        \"#90550f\",\n",
    "        \"#c78d1b\",\n",
    "        \"#ffb003\",\n",
    "        \"#ddcc77\",\n",
    "        \"#a2c662\",\n",
    "        \"#40a018\",\n",
    "        \"#117347\",\n",
    "        \"#43aa99\",\n",
    "    ]\n",
    ")\n",
    "\n",
    "color_list = [\n",
    "    \"#184EAD\",\n",
    "    \"#648fff\",\n",
    "    \"#88ccee\",\n",
    "    \"#ae9ef7\",\n",
    "    \"#6844d5\",\n",
    "    \"#332288\",\n",
    "    \"#c52dac\",\n",
    "    \"#ef4341\",\n",
    "    \"#84164c\",\n",
    "    \"#cb6577\",\n",
    "    \"#ff6100\",\n",
    "    \"#90550f\",\n",
    "    \"#c78d1b\",\n",
    "    \"#ffb003\",\n",
    "    \"#ddcc77\",\n",
    "    \"#a2c662\",\n",
    "    \"#40a018\",\n",
    "    \"#117347\",\n",
    "    \"#43aa99\",\n",
    "]\n",
    "\n",
    "%matplotlib inline\n",
    "color_list = [\n",
    "    \"#184EAD\",\n",
    "    \"#648fff\",\n",
    "    \"#88ccee\",\n",
    "    \"#ae9ef7\",\n",
    "    \"#6844d5\",\n",
    "    \"#332288\",\n",
    "    \"#c52dac\",\n",
    "    \"#ef4341\",\n",
    "    \"#84164c\",\n",
    "    \"#cb6577\",\n",
    "    \"#ff6100\",\n",
    "    \"#90550f\",\n",
    "    \"#c78d1b\",\n",
    "    \"#ffb003\",\n",
    "    \"#ddcc77\",\n",
    "    \"#a2c662\",\n",
    "    \"#40a018\",\n",
    "    \"#117347\",\n",
    "    \"#43aa99\",\n",
    "]\n",
    "\n",
    "\n",
    "def show_color_pallete(pallete):\n",
    "    # fig, ax = plt.subplots()\n",
    "\n",
    "    sns.palplot(pallete, size=2)\n",
    "    ax = plt.gca()\n",
    "    for i, name in enumerate(pallete):\n",
    "        label = f\"[{i}]\"\n",
    "        ax.text(i, -0.57, label, horizontalalignment=\"center\", fontsize=10)\n",
    "    plt.show()"
   ]
  },
  {
   "cell_type": "markdown",
   "id": "438ad430-bfbc-41f4-a283-3ac07097f899",
   "metadata": {
    "jp-MarkdownHeadingCollapsed": true
   },
   "source": [
    "### plotting & annotations"
   ]
  },
  {
   "cell_type": "code",
   "execution_count": 5,
   "id": "84f85fe4-0d58-476e-b32d-bbad4f6ad154",
   "metadata": {},
   "outputs": [],
   "source": [
    "# class SeabornFig2Grid():\n",
    "\n",
    "#  def __init__(self, seaborngrid, fig,  subplot_spec):\n",
    "#      self.fig = fig\n",
    "#      self.sg = seaborngrid\n",
    "#      self.subplot = subplot_spec\n",
    "#      if isinstance(self.sg, sns.axisgrid.FacetGrid) or \\\n",
    "#          isinstance(self.sg, sns.axisgrid.PairGrid):\n",
    "#          self._movegrid()\n",
    "#      elif isinstance(self.sg, sns.axisgrid.JointGrid):\n",
    "#          self._movejointgrid()\n",
    "#      self._finalize()\n",
    "\n",
    "#  def _movegrid(self):\n",
    "#      \"\"\" Move PairGrid or Facetgrid \"\"\"\n",
    "#      self._resize()\n",
    "#      n = self.sg.axes.shape[0]\n",
    "#      m = self.sg.axes.shape[1]\n",
    "#      self.subgrid = gridspec.GridSpecFromSubplotSpec(n,m, subplot_spec=self.subplot)\n",
    "#      for i in range(n):\n",
    "#          for j in range(m):\n",
    "#              self._moveaxes(self.sg.axes[i,j], self.subgrid[i,j])\n",
    "\n",
    "#  def _movejointgrid(self):\n",
    "#      \"\"\" Move Jointgrid \"\"\"\n",
    "#      h= self.sg.ax_joint.get_position().height\n",
    "#      h2= self.sg.ax_marg_x.get_position().height\n",
    "#      r = int(np.round(h/h2))\n",
    "#      self._resize()\n",
    "#      self.subgrid = gridspec.GridSpecFromSubplotSpec(r+1,r+1, subplot_spec=self.subplot)\n",
    "\n",
    "#      self._moveaxes(self.sg.ax_joint, self.subgrid[1:, :-1])\n",
    "#      self._moveaxes(self.sg.ax_marg_x, self.subgrid[0, :-1])\n",
    "#      self._moveaxes(self.sg.ax_marg_y, self.subgrid[1:, -1])\n",
    "\n",
    "#  def _moveaxes(self, ax, gs):\n",
    "#      #https://stackoverflow.com/a/46906599/4124317\n",
    "#      ax.remove()\n",
    "#      ax.figure=self.fig\n",
    "#      self.fig.axes.append(ax)\n",
    "#      self.fig.add_axes(ax)\n",
    "#      ax._subplotspec = gs\n",
    "#      ax.set_position(gs.get_position(self.fig))\n",
    "#      ax.set_subplotspec(gs)\n",
    "\n",
    "#  def _finalize(self):\n",
    "#      plt.close(self.sg.fig)\n",
    "#      self.fig.canvas.mpl_connect(\"resize_event\", self._resize)\n",
    "#      self.fig.canvas.draw()\n",
    "\n",
    "#  def _resize(self, evt=None):\n",
    "#      self.sg.fig.set_size_inches(self.fig.get_size_inches())\n"
   ]
  },
  {
   "cell_type": "code",
   "execution_count": 6,
   "id": "0cf6c8b8-1b79-401e-b30b-2d6e4e381ad6",
   "metadata": {},
   "outputs": [],
   "source": [
    "# def annotate(ax, data, x_col, y_col):\n",
    "#     x = np.array(data[x_col]).reshape((-1, 1))\n",
    "#     y = np.array(data[y_col]).reshape((-1, 1))\n",
    "#     model = LinearRegression()\n",
    "#     model.fit(x,y)\n",
    "#     r2 = model.score(x,y)\n",
    "#     coefficients = model.coef_\n",
    "#     intercept = model.intercept_\n",
    "\n",
    "\n",
    "#     beta0 = r'$intercept = \\hat\\beta_0 =$' + str(round(intercept[0],2))\n",
    "\n",
    "#     beta1 = r'$slope = \\hat\\beta_1 =$' + str(round(coefficients[0][0],2))\n",
    "\n",
    "#     r_squared = r'$R^2 =$' + str(round(r2,2))\n",
    "\n",
    "#     textstr = '\\n'.join((\n",
    "#         beta0, beta1, r_squared\n",
    "#     ))\n",
    "#     props = dict(boxstyle='round', facecolor='white', alpha=0.35)\n",
    "#     ax.text(.7 , .75, textstr, transform=ax.transAxes, fontsize=9, weight = 'bold', horizontalalignment='center', bbox=props)"
   ]
  },
  {
   "cell_type": "markdown",
   "id": "7839f6bd-1f37-4b29-8866-bfce197db39b",
   "metadata": {
    "jp-MarkdownHeadingCollapsed": true
   },
   "source": [
    "## Reading in Data"
   ]
  },
  {
   "cell_type": "markdown",
   "id": "351ecc5d-448e-4acf-bb3e-e6032869edab",
   "metadata": {},
   "source": [
    "##### st patrick data"
   ]
  },
  {
   "cell_type": "code",
   "execution_count": 3,
   "id": "3d1a7478-6fb3-48e9-8633-6c2eaf6aacb8",
   "metadata": {},
   "outputs": [
    {
     "name": "stdout",
     "output_type": "stream",
     "text": [
      "{'trip_id': 'stpatrick_2024-01-03', 'trip_start_date': '2024-01-03', 'trip_end_date': '2024-01-28'}\n",
      "{'trip_id': 'stpatrick_2024-02-03', 'trip_start_date': '2024-02-03', 'trip_end_date': '2024-02-28'}\n"
     ]
    }
   ],
   "source": [
    "# ST Patrick Trips\n",
    "StPatrick1data = get_data(boat=\"stpatrick\", trip_no=0)\n",
    "StPatrick2data = get_data(boat=\"stpatrick\", trip_no=1)\n",
    "\n",
    "counts_StPatrick1 = StPatrick1data[\"all_counts\"]\n",
    "counts_StPatrick2 = StPatrick2data[\"all_counts\"]\n",
    "\n",
    "stpatrick1_elog = StPatrick1data[\"elogs\"]\n",
    "stpatrick2_elog = StPatrick2data[\"elogs\"]\n",
    "\n",
    "stpatrick1_bv_set_counts = StPatrick1data[\"bv_set_counts\"]\n",
    "stpatrick1_bv_set_counts = StPatrick2data[\"bv_set_counts\"]"
   ]
  },
  {
   "cell_type": "code",
   "execution_count": 4,
   "id": "9bb72d1c-cc35-41cc-9291-483b926668d5",
   "metadata": {},
   "outputs": [],
   "source": [
    "stpatrick1_bv_sets = StPatrick1data[\"bv_sets\"]\n",
    "stpatrick2_bv_sets = StPatrick2data[\"bv_sets\"]"
   ]
  },
  {
   "cell_type": "code",
   "execution_count": 5,
   "id": "d06439d6-c867-4669-ad61-8f86fe787b31",
   "metadata": {
    "scrolled": true
   },
   "outputs": [
    {
     "data": {
      "text/html": [
       "<div>\n",
       "<style scoped>\n",
       "    .dataframe tbody tr th:only-of-type {\n",
       "        vertical-align: middle;\n",
       "    }\n",
       "\n",
       "    .dataframe tbody tr th {\n",
       "        vertical-align: top;\n",
       "    }\n",
       "\n",
       "    .dataframe thead th {\n",
       "        text-align: right;\n",
       "    }\n",
       "</style>\n",
       "<table border=\"1\" class=\"dataframe\">\n",
       "  <thead>\n",
       "    <tr style=\"text-align: right;\">\n",
       "      <th></th>\n",
       "      <th>id</th>\n",
       "      <th>overallcount</th>\n",
       "      <th>overallcatches</th>\n",
       "      <th>overalldiscards</th>\n",
       "      <th>count</th>\n",
       "      <th>detection_confidence</th>\n",
       "      <th>start_datetime</th>\n",
       "      <th>utc_start_datetime</th>\n",
       "      <th>utc_end_datetime</th>\n",
       "      <th>weighted_count</th>\n",
       "      <th>bv_count</th>\n",
       "    </tr>\n",
       "  </thead>\n",
       "  <tbody>\n",
       "    <tr>\n",
       "      <th>2327</th>\n",
       "      <td>6249</td>\n",
       "      <td>3.0</td>\n",
       "      <td>&lt;NA&gt;</td>\n",
       "      <td>&lt;NA&gt;</td>\n",
       "      <td>NaN</td>\n",
       "      <td>&lt;NA&gt;</td>\n",
       "      <td>2024-01-03 13:10:00+00:00</td>\n",
       "      <td>2024-01-03 13:10:00</td>\n",
       "      <td>2024-01-03 13:15:00</td>\n",
       "      <td>&lt;NA&gt;</td>\n",
       "      <td>0.0</td>\n",
       "    </tr>\n",
       "    <tr>\n",
       "      <th>1750</th>\n",
       "      <td>6250</td>\n",
       "      <td>10.0</td>\n",
       "      <td>&lt;NA&gt;</td>\n",
       "      <td>&lt;NA&gt;</td>\n",
       "      <td>NaN</td>\n",
       "      <td>&lt;NA&gt;</td>\n",
       "      <td>2024-01-03 13:15:00+00:00</td>\n",
       "      <td>2024-01-03 13:15:00</td>\n",
       "      <td>2024-01-03 13:20:00</td>\n",
       "      <td>&lt;NA&gt;</td>\n",
       "      <td>0.0</td>\n",
       "    </tr>\n",
       "    <tr>\n",
       "      <th>2328</th>\n",
       "      <td>6251</td>\n",
       "      <td>17.0</td>\n",
       "      <td>&lt;NA&gt;</td>\n",
       "      <td>&lt;NA&gt;</td>\n",
       "      <td>NaN</td>\n",
       "      <td>&lt;NA&gt;</td>\n",
       "      <td>2024-01-03 13:20:00+00:00</td>\n",
       "      <td>2024-01-03 13:20:00</td>\n",
       "      <td>2024-01-03 13:25:00</td>\n",
       "      <td>&lt;NA&gt;</td>\n",
       "      <td>0.0</td>\n",
       "    </tr>\n",
       "    <tr>\n",
       "      <th>2329</th>\n",
       "      <td>6252</td>\n",
       "      <td>6.0</td>\n",
       "      <td>&lt;NA&gt;</td>\n",
       "      <td>&lt;NA&gt;</td>\n",
       "      <td>NaN</td>\n",
       "      <td>&lt;NA&gt;</td>\n",
       "      <td>2024-01-03 13:25:00+00:00</td>\n",
       "      <td>2024-01-03 13:25:00</td>\n",
       "      <td>2024-01-03 13:30:00</td>\n",
       "      <td>&lt;NA&gt;</td>\n",
       "      <td>0.0</td>\n",
       "    </tr>\n",
       "    <tr>\n",
       "      <th>1751</th>\n",
       "      <td>6253</td>\n",
       "      <td>9.0</td>\n",
       "      <td>&lt;NA&gt;</td>\n",
       "      <td>&lt;NA&gt;</td>\n",
       "      <td>NaN</td>\n",
       "      <td>&lt;NA&gt;</td>\n",
       "      <td>2024-01-03 13:35:00+00:00</td>\n",
       "      <td>2024-01-03 13:35:00</td>\n",
       "      <td>2024-01-03 13:40:00</td>\n",
       "      <td>&lt;NA&gt;</td>\n",
       "      <td>0.0</td>\n",
       "    </tr>\n",
       "  </tbody>\n",
       "</table>\n",
       "</div>"
      ],
      "text/plain": [
       "        id  overallcount  overallcatches  overalldiscards  count  \\\n",
       "2327  6249           3.0            <NA>             <NA>    NaN   \n",
       "1750  6250          10.0            <NA>             <NA>    NaN   \n",
       "2328  6251          17.0            <NA>             <NA>    NaN   \n",
       "2329  6252           6.0            <NA>             <NA>    NaN   \n",
       "1751  6253           9.0            <NA>             <NA>    NaN   \n",
       "\n",
       "      detection_confidence            start_datetime  utc_start_datetime  \\\n",
       "2327                  <NA> 2024-01-03 13:10:00+00:00 2024-01-03 13:10:00   \n",
       "1750                  <NA> 2024-01-03 13:15:00+00:00 2024-01-03 13:15:00   \n",
       "2328                  <NA> 2024-01-03 13:20:00+00:00 2024-01-03 13:20:00   \n",
       "2329                  <NA> 2024-01-03 13:25:00+00:00 2024-01-03 13:25:00   \n",
       "1751                  <NA> 2024-01-03 13:35:00+00:00 2024-01-03 13:35:00   \n",
       "\n",
       "        utc_end_datetime  weighted_count  bv_count  \n",
       "2327 2024-01-03 13:15:00            <NA>       0.0  \n",
       "1750 2024-01-03 13:20:00            <NA>       0.0  \n",
       "2328 2024-01-03 13:25:00            <NA>       0.0  \n",
       "2329 2024-01-03 13:30:00            <NA>       0.0  \n",
       "1751 2024-01-03 13:40:00            <NA>       0.0  "
      ]
     },
     "execution_count": 5,
     "metadata": {},
     "output_type": "execute_result"
    }
   ],
   "source": [
    "counts_StPatrick1.head()"
   ]
  },
  {
   "cell_type": "markdown",
   "id": "6e48540f-9ffb-471e-8767-98af02ad3959",
   "metadata": {},
   "source": [
    "##### brancol data"
   ]
  },
  {
   "cell_type": "code",
   "execution_count": 6,
   "id": "5f39e788-bba2-45e6-a995-449b71d888e5",
   "metadata": {},
   "outputs": [
    {
     "name": "stdout",
     "output_type": "stream",
     "text": [
      "{'trip_id': 'brancol_2024-01-05', 'trip_start_date': '2024-01-05', 'trip_end_date': '2024-01-26'}\n",
      "{'trip_id': 'brancol_2024-02-03', 'trip_start_date': '2024-02-03', 'trip_end_date': '2024-02-26'}\n",
      "{'trip_id': 'brancol_2024-03-05', 'trip_start_date': '2024-03-05', 'trip_end_date': '2024-04-01'}\n"
     ]
    }
   ],
   "source": [
    "# Brancol Trips\n",
    "Brancol1data = get_data(boat=\"brancol\", trip_no=0)\n",
    "Brancol2data = get_data(boat=\"brancol\", trip_no=1)\n",
    "Brancol3data = get_data(boat=\"brancol\", trip_no=2)\n",
    "\n",
    "\n",
    "counts_Brancol1 = Brancol1data[\"all_counts\"]\n",
    "counts_Brancol2 = Brancol2data[\"all_counts\"]\n",
    "counts_Brancol3 = Brancol3data[\"all_counts\"]\n",
    "\n",
    "brancol1_elog = Brancol1data[\"elogs\"]\n",
    "brancol2_elog = Brancol2data[\"elogs\"]\n",
    "brancol3_elog = Brancol3data[\"elogs\"]\n",
    "\n",
    "brancol2_bv_sets = Brancol2data[\"bv_sets\"]\n",
    "brancol1_bv_sets = Brancol1data[\"bv_sets\"]\n",
    "brancol3_bv_sets = Brancol3data[\"bv_sets\"]\n",
    "\n",
    "brancol1_bv_set_counts = Brancol1data[\"bv_set_counts\"]\n",
    "brancol2_bv_set_counts = Brancol2data[\"bv_set_counts\"]\n",
    "brancol3_bv_set_counts = Brancol3data[\"bv_set_counts\"]\n",
    "\n",
    "brancol1trip = Brancol1data[\"trip_info\"]\n",
    "brancol2trip = Brancol2data[\"trip_info\"]\n",
    "brancol3trip = Brancol3data[\"trip_info\"]"
   ]
  },
  {
   "cell_type": "markdown",
   "id": "f9d3a22d-1bd2-46ce-a981-c5fe8dbde309",
   "metadata": {},
   "source": [
    "##### "
   ]
  },
  {
   "cell_type": "markdown",
   "id": "a969c351-96cf-4fea-a46f-59852d11cfa3",
   "metadata": {},
   "source": [
    "## Elog Comparisons"
   ]
  },
  {
   "cell_type": "markdown",
   "id": "d4d50291-93db-4b21-a6f5-546e370baa62",
   "metadata": {
    "jp-MarkdownHeadingCollapsed": true
   },
   "source": [
    "##### helper functions"
   ]
  },
  {
   "cell_type": "code",
   "execution_count": 8,
   "id": "0162503c-3b52-4309-9580-838e07d09e9c",
   "metadata": {},
   "outputs": [],
   "source": [
    "# def plot_hlines(ax, df, y_val, start_col, end_col, width, color, label):\n",
    "#     ax.hlines(\n",
    "#         y = np.full(len(df), y_val),\n",
    "#         xmin = df[start_col].values.reshape((-1,1)),\n",
    "#         xmax =df[end_col].values.reshape((-1,1)),\n",
    "#         linewidth = width,colors= color, label = label\n",
    "#     )\n",
    "\n",
    "# def plot_set_hlines(ax, df, source, color_dict):\n",
    "#     if source == 'elog':\n",
    "#         set_start_col = 'systemstartsetdatetime'\n",
    "#         set_end_col = 'systemendsetdatetime'\n",
    "#         haul_start_col = 'systemstarthauldatetime'\n",
    "#         haul_end_col = 'systemendhauldatetime'\n",
    "#         y_val = 1\n",
    "\n",
    "\n",
    "#     elif source == 'bv':\n",
    "#         set_start_col = 'set_start_datetime'\n",
    "#         set_end_col = 'set_end_datetime'\n",
    "#         haul_start_col = 'haul_start_datetime'\n",
    "#         haul_end_col = 'haul_end_datetime'\n",
    "#         y_val = 0\n",
    "\n",
    "#     colors = color_dict[source]\n",
    "\n",
    "\n",
    "#     #plot_hauling\n",
    "#     plot_hlines(ax, df,y_val, haul_start_col, haul_end_col, 12, colors['haul'], 'haul')\n",
    "\n",
    "#     #plot tweener time\n",
    "#     plot_hlines(ax, df,y_val, set_end_col, haul_start_col, 12, colors['between'], 'mid')\n",
    "\n",
    "#     #plot setting\n",
    "#     plot_hlines(ax, df, y_val,  set_start_col, set_end_col, 12, colors['set'], 'set')\n",
    "\n",
    "\n",
    "# def annotate_counts(ax, df, count_col, x_col, y_value):\n",
    "#     props = dict(boxstyle='round', facecolor='white', alpha=0.35)\n",
    "#     for idx, row in df.iterrows():\n",
    "#         text = f'count: {row[count_col]}'\n",
    "#         x_value = row[x_col]\n",
    "#         ax.text( x_value,y_value , text, fontsize=10, horizontalalignment='right', bbox=props)\n",
    "\n",
    "\n",
    "#     # ax.text(.02, .9, f'r2={rvalue ** 2:.2f}, p={pvalue:.2g}, rmse={rmse:.2f}', transform=ax.transAxes)"
   ]
  },
  {
   "cell_type": "code",
   "execution_count": 9,
   "id": "ab5c2dd6-5933-4ecc-88c5-09f97ceaee23",
   "metadata": {},
   "outputs": [],
   "source": [
    "# def plot_set_bars(ax, df, source, color_dict):\n",
    "#     if source == 'elog':\n",
    "#         set_start_col = 'systemstartsetdatetime'\n",
    "#         set_end_col = 'systemendsetdatetime'\n",
    "#         haul_start_col = 'systemstarthauldatetime'\n",
    "#         haul_end_col = 'systemendhauldatetime'\n",
    "#         y_val = 1.7\n",
    "\n",
    "#     elif source == 'bv':\n",
    "#         set_start_col = 'set_start_datetime'\n",
    "#         set_end_col = 'set_end_datetime'\n",
    "#         haul_start_col = 'haul_start_datetime'\n",
    "#         haul_end_col = 'haul_end_datetime'\n",
    "#         y_val = .7\n",
    "\n",
    "#     df['set_duration'] = df[set_end_col] - df[set_start_col]\n",
    "#     df['haul_duration'] = df[haul_end_col] - df[haul_start_col]\n",
    "#     df['mid_duration'] = df[haul_start_col] - df[set_end_col]\n",
    "\n",
    "#     set_x = list(zip(df[set_start_col], df['set_duration']))\n",
    "#     haul_x = list(zip(df[haul_start_col], df['haul_duration']))\n",
    "#     mid_x = list(zip(df[set_end_col], df['mid_duration']))\n",
    "\n",
    "#     y = (y_val, .6)\n",
    "\n",
    "#     colors = color_dict[source]\n",
    "#     ax.broken_barh(mid_x, y, facecolors = colors['mid'], edgecolor = 'face')\n",
    "#     ax.broken_barh(haul_x, y, facecolors = colors['haul'], edgecolor = 'face')\n",
    "#     ax.broken_barh(set_x, y, facecolors = colors['set'], edgecolor = 'face')\n"
   ]
  },
  {
   "cell_type": "code",
   "execution_count": 10,
   "id": "ff4a3249-409d-4647-a3c9-4465886a39e0",
   "metadata": {},
   "outputs": [],
   "source": [
    "# def plot_elog_comparisons(ax, dfElog, dfBV, title, legend = True, annotate_counts = False, display_axis= True):\n",
    "\n",
    "#     # ax[0].autofmt_xdate()\n",
    "\n",
    "\n",
    "#     ax.set_yticks([1,2],('bv','elogs'))\n",
    "#     # ax.set_yticks([0,1,2],('bv','elogs',' '))\n",
    "#     fig.suptitle(titles['main'], fontsize = 20)\n",
    "\n",
    "#     # df1 = brancol1_elog\n",
    "#     # df1sets =brancol1_bv_sets\n",
    "\n",
    "\n",
    "#     if annotate_counts:\n",
    "#         dfElog['totalcount'] = dfElog['bycatchcount'].astype(int) + dfElog['catchcount'].astype(int)\n",
    "#         dfBV['retained_count'] = dfBV['retained_count'].astype('Int64')\n",
    "#         annotate_counts(ax, dfElog, 'totalcount', 'systemstarthauldatetime', 1.2)\n",
    "#         annotate_counts(ax, dfBV, 'retained_count', 'haul_start_datetime', 0.2)\n",
    "\n",
    "\n",
    "#     plot_set_bars(ax, dfElog, 'elog', color_dict)\n",
    "#     plot_set_bars(ax, dfBV, 'bv', color_dict)\n",
    "\n",
    "\n",
    "#     ax.set_title(title,x = .1, y = 1, fontsize = 9)\n",
    "\n",
    "#     # ax.autoscale()\n",
    "#     # ax[0].set_ylim(-.5,1.5)\n",
    "#     # ax[0].tick_params(axis='x', labelrotation=45)\n",
    "\n",
    "#     if legend:\n",
    "#         legend_elements = []\n",
    "#         for label, color in color_dict['elog'].items():\n",
    "\n",
    "#             legend_elements.append(Patch(facecolor=color, edgecolor=color,\n",
    "#                              label=label))\n",
    "#         ax.legend(handles = legend_elements, loc='center', bbox_to_anchor=(.5, -1), ncol = 3, fontsize = 8)\n",
    "\n",
    "\n",
    "#     #use consise date formater\n",
    "\n",
    "#     if display_axis:\n",
    "#         locator = DayLocator()\n",
    "#         formatter = mdates.ConciseDateFormatter(locator)\n",
    "#         ax.xaxis.set_major_locator(locator)\n",
    "#         ax.xaxis.set_major_formatter(formatter)\n",
    "\n",
    "#     # ax.set_ylim(-.6,1.6)"
   ]
  },
  {
   "cell_type": "code",
   "execution_count": 11,
   "id": "5dfcec8a-e85e-4a6a-a6a9-04708218a47c",
   "metadata": {},
   "outputs": [],
   "source": [
    "color_dict = {\n",
    "    \"bv\": {\"set\": \"#40a018\", \"haul\": \"#117347\", \"mid\": \"#a2c662\"},\n",
    "    \"elog\": {\"set\": \"#40a018\", \"haul\": \"#117347\", \"mid\": \"#a2c662\"},\n",
    "    # 'elog':{'set':'#648fff', 'haul':'#184EAD', 'mid':'#88ccee'}\n",
    "}"
   ]
  },
  {
   "cell_type": "markdown",
   "id": "9bdd3e54-2193-4103-bced-d9c59a3ce11c",
   "metadata": {},
   "source": [
    "# Time series classification using saved model"
   ]
  },
  {
   "cell_type": "markdown",
   "id": "e007fbbc-2a01-41fb-9968-a0c2f08bc735",
   "metadata": {
    "jp-MarkdownHeadingCollapsed": true
   },
   "source": [
    "#### helper functions"
   ]
  },
  {
   "cell_type": "code",
   "execution_count": 7,
   "id": "ef1b1e8c-51a1-4fa1-bd20-8e81bfd20b75",
   "metadata": {},
   "outputs": [],
   "source": [
    "# metrics.ConfusionMatrixDisplay(cm).plot(cmap = 'Blues',ax = ax)\n",
    "def plot_confusion_matrix(cm, ax, interp, title):\n",
    "    ax.imshow(cm, interpolation=\"nearest\", cmap=\"Blues\")\n",
    "    tick_marks = np.arange(len(interp.vocab))\n",
    "    alt_labels = [\"haul\", \"no haul\"]\n",
    "    # ax.set_xticks(tick_marks, interp.vocab, rotation=0)\n",
    "    ax.set_xticks(tick_marks, alt_labels, rotation=0)\n",
    "    # ax.set_yticks(tick_marks, interp.vocab, va = 'center', rotation=90)\n",
    "    ax.tick_params(axis=\"both\", which=\"both\", length=0, pad=3)\n",
    "    ax.set_yticks(tick_marks, alt_labels, va=\"center\", rotation=90)\n",
    "    ax.set_xlabel(\"Predicted\", fontweight=\"bold\")\n",
    "    ax.set_ylabel(\"Actual\", fontweight=\"bold\")\n",
    "    ax.set_ylim(len(interp.vocab) - 0.5, -0.5)\n",
    "    ax.grid(False)\n",
    "\n",
    "    thresh = cm.max() / 2.0\n",
    "    for i, j in itertools.product(range(cm.shape[0]), range(cm.shape[1])):\n",
    "        coeff = f\"{cm[i, j]}\"\n",
    "        ax.text(\n",
    "            j,\n",
    "            i,\n",
    "            coeff,\n",
    "            fontsize=10,\n",
    "            horizontalalignment=\"center\",\n",
    "            verticalalignment=\"center\",\n",
    "            color=\"white\" if cm[i, j] > thresh else \"black\",\n",
    "        )"
   ]
  },
  {
   "cell_type": "code",
   "execution_count": 8,
   "id": "58f1a1c2-4d30-400f-a378-ead8d3a076c6",
   "metadata": {},
   "outputs": [],
   "source": [
    "def prep_data(df):\n",
    "    df.sort_values(by=\"utc_start_datetime\", inplace=True)\n",
    "    X = df.drop(columns=\"is_haul\")\n",
    "    y = df[\"is_haul\"].astype(\"int\").to_numpy()\n",
    "\n",
    "    X.loc[:, \"utc_start_datetime\"] = X.loc[:, \"utc_start_datetime\"].astype(\"int64\")\n",
    "    X = np.atleast_3d(X).transpose(0, 2, 1)\n",
    "\n",
    "    haul_map = {1: \"haul\", 0: \"no_haul\"}\n",
    "    labeler = ReLabeler(haul_map)\n",
    "    y = labeler(y)\n",
    "    return X, y"
   ]
  },
  {
   "cell_type": "markdown",
   "id": "3490a52a-6ab9-4eb5-805a-eb49f434c783",
   "metadata": {
    "jp-MarkdownHeadingCollapsed": true
   },
   "source": [
    "#### data prep"
   ]
  },
  {
   "cell_type": "code",
   "execution_count": 9,
   "id": "a4832a9d-c9c2-4aad-86b6-88bf0f93cd1d",
   "metadata": {},
   "outputs": [
    {
     "data": {
      "text/plain": [
       "id                                   object\n",
       "count                               float64\n",
       "detection_confidence                float64\n",
       "start_datetime          datetime64[ns, UTC]\n",
       "utc_start_datetime           datetime64[ns]\n",
       "utc_end_datetime                     object\n",
       "weighted_count                      float64\n",
       "set_id                               object\n",
       "set_number                           object\n",
       "haul_start_datetime          datetime64[ns]\n",
       "haul_end_datetime            datetime64[ns]\n",
       "is_haul_bool                           bool\n",
       "is_haul                               int64\n",
       "dtype: object"
      ]
     },
     "execution_count": 9,
     "metadata": {},
     "output_type": "execute_result"
    }
   ],
   "source": [
    "Brancol1data[\"ai_sets\"].dtypes"
   ]
  },
  {
   "cell_type": "code",
   "execution_count": 10,
   "id": "1d766707-e5a8-4f0a-bdaa-6e3c20dc7701",
   "metadata": {},
   "outputs": [],
   "source": [
    "# create copies of training and testing dataframes, set utc_start_datetime as index\n",
    "# training set\n",
    "dfAiSets_Brancol1 = Brancol1data[\"ai_sets\"].copy()\n",
    "dfAiSets_Brancol1.set_index(\"utc_start_datetime\", inplace=True)\n",
    "\n",
    "# testing sets\n",
    "dfAiSets_Brancol2 = Brancol2data[\"ai_sets\"].copy()\n",
    "dfAiSets_Brancol2.set_index(\"utc_start_datetime\", inplace=True)\n",
    "\n",
    "dfAiSets_Brancol3 = Brancol3data[\"ai_sets\"].copy()\n",
    "dfAiSets_Brancol3.set_index(\"utc_start_datetime\", inplace=True)"
   ]
  },
  {
   "cell_type": "code",
   "execution_count": 11,
   "id": "89a78f95-af36-46dd-9e6e-4c929e578274",
   "metadata": {},
   "outputs": [
    {
     "data": {
      "text/html": [
       "<div>\n",
       "<style scoped>\n",
       "    .dataframe tbody tr th:only-of-type {\n",
       "        vertical-align: middle;\n",
       "    }\n",
       "\n",
       "    .dataframe tbody tr th {\n",
       "        vertical-align: top;\n",
       "    }\n",
       "\n",
       "    .dataframe thead th {\n",
       "        text-align: right;\n",
       "    }\n",
       "</style>\n",
       "<table border=\"1\" class=\"dataframe\">\n",
       "  <thead>\n",
       "    <tr style=\"text-align: right;\">\n",
       "      <th></th>\n",
       "      <th>id</th>\n",
       "      <th>count</th>\n",
       "      <th>detection_confidence</th>\n",
       "      <th>start_datetime</th>\n",
       "      <th>utc_start_datetime</th>\n",
       "      <th>utc_end_datetime</th>\n",
       "      <th>weighted_count</th>\n",
       "      <th>set_id</th>\n",
       "      <th>set_number</th>\n",
       "      <th>haul_start_datetime</th>\n",
       "      <th>haul_end_datetime</th>\n",
       "      <th>is_haul_bool</th>\n",
       "      <th>is_haul</th>\n",
       "    </tr>\n",
       "  </thead>\n",
       "  <tbody>\n",
       "    <tr>\n",
       "      <th>3042</th>\n",
       "      <td>10181</td>\n",
       "      <td>0.0</td>\n",
       "      <td>0.0</td>\n",
       "      <td>2024-02-03 16:45:00+00:00</td>\n",
       "      <td>2024-02-03 16:45:00</td>\n",
       "      <td>2024-02-03 16:50:00</td>\n",
       "      <td>0.0</td>\n",
       "      <td>None</td>\n",
       "      <td>None</td>\n",
       "      <td>NaT</td>\n",
       "      <td>NaT</td>\n",
       "      <td>False</td>\n",
       "      <td>0</td>\n",
       "    </tr>\n",
       "    <tr>\n",
       "      <th>1773</th>\n",
       "      <td>10183</td>\n",
       "      <td>0.0</td>\n",
       "      <td>0.0</td>\n",
       "      <td>2024-02-03 16:50:00+00:00</td>\n",
       "      <td>2024-02-03 16:50:00</td>\n",
       "      <td>2024-02-03 16:55:00</td>\n",
       "      <td>0.0</td>\n",
       "      <td>None</td>\n",
       "      <td>None</td>\n",
       "      <td>NaT</td>\n",
       "      <td>NaT</td>\n",
       "      <td>False</td>\n",
       "      <td>0</td>\n",
       "    </tr>\n",
       "    <tr>\n",
       "      <th>1774</th>\n",
       "      <td>10185</td>\n",
       "      <td>0.0</td>\n",
       "      <td>0.0</td>\n",
       "      <td>2024-02-03 16:55:00+00:00</td>\n",
       "      <td>2024-02-03 16:55:00</td>\n",
       "      <td>2024-02-03 17:00:00</td>\n",
       "      <td>0.0</td>\n",
       "      <td>None</td>\n",
       "      <td>None</td>\n",
       "      <td>NaT</td>\n",
       "      <td>NaT</td>\n",
       "      <td>False</td>\n",
       "      <td>0</td>\n",
       "    </tr>\n",
       "    <tr>\n",
       "      <th>1853</th>\n",
       "      <td>10219</td>\n",
       "      <td>NaN</td>\n",
       "      <td>NaN</td>\n",
       "      <td>2024-02-03 17:00:00+00:00</td>\n",
       "      <td>2024-02-03 17:00:00</td>\n",
       "      <td>2024-02-03 17:05:00</td>\n",
       "      <td>NaN</td>\n",
       "      <td>None</td>\n",
       "      <td>None</td>\n",
       "      <td>NaT</td>\n",
       "      <td>NaT</td>\n",
       "      <td>False</td>\n",
       "      <td>0</td>\n",
       "    </tr>\n",
       "    <tr>\n",
       "      <th>2215</th>\n",
       "      <td>10220</td>\n",
       "      <td>0.0</td>\n",
       "      <td>0.0</td>\n",
       "      <td>2024-02-03 17:05:00+00:00</td>\n",
       "      <td>2024-02-03 17:05:00</td>\n",
       "      <td>2024-02-03 17:10:00</td>\n",
       "      <td>0.0</td>\n",
       "      <td>None</td>\n",
       "      <td>None</td>\n",
       "      <td>NaT</td>\n",
       "      <td>NaT</td>\n",
       "      <td>False</td>\n",
       "      <td>0</td>\n",
       "    </tr>\n",
       "  </tbody>\n",
       "</table>\n",
       "</div>"
      ],
      "text/plain": [
       "         id  count  detection_confidence            start_datetime  \\\n",
       "3042  10181    0.0                   0.0 2024-02-03 16:45:00+00:00   \n",
       "1773  10183    0.0                   0.0 2024-02-03 16:50:00+00:00   \n",
       "1774  10185    0.0                   0.0 2024-02-03 16:55:00+00:00   \n",
       "1853  10219    NaN                   NaN 2024-02-03 17:00:00+00:00   \n",
       "2215  10220    0.0                   0.0 2024-02-03 17:05:00+00:00   \n",
       "\n",
       "      utc_start_datetime     utc_end_datetime  weighted_count set_id  \\\n",
       "3042 2024-02-03 16:45:00  2024-02-03 16:50:00             0.0   None   \n",
       "1773 2024-02-03 16:50:00  2024-02-03 16:55:00             0.0   None   \n",
       "1774 2024-02-03 16:55:00  2024-02-03 17:00:00             0.0   None   \n",
       "1853 2024-02-03 17:00:00  2024-02-03 17:05:00             NaN   None   \n",
       "2215 2024-02-03 17:05:00  2024-02-03 17:10:00             0.0   None   \n",
       "\n",
       "     set_number haul_start_datetime haul_end_datetime  is_haul_bool  is_haul  \n",
       "3042       None                 NaT               NaT         False        0  \n",
       "1773       None                 NaT               NaT         False        0  \n",
       "1774       None                 NaT               NaT         False        0  \n",
       "1853       None                 NaT               NaT         False        0  \n",
       "2215       None                 NaT               NaT         False        0  "
      ]
     },
     "execution_count": 11,
     "metadata": {},
     "output_type": "execute_result"
    }
   ],
   "source": [
    "Brancol2data[\"ai_sets\"].head()"
   ]
  },
  {
   "cell_type": "code",
   "execution_count": 12,
   "id": "61caa0fc-3b3a-46d2-ac14-469b7e17e58a",
   "metadata": {},
   "outputs": [],
   "source": [
    "win = \"2h\"\n",
    "agg_dict = {\"weighted_count\": \"sum\", \"count\": \"sum\"}\n",
    "keep_cols = [\"weighted_count\", \"detection_confidence\", \"count\", \"is_haul\", \"id\"]\n",
    "\n",
    "# add_rolling aggregates creates columns using rolling window functions to aggregate the columns in the agg_dict\n",
    "df_train = add_rolling_aggregates(dfAiSets_Brancol1, \"2h\", agg_dict, keep_cols)\n",
    "df_test = add_rolling_aggregates(dfAiSets_Brancol2, \"2h\", agg_dict, keep_cols)\n",
    "df_test3 = add_rolling_aggregates(dfAiSets_Brancol3, \"2h\", agg_dict, keep_cols)"
   ]
  },
  {
   "cell_type": "code",
   "execution_count": 13,
   "id": "557576cb-3d66-4dc0-b395-4d4efe321157",
   "metadata": {},
   "outputs": [],
   "source": [
    "# set id to integer\n",
    "df_train[\"id\"] = df_train[\"id\"].astype(int)\n",
    "\n",
    "df_test[\"id\"] = df_test[\"id\"].astype(int)\n",
    "df_test3[\"id\"] = df_test[\"id\"].astype(int)"
   ]
  },
  {
   "cell_type": "code",
   "execution_count": 14,
   "id": "c7091aae-61bd-43e9-84a5-e6f8b0e78916",
   "metadata": {},
   "outputs": [],
   "source": [
    "# drop nan values\n",
    "df_train.dropna(inplace=True)\n",
    "df_test.dropna(inplace=True)\n",
    "df_test3.dropna(inplace=True)"
   ]
  },
  {
   "cell_type": "code",
   "execution_count": 15,
   "id": "abb3f28a-6319-4391-a1d2-68d904a3a0d7",
   "metadata": {},
   "outputs": [
    {
     "data": {
      "text/plain": [
       "utc_start_datetime        datetime64[ns]\n",
       "weighted_count                   float64\n",
       "detection_confidence             float64\n",
       "count                            float64\n",
       "is_haul                            int64\n",
       "id                                 int64\n",
       "rolling_weighted_count           float64\n",
       "rolling_count                    float64\n",
       "dtype: object"
      ]
     },
     "execution_count": 15,
     "metadata": {},
     "output_type": "execute_result"
    }
   ],
   "source": [
    "df_test.dtypes"
   ]
  },
  {
   "cell_type": "code",
   "execution_count": 16,
   "id": "728fe635-d244-4d27-94fa-69c643d6fce5",
   "metadata": {},
   "outputs": [],
   "source": [
    "X, y = prep_data(df_train)\n",
    "X_test, y_test = prep_data(df_test)\n",
    "X_test3, y_test3 = prep_data(df_test3)"
   ]
  },
  {
   "cell_type": "markdown",
   "id": "bba81ae3-a5ef-402c-b2b1-2b9210519312",
   "metadata": {
    "jp-MarkdownHeadingCollapsed": true
   },
   "source": [
    "#### model loading"
   ]
  },
  {
   "cell_type": "code",
   "execution_count": 17,
   "id": "bec2f8c3-6b85-4943-ae58-e484b53a146e",
   "metadata": {},
   "outputs": [
    {
     "data": {
      "image/png": "[encoded data removed]",
      "text/plain": [
       "<Figure size 1600x50 with 1 Axes>"
      ]
     },
     "metadata": {},
     "output_type": "display_data"
    },
    {
     "data": {
      "text/plain": [
       "((#2984) [2268,513,358,30,1095,2123,2477,1124,1670,2956...],\n",
       " (#911) [696,207,1150,1348,1937,656,1371,2381,1174,546...],\n",
       " (#303) [1407,2673,2587,532,38,1815,1776,2971,746,1679...])"
      ]
     },
     "execution_count": 17,
     "metadata": {},
     "output_type": "execute_result"
    }
   ],
   "source": [
    "## train, test, validation splits to load into the model\n",
    "splits = get_splits(\n",
    "    y,\n",
    "    n_splits=1,\n",
    "    valid_size=0.3,\n",
    "    test_size=0.1,\n",
    "    shuffle=True,\n",
    "    balance=True,\n",
    "    stratify=True,\n",
    "    random_state=42,\n",
    "    show_plot=True,\n",
    "    verbose=True,\n",
    ")\n",
    "splits"
   ]
  },
  {
   "cell_type": "code",
   "execution_count": 18,
   "id": "6ce931bd-eafc-4489-9b08-b5d0bf194eb9",
   "metadata": {},
   "outputs": [],
   "source": [
    "## dataset and loaders\n",
    "tfms = [None, [Categorize()]]\n",
    "dsets = TSDatasets(X, y, tfms=tfms, splits=splits)\n",
    "\n",
    "bs = 10\n",
    "dls = TSDataLoaders.from_dsets(dsets.train, dsets.valid, bs=[bs, bs * 2])"
   ]
  },
  {
   "cell_type": "code",
   "execution_count": 19,
   "id": "40c72573-89c1-4a24-bb57-124df4d5bbb5",
   "metadata": {},
   "outputs": [],
   "source": [
    "# set up architecture for model\n",
    "arch, k = (RNNPlus, {\"n_layers\": 4, \"bidirectional\": True})\n",
    "model = create_model(arch, dls=dls, **k)"
   ]
  },
  {
   "cell_type": "code",
   "execution_count": 20,
   "id": "19918fb7-6d6c-490b-836e-1db143e1356d",
   "metadata": {},
   "outputs": [],
   "source": [
    "# load pre-trained model into architecture\n",
    "load_model(\"models/rnn_plus_haul_classifier.pth\", model, opt=None, with_opt=False)"
   ]
  },
  {
   "cell_type": "code",
   "execution_count": 21,
   "id": "e2b0533f-89ee-4df7-ac81-e44ce0ef2af9",
   "metadata": {},
   "outputs": [
    {
     "data": {
      "text/plain": [
       "RNNPlus(\n",
       "  (backbone): _RNN_Backbone(\n",
       "    (to_cat_embed): Identity()\n",
       "    (feature_extractor): Identity()\n",
       "    (rnn): Sequential(\n",
       "      (0): RNN(1, 100, num_layers=4, batch_first=True, bidirectional=True)\n",
       "      (1): LSTMOutput()\n",
       "    )\n",
       "    (transpose): Transpose(dims=-1, -2).contiguous()\n",
       "  )\n",
       "  (head): Sequential(\n",
       "    (0): LastStep()\n",
       "    (1): Linear(in_features=200, out_features=2, bias=True)\n",
       "  )\n",
       ")"
      ]
     },
     "execution_count": 21,
     "metadata": {},
     "output_type": "execute_result"
    }
   ],
   "source": [
    "model"
   ]
  },
  {
   "cell_type": "code",
   "execution_count": 22,
   "id": "18d2322a-d198-41ee-9507-74d7cd5f57f6",
   "metadata": {},
   "outputs": [],
   "source": [
    "# use training data to create the learner\n",
    "learner = Learner(dls, model, metrics=accuracy)"
   ]
  },
  {
   "cell_type": "code",
   "execution_count": 23,
   "id": "d641b2b2-9426-49f1-a266-d96abaa092bc",
   "metadata": {},
   "outputs": [
    {
     "data": {
      "text/plain": [
       "<fastai.learner.Learner at 0x147fdcda0>"
      ]
     },
     "execution_count": 23,
     "metadata": {},
     "output_type": "execute_result"
    }
   ],
   "source": [
    "learner.load(\"rnn_plus_haul_classifier\")"
   ]
  },
  {
   "cell_type": "markdown",
   "id": "86d0721e-72bd-4754-96dd-9004082cf756",
   "metadata": {},
   "source": [
    "#### adding test dataset, get predictions"
   ]
  },
  {
   "cell_type": "code",
   "execution_count": 24,
   "id": "6fc47be1-ca1b-4577-9505-e94891905d01",
   "metadata": {},
   "outputs": [],
   "source": [
    "# adding new test dataset\n",
    "valid_dl = dls.valid\n",
    "test_ds = valid_dl.dataset.add_test(X_test, y_test)\n",
    "test_dl = valid_dl.new(test_ds)"
   ]
  },
  {
   "cell_type": "code",
   "execution_count": 25,
   "id": "8aa22710-b6a9-40d9-83b3-0da2c4994f2d",
   "metadata": {},
   "outputs": [],
   "source": [
    "test3_ds = valid_dl.dataset.add_test(X_test3, y_test3)\n",
    "test3_dl = valid_dl.new(test3_ds)"
   ]
  },
  {
   "cell_type": "code",
   "execution_count": 26,
   "id": "8b0cd551-a1e9-478c-b93b-0d6c6bd62dca",
   "metadata": {},
   "outputs": [
    {
     "data": {
      "text/html": [
       "\n",
       "<style>\n",
       "    /* Turns off some styling */\n",
       "    progress {\n",
       "        /* gets rid of default border in Firefox and Opera. */\n",
       "        border: none;\n",
       "        /* Needs to be in here for Safari polyfill so background images work as expected. */\n",
       "        background-size: auto;\n",
       "    }\n",
       "    progress:not([value]), progress:not([value])::-webkit-progress-bar {\n",
       "        background: repeating-linear-gradient(45deg, #7e7e7e, #7e7e7e 10px, #5c5c5c 10px, #5c5c5c 20px);\n",
       "    }\n",
       "    .progress-bar-interrupted, .progress-bar-interrupted::-webkit-progress-bar {\n",
       "        background: #F44336;\n",
       "    }\n",
       "</style>\n"
      ],
      "text/plain": [
       "<IPython.core.display.HTML object>"
      ]
     },
     "metadata": {},
     "output_type": "display_data"
    },
    {
     "data": {
      "text/html": [],
      "text/plain": [
       "<IPython.core.display.HTML object>"
      ]
     },
     "metadata": {},
     "output_type": "display_data"
    }
   ],
   "source": [
    "# get predictions for trip 2\n",
    "_, temp_targets, temp_preds = learner.get_preds(\n",
    "    dl=test_dl, with_decoded=True, save_preds=None, save_targs=None\n",
    ")\n",
    "\n",
    "# decode predictions\n",
    "vocab = learner.dls.vocab\n",
    "decoded_preds = vocab[temp_preds]"
   ]
  },
  {
   "cell_type": "code",
   "execution_count": 27,
   "id": "c7db7840-dee0-495e-85d3-ad04cc789b56",
   "metadata": {},
   "outputs": [
    {
     "data": {
      "text/html": [
       "\n",
       "<style>\n",
       "    /* Turns off some styling */\n",
       "    progress {\n",
       "        /* gets rid of default border in Firefox and Opera. */\n",
       "        border: none;\n",
       "        /* Needs to be in here for Safari polyfill so background images work as expected. */\n",
       "        background-size: auto;\n",
       "    }\n",
       "    progress:not([value]), progress:not([value])::-webkit-progress-bar {\n",
       "        background: repeating-linear-gradient(45deg, #7e7e7e, #7e7e7e 10px, #5c5c5c 10px, #5c5c5c 20px);\n",
       "    }\n",
       "    .progress-bar-interrupted, .progress-bar-interrupted::-webkit-progress-bar {\n",
       "        background: #F44336;\n",
       "    }\n",
       "</style>\n"
      ],
      "text/plain": [
       "<IPython.core.display.HTML object>"
      ]
     },
     "metadata": {},
     "output_type": "display_data"
    },
    {
     "data": {
      "text/html": [],
      "text/plain": [
       "<IPython.core.display.HTML object>"
      ]
     },
     "metadata": {},
     "output_type": "display_data"
    }
   ],
   "source": [
    "# get predictions for trip 3\n",
    "_, temp_targets3, temp_preds3 = learner.get_preds(\n",
    "    dl=test3_dl, with_decoded=True, save_preds=None, save_targs=None\n",
    ")\n",
    "\n",
    "# decode predictions\n",
    "vocab = learner.dls.vocab\n",
    "decoded_preds3 = vocab[temp_preds3]"
   ]
  },
  {
   "cell_type": "code",
   "execution_count": 153,
   "id": "3de64d8d-d458-43c7-a4a8-5714b0e727ae",
   "metadata": {},
   "outputs": [
    {
     "data": {
      "text/html": [
       "<div>\n",
       "<style scoped>\n",
       "    .dataframe tbody tr th:only-of-type {\n",
       "        vertical-align: middle;\n",
       "    }\n",
       "\n",
       "    .dataframe tbody tr th {\n",
       "        vertical-align: top;\n",
       "    }\n",
       "\n",
       "    .dataframe thead th {\n",
       "        text-align: right;\n",
       "    }\n",
       "</style>\n",
       "<table border=\"1\" class=\"dataframe\">\n",
       "  <thead>\n",
       "    <tr style=\"text-align: right;\">\n",
       "      <th></th>\n",
       "      <th>utc_start_datetime</th>\n",
       "      <th>weighted_count</th>\n",
       "      <th>detection_confidence</th>\n",
       "      <th>count</th>\n",
       "      <th>is_haul</th>\n",
       "      <th>id</th>\n",
       "      <th>rolling_weighted_count</th>\n",
       "      <th>rolling_count</th>\n",
       "      <th>predictions</th>\n",
       "      <th>utc_end_datetime</th>\n",
       "      <th>haul</th>\n",
       "      <th>predict_haul</th>\n",
       "    </tr>\n",
       "  </thead>\n",
       "  <tbody>\n",
       "    <tr>\n",
       "      <th>0</th>\n",
       "      <td>2024-02-03 16:45:00</td>\n",
       "      <td>0.0</td>\n",
       "      <td>0.0</td>\n",
       "      <td>0.0</td>\n",
       "      <td>0</td>\n",
       "      <td>10181</td>\n",
       "      <td>0.0</td>\n",
       "      <td>0.0</td>\n",
       "      <td>no_haul</td>\n",
       "      <td>2024-02-03 16:50:00</td>\n",
       "      <td>no_haul</td>\n",
       "      <td>0</td>\n",
       "    </tr>\n",
       "    <tr>\n",
       "      <th>1</th>\n",
       "      <td>2024-02-03 16:50:00</td>\n",
       "      <td>0.0</td>\n",
       "      <td>0.0</td>\n",
       "      <td>0.0</td>\n",
       "      <td>0</td>\n",
       "      <td>10183</td>\n",
       "      <td>0.0</td>\n",
       "      <td>0.0</td>\n",
       "      <td>no_haul</td>\n",
       "      <td>2024-02-03 16:55:00</td>\n",
       "      <td>no_haul</td>\n",
       "      <td>0</td>\n",
       "    </tr>\n",
       "    <tr>\n",
       "      <th>2</th>\n",
       "      <td>2024-02-03 16:55:00</td>\n",
       "      <td>0.0</td>\n",
       "      <td>0.0</td>\n",
       "      <td>0.0</td>\n",
       "      <td>0</td>\n",
       "      <td>10185</td>\n",
       "      <td>0.0</td>\n",
       "      <td>0.0</td>\n",
       "      <td>no_haul</td>\n",
       "      <td>2024-02-03 17:00:00</td>\n",
       "      <td>no_haul</td>\n",
       "      <td>0</td>\n",
       "    </tr>\n",
       "    <tr>\n",
       "      <th>3</th>\n",
       "      <td>2024-02-03 17:05:00</td>\n",
       "      <td>0.0</td>\n",
       "      <td>0.0</td>\n",
       "      <td>0.0</td>\n",
       "      <td>0</td>\n",
       "      <td>10220</td>\n",
       "      <td>0.0</td>\n",
       "      <td>0.0</td>\n",
       "      <td>no_haul</td>\n",
       "      <td>2024-02-03 17:10:00</td>\n",
       "      <td>no_haul</td>\n",
       "      <td>0</td>\n",
       "    </tr>\n",
       "    <tr>\n",
       "      <th>4</th>\n",
       "      <td>2024-02-03 17:10:00</td>\n",
       "      <td>0.0</td>\n",
       "      <td>0.0</td>\n",
       "      <td>0.0</td>\n",
       "      <td>0</td>\n",
       "      <td>10221</td>\n",
       "      <td>0.0</td>\n",
       "      <td>0.0</td>\n",
       "      <td>no_haul</td>\n",
       "      <td>2024-02-03 17:15:00</td>\n",
       "      <td>no_haul</td>\n",
       "      <td>0</td>\n",
       "    </tr>\n",
       "  </tbody>\n",
       "</table>\n",
       "</div>"
      ],
      "text/plain": [
       "   utc_start_datetime  weighted_count  detection_confidence  count  is_haul  \\\n",
       "0 2024-02-03 16:45:00             0.0                   0.0    0.0        0   \n",
       "1 2024-02-03 16:50:00             0.0                   0.0    0.0        0   \n",
       "2 2024-02-03 16:55:00             0.0                   0.0    0.0        0   \n",
       "3 2024-02-03 17:05:00             0.0                   0.0    0.0        0   \n",
       "4 2024-02-03 17:10:00             0.0                   0.0    0.0        0   \n",
       "\n",
       "      id  rolling_weighted_count  rolling_count predictions  \\\n",
       "0  10181                     0.0            0.0     no_haul   \n",
       "1  10183                     0.0            0.0     no_haul   \n",
       "2  10185                     0.0            0.0     no_haul   \n",
       "3  10220                     0.0            0.0     no_haul   \n",
       "4  10221                     0.0            0.0     no_haul   \n",
       "\n",
       "     utc_end_datetime     haul  predict_haul  \n",
       "0 2024-02-03 16:50:00  no_haul             0  \n",
       "1 2024-02-03 16:55:00  no_haul             0  \n",
       "2 2024-02-03 17:00:00  no_haul             0  \n",
       "3 2024-02-03 17:10:00  no_haul             0  \n",
       "4 2024-02-03 17:15:00  no_haul             0  "
      ]
     },
     "execution_count": 153,
     "metadata": {},
     "output_type": "execute_result"
    }
   ],
   "source": [
    "# creating a df out of trip 2 predictions to join to the original trip 2 test data set\n",
    "pre_dict = {\"predictions\": decoded_preds}\n",
    "df_predict = pd.DataFrame(pre_dict)\n",
    "\n",
    "df_results = pd.concat([df_test.reset_index(drop=True), df_predict.reset_index(drop=True)], axis=1)\n",
    "df_results[\"utc_start_datetime\"] = pd.to_datetime(df_results[\"utc_start_datetime\"])\n",
    "df_results[\"utc_end_datetime\"] = df_results[\"utc_start_datetime\"] + pd.Timedelta(minutes=5)\n",
    "df_results[\"haul\"] = df_results[\"is_haul\"].map({1: \"haul\", 0: \"no_haul\"})\n",
    "df_results[\"predict_haul\"] = df_results[\"predictions\"].map({\"haul\": 1, \"no_haul\": 0})\n",
    "\n",
    "df_results.head()"
   ]
  },
  {
   "cell_type": "code",
   "execution_count": 150,
   "id": "e76656e2-5170-4c6e-b27b-de198742ffcd",
   "metadata": {},
   "outputs": [
    {
     "data": {
      "text/html": [
       "<div>\n",
       "<style scoped>\n",
       "    .dataframe tbody tr th:only-of-type {\n",
       "        vertical-align: middle;\n",
       "    }\n",
       "\n",
       "    .dataframe tbody tr th {\n",
       "        vertical-align: top;\n",
       "    }\n",
       "\n",
       "    .dataframe thead th {\n",
       "        text-align: right;\n",
       "    }\n",
       "</style>\n",
       "<table border=\"1\" class=\"dataframe\">\n",
       "  <thead>\n",
       "    <tr style=\"text-align: right;\">\n",
       "      <th></th>\n",
       "      <th>utc_start_datetime</th>\n",
       "      <th>weighted_count</th>\n",
       "      <th>detection_confidence</th>\n",
       "      <th>count</th>\n",
       "      <th>is_haul</th>\n",
       "      <th>id</th>\n",
       "      <th>rolling_weighted_count</th>\n",
       "      <th>rolling_count</th>\n",
       "      <th>predictions</th>\n",
       "      <th>utc_end_datetime</th>\n",
       "      <th>haul</th>\n",
       "      <th>predict_haul</th>\n",
       "    </tr>\n",
       "  </thead>\n",
       "  <tbody>\n",
       "    <tr>\n",
       "      <th>0</th>\n",
       "      <td>2024-03-05 15:20:00</td>\n",
       "      <td>0.0</td>\n",
       "      <td>0.0</td>\n",
       "      <td>0.0</td>\n",
       "      <td>0</td>\n",
       "      <td>10181.0</td>\n",
       "      <td>0.0</td>\n",
       "      <td>0.0</td>\n",
       "      <td>no_haul</td>\n",
       "      <td>2024-03-05 15:25:00</td>\n",
       "      <td>no_haul</td>\n",
       "      <td>0</td>\n",
       "    </tr>\n",
       "    <tr>\n",
       "      <th>1</th>\n",
       "      <td>2024-03-05 15:25:00</td>\n",
       "      <td>0.0</td>\n",
       "      <td>0.0</td>\n",
       "      <td>0.0</td>\n",
       "      <td>0</td>\n",
       "      <td>10183.0</td>\n",
       "      <td>0.0</td>\n",
       "      <td>0.0</td>\n",
       "      <td>no_haul</td>\n",
       "      <td>2024-03-05 15:30:00</td>\n",
       "      <td>no_haul</td>\n",
       "      <td>0</td>\n",
       "    </tr>\n",
       "    <tr>\n",
       "      <th>2</th>\n",
       "      <td>2024-03-05 15:30:00</td>\n",
       "      <td>0.0</td>\n",
       "      <td>0.0</td>\n",
       "      <td>0.0</td>\n",
       "      <td>0</td>\n",
       "      <td>10185.0</td>\n",
       "      <td>0.0</td>\n",
       "      <td>0.0</td>\n",
       "      <td>no_haul</td>\n",
       "      <td>2024-03-05 15:35:00</td>\n",
       "      <td>no_haul</td>\n",
       "      <td>0</td>\n",
       "    </tr>\n",
       "    <tr>\n",
       "      <th>3</th>\n",
       "      <td>2024-03-05 15:35:00</td>\n",
       "      <td>0.0</td>\n",
       "      <td>0.0</td>\n",
       "      <td>0.0</td>\n",
       "      <td>0</td>\n",
       "      <td>10219.0</td>\n",
       "      <td>0.0</td>\n",
       "      <td>0.0</td>\n",
       "      <td>no_haul</td>\n",
       "      <td>2024-03-05 15:40:00</td>\n",
       "      <td>no_haul</td>\n",
       "      <td>0</td>\n",
       "    </tr>\n",
       "    <tr>\n",
       "      <th>4</th>\n",
       "      <td>2024-03-05 15:40:00</td>\n",
       "      <td>0.0</td>\n",
       "      <td>0.0</td>\n",
       "      <td>0.0</td>\n",
       "      <td>0</td>\n",
       "      <td>10220.0</td>\n",
       "      <td>0.0</td>\n",
       "      <td>0.0</td>\n",
       "      <td>no_haul</td>\n",
       "      <td>2024-03-05 15:45:00</td>\n",
       "      <td>no_haul</td>\n",
       "      <td>0</td>\n",
       "    </tr>\n",
       "  </tbody>\n",
       "</table>\n",
       "</div>"
      ],
      "text/plain": [
       "   utc_start_datetime  weighted_count  detection_confidence  count  is_haul  \\\n",
       "0 2024-03-05 15:20:00             0.0                   0.0    0.0        0   \n",
       "1 2024-03-05 15:25:00             0.0                   0.0    0.0        0   \n",
       "2 2024-03-05 15:30:00             0.0                   0.0    0.0        0   \n",
       "3 2024-03-05 15:35:00             0.0                   0.0    0.0        0   \n",
       "4 2024-03-05 15:40:00             0.0                   0.0    0.0        0   \n",
       "\n",
       "        id  rolling_weighted_count  rolling_count predictions  \\\n",
       "0  10181.0                     0.0            0.0     no_haul   \n",
       "1  10183.0                     0.0            0.0     no_haul   \n",
       "2  10185.0                     0.0            0.0     no_haul   \n",
       "3  10219.0                     0.0            0.0     no_haul   \n",
       "4  10220.0                     0.0            0.0     no_haul   \n",
       "\n",
       "     utc_end_datetime     haul  predict_haul  \n",
       "0 2024-03-05 15:25:00  no_haul             0  \n",
       "1 2024-03-05 15:30:00  no_haul             0  \n",
       "2 2024-03-05 15:35:00  no_haul             0  \n",
       "3 2024-03-05 15:40:00  no_haul             0  \n",
       "4 2024-03-05 15:45:00  no_haul             0  "
      ]
     },
     "execution_count": 150,
     "metadata": {},
     "output_type": "execute_result"
    }
   ],
   "source": [
    "# creating a df out of trip 3 predictions to join to the original trip 3 test data set\n",
    "pre_dict3 = {\"predictions\": decoded_preds3}\n",
    "df_predict3 = pd.DataFrame(pre_dict3)\n",
    "\n",
    "df_results3 = pd.concat(\n",
    "    [df_test3.reset_index(drop=True), df_predict3.reset_index(drop=True)], axis=1\n",
    ")\n",
    "df_results3[\"utc_start_datetime\"] = pd.to_datetime(df_results3[\"utc_start_datetime\"])\n",
    "df_results3[\"utc_end_datetime\"] = df_results3[\"utc_start_datetime\"] + pd.Timedelta(minutes=5)\n",
    "df_results3[\"haul\"] = df_results3[\"is_haul\"].map({1: \"haul\", 0: \"no_haul\"})\n",
    "df_results3[\"predict_haul\"] = df_results3[\"predictions\"].map({\"haul\": 1, \"no_haul\": 0})\n",
    "\n",
    "df_results3.head()"
   ]
  },
  {
   "cell_type": "code",
   "execution_count": 30,
   "id": "70796b2b-7134-450c-89f9-10dd8633a142",
   "metadata": {},
   "outputs": [
    {
     "data": {
      "text/plain": [
       "utc_start_datetime        datetime64[ns]\n",
       "weighted_count                   float64\n",
       "detection_confidence             float64\n",
       "count                            float64\n",
       "is_haul                            int64\n",
       "id                                 int64\n",
       "rolling_weighted_count           float64\n",
       "rolling_count                    float64\n",
       "predictions                       object\n",
       "utc_end_datetime          datetime64[ns]\n",
       "haul                              object\n",
       "predict_haul                       int64\n",
       "dtype: object"
      ]
     },
     "execution_count": 30,
     "metadata": {},
     "output_type": "execute_result"
    }
   ],
   "source": [
    "df_results.dtypes"
   ]
  },
  {
   "cell_type": "markdown",
   "id": "dfc6a9c8-6c8a-4ba1-b97a-26be43ff7249",
   "metadata": {
    "jp-MarkdownHeadingCollapsed": true
   },
   "source": [
    "## plot confusion matrix"
   ]
  },
  {
   "cell_type": "code",
   "execution_count": 32,
   "id": "2ae46f7e-3491-4529-a6b9-ff68f6fbbfcd",
   "metadata": {},
   "outputs": [
    {
     "data": {
      "text/html": [
       "\n",
       "<style>\n",
       "    /* Turns off some styling */\n",
       "    progress {\n",
       "        /* gets rid of default border in Firefox and Opera. */\n",
       "        border: none;\n",
       "        /* Needs to be in here for Safari polyfill so background images work as expected. */\n",
       "        background-size: auto;\n",
       "    }\n",
       "    progress:not([value]), progress:not([value])::-webkit-progress-bar {\n",
       "        background: repeating-linear-gradient(45deg, #7e7e7e, #7e7e7e 10px, #5c5c5c 10px, #5c5c5c 20px);\n",
       "    }\n",
       "    .progress-bar-interrupted, .progress-bar-interrupted::-webkit-progress-bar {\n",
       "        background: #F44336;\n",
       "    }\n",
       "</style>\n"
      ],
      "text/plain": [
       "<IPython.core.display.HTML object>"
      ]
     },
     "metadata": {},
     "output_type": "display_data"
    },
    {
     "data": {
      "text/html": [],
      "text/plain": [
       "<IPython.core.display.HTML object>"
      ]
     },
     "metadata": {},
     "output_type": "display_data"
    },
    {
     "data": {
      "text/html": [
       "\n",
       "<style>\n",
       "    /* Turns off some styling */\n",
       "    progress {\n",
       "        /* gets rid of default border in Firefox and Opera. */\n",
       "        border: none;\n",
       "        /* Needs to be in here for Safari polyfill so background images work as expected. */\n",
       "        background-size: auto;\n",
       "    }\n",
       "    progress:not([value]), progress:not([value])::-webkit-progress-bar {\n",
       "        background: repeating-linear-gradient(45deg, #7e7e7e, #7e7e7e 10px, #5c5c5c 10px, #5c5c5c 20px);\n",
       "    }\n",
       "    .progress-bar-interrupted, .progress-bar-interrupted::-webkit-progress-bar {\n",
       "        background: #F44336;\n",
       "    }\n",
       "</style>\n"
      ],
      "text/plain": [
       "<IPython.core.display.HTML object>"
      ]
     },
     "metadata": {},
     "output_type": "display_data"
    },
    {
     "data": {
      "text/html": [],
      "text/plain": [
       "<IPython.core.display.HTML object>"
      ]
     },
     "metadata": {},
     "output_type": "display_data"
    }
   ],
   "source": [
    "# trip 2 interpretations and confusion matrix\n",
    "interp2 = ClassificationInterpretation.from_learner(learner, dl=test_dl)\n",
    "cm2 = interp2.confusion_matrix()"
   ]
  },
  {
   "cell_type": "code",
   "execution_count": 33,
   "id": "e0bbeb3d-0d21-45aa-9674-a64ac846d610",
   "metadata": {},
   "outputs": [
    {
     "data": {
      "text/html": [
       "\n",
       "<style>\n",
       "    /* Turns off some styling */\n",
       "    progress {\n",
       "        /* gets rid of default border in Firefox and Opera. */\n",
       "        border: none;\n",
       "        /* Needs to be in here for Safari polyfill so background images work as expected. */\n",
       "        background-size: auto;\n",
       "    }\n",
       "    progress:not([value]), progress:not([value])::-webkit-progress-bar {\n",
       "        background: repeating-linear-gradient(45deg, #7e7e7e, #7e7e7e 10px, #5c5c5c 10px, #5c5c5c 20px);\n",
       "    }\n",
       "    .progress-bar-interrupted, .progress-bar-interrupted::-webkit-progress-bar {\n",
       "        background: #F44336;\n",
       "    }\n",
       "</style>\n"
      ],
      "text/plain": [
       "<IPython.core.display.HTML object>"
      ]
     },
     "metadata": {},
     "output_type": "display_data"
    },
    {
     "data": {
      "text/html": [],
      "text/plain": [
       "<IPython.core.display.HTML object>"
      ]
     },
     "metadata": {},
     "output_type": "display_data"
    },
    {
     "data": {
      "text/html": [
       "\n",
       "<style>\n",
       "    /* Turns off some styling */\n",
       "    progress {\n",
       "        /* gets rid of default border in Firefox and Opera. */\n",
       "        border: none;\n",
       "        /* Needs to be in here for Safari polyfill so background images work as expected. */\n",
       "        background-size: auto;\n",
       "    }\n",
       "    progress:not([value]), progress:not([value])::-webkit-progress-bar {\n",
       "        background: repeating-linear-gradient(45deg, #7e7e7e, #7e7e7e 10px, #5c5c5c 10px, #5c5c5c 20px);\n",
       "    }\n",
       "    .progress-bar-interrupted, .progress-bar-interrupted::-webkit-progress-bar {\n",
       "        background: #F44336;\n",
       "    }\n",
       "</style>\n"
      ],
      "text/plain": [
       "<IPython.core.display.HTML object>"
      ]
     },
     "metadata": {},
     "output_type": "display_data"
    },
    {
     "data": {
      "text/html": [],
      "text/plain": [
       "<IPython.core.display.HTML object>"
      ]
     },
     "metadata": {},
     "output_type": "display_data"
    }
   ],
   "source": [
    "# trip 3 interpretations and confusion matrix\n",
    "interp3 = ClassificationInterpretation.from_learner(learner, dl=test3_dl)\n",
    "cm3 = interp3.confusion_matrix()"
   ]
  },
  {
   "cell_type": "code",
   "execution_count": 35,
   "id": "7e849106-b128-48a4-8c0b-9552fc8b4235",
   "metadata": {},
   "outputs": [],
   "source": [
    "def get_metrics(cm):\n",
    "    TP = cm[0][0]  # true positives\n",
    "    FN = cm[0][1]  # false negatives\n",
    "    FP = cm[1][0]  # false positives\n",
    "    TN = cm[1][1]  # true negatives\n",
    "    recall = TP / sum(cm[0])\n",
    "    precision = TP / (TP + FP)\n",
    "    accuracy = (TP + TN) / sum(sum(cm))\n",
    "\n",
    "    print(f\"recall: {recall} | precision: {precision} | accuracy: {accuracy}\")\n",
    "\n",
    "    return recall, precision, accuracy"
   ]
  },
  {
   "cell_type": "code",
   "execution_count": 36,
   "id": "ab1b9a60-d12b-4ea7-bed9-e70e938aa109",
   "metadata": {},
   "outputs": [
    {
     "name": "stdout",
     "output_type": "stream",
     "text": [
      "recall: 0.70242656449553 | precision: 0.8076358296622613 | accuracy: 0.8726382085374388\n"
     ]
    }
   ],
   "source": [
    "recall2, precision2, accuracy2 = get_metrics(cm2)"
   ]
  },
  {
   "cell_type": "code",
   "execution_count": 37,
   "id": "a530c0eb-9462-4419-b1c0-d934adf10f45",
   "metadata": {},
   "outputs": [
    {
     "name": "stdout",
     "output_type": "stream",
     "text": [
      "recall: 0.4696969696969697 | precision: 0.8254437869822485 | accuracy: 0.8717860815906754\n"
     ]
    }
   ],
   "source": [
    "recall3, precision3, accuracy3 = get_metrics(cm3)"
   ]
  },
  {
   "cell_type": "code",
   "execution_count": 38,
   "id": "afb6292c-81f2-46ed-b546-509109942cc3",
   "metadata": {},
   "outputs": [
    {
     "name": "stdout",
     "output_type": "stream",
     "text": [
      "recall: 0.6020334059549746 | precision: 0.8135426889106968 | accuracy: 0.8722077922077922\n"
     ]
    }
   ],
   "source": [
    "recall, precision, accuracy = get_metrics(cm2 + cm3)"
   ]
  },
  {
   "cell_type": "code",
   "execution_count": 39,
   "id": "407ead9a-ff6a-4f75-b2f3-a0a7f27f7b1b",
   "metadata": {},
   "outputs": [
    {
     "data": {
      "image/png": "[encoded data removed]",
      "text/plain": [
       "<Figure size 540x270 with 2 Axes>"
      ]
     },
     "metadata": {},
     "output_type": "display_data"
    }
   ],
   "source": [
    "plt.rc(\"axes\", labelsize=9)\n",
    "fig, ax = plt.subplots(1, 2, figsize=(3.6, 1.8), dpi=150)\n",
    "plt.tight_layout()\n",
    "\n",
    "plt.subplots_adjust(wspace=0.6)  # Increase the width padding between subplots\n",
    "cm_dict = {\"a\": {\"cm\": cm2, \"interp\": interp2}, \"b\": {\"cm\": cm3, \"interp\": interp3}}\n",
    "\n",
    "for i, (label, cm) in enumerate(cm_dict.items()):\n",
    "    plot_confusion_matrix(cm[\"cm\"], ax[i], cm[\"interp\"], \"confusion matrix\")\n",
    "    # plot_confusion_matrix(cm3, ax[i], interp3, 'confusion matrix')\n",
    "    ax[i].tick_params(axis=\"x\", labelsize=9)  # Change x ticks font size to 12\n",
    "    ax[i].tick_params(axis=\"y\", labelsize=9, left=False)  # Change y ticks font size to 12\n",
    "\n",
    "    ax[i].text(\n",
    "        -0.3,\n",
    "        1.2,\n",
    "        f\"({label})\",\n",
    "        transform=ax[i].transAxes,\n",
    "        fontsize=9,\n",
    "        fontweight=\"bold\",\n",
    "        va=\"top\",\n",
    "        ha=\"left\",\n",
    "    )\n",
    "\n",
    "\n",
    "# ax[1].tick_params(axis='x', labelsize=12)  # Change x ticks font size to 12\n",
    "# ax[1].tick_params(axis='y', labelsize=12, left = False)  # Change y ticks font size to 12\n",
    "sns.despine(trim=True, left=True, bottom=True)\n",
    "\n",
    "\n",
    "plt.savefig(\"chart_pngs/confusion_matrix2.png\", bbox_inches=\"tight\")"
   ]
  },
  {
   "cell_type": "markdown",
   "id": "0033b71e-345b-4a13-a791-0afd898600c2",
   "metadata": {},
   "source": [
    "## haul prediction plots"
   ]
  },
  {
   "cell_type": "markdown",
   "id": "8cacba25-24d0-4872-8dde-981574bf04ee",
   "metadata": {},
   "source": [
    "#### helper functions"
   ]
  },
  {
   "cell_type": "code",
   "execution_count": 103,
   "id": "97f9ad5a-d500-4de8-82d8-6824d14892e9",
   "metadata": {},
   "outputs": [],
   "source": [
    "def plot_event_bars(\n",
    "    df,\n",
    "    ax,\n",
    "    label,\n",
    "    datetime_col,\n",
    "    duration=None,\n",
    "    end_col=None,\n",
    "    duration_col=None,\n",
    "    y_val=0.7,\n",
    "    y_height=0.6,\n",
    "    color=\"#43aa99\",\n",
    "):\n",
    "    if duration:\n",
    "        x_duration = np.full(len(df), pd.Timedelta(duration))\n",
    "    elif end_col:\n",
    "        df[\"duration\"] = df[end_col] - df[datetime_col]\n",
    "        x_duration = df[\"duration\"]\n",
    "    elif duration_col:\n",
    "        x_duration = df[duration_col]\n",
    "\n",
    "    x = list(zip(df[datetime_col], x_duration))\n",
    "    y = (y_val, y_height)\n",
    "\n",
    "    plot = ax.broken_barh(x, y, facecolors=color, edgecolor=\"face\", label=label, clip_on=False)\n",
    "\n",
    "    return plot\n"
   ]
  },
  {
   "cell_type": "code",
   "execution_count": 56,
   "id": "44e6312c-d1b4-4f83-98d8-92b5181d345a",
   "metadata": {},
   "outputs": [],
   "source": [
    "# def plot_event_vspan(df_events, ax, color_dict):\n",
    "#     for category, color in color_dict.items():\n",
    "#         df_category = df_events.loc[df_events['category']==category]\n",
    "\n",
    "#         for idx, row in df_category.iterrows():\n",
    "#             ax.axvspan(*mdates.date2num([row['start_time'], row['end_time']]), color=color, edgecolor = 'face',alpha=0.5)"
   ]
  },
  {
   "cell_type": "code",
   "execution_count": 66,
   "id": "30643d5e-0f06-4180-9e8c-54bff78c936d",
   "metadata": {},
   "outputs": [],
   "source": [
    "def plot_set_vspan(df_sets, ax, color=\"#a2c662\"):\n",
    "    for idx, row in df_sets.iterrows():\n",
    "        ax.axvspan(\n",
    "            *mdates.date2num([row[\"haul_start_datetime\"], row[\"haul_end_datetime\"]]),\n",
    "            color=color,\n",
    "            edgecolor=\"#40a018\",\n",
    "            alpha=0.5,\n",
    "        )\n",
    "\n",
    "\n",
    "def get_video_times(vessel, trip_info):\n",
    "    trip_start_date = trip_info[\"trip_start_date\"]\n",
    "    trip_end_date = trip_info[\"trip_end_date\"]\n",
    "\n",
    "    sql = f\"\"\"\n",
    "         SELECT\n",
    "            v.start_datetime,\n",
    "            v.cam_name\n",
    "\n",
    "            from {vessel}_v1_video_files v\n",
    "            where start_datetime > '{trip_start_date}' and start_datetime < '{trip_end_date}'\n",
    "    \"\"\"\n",
    "    video_df = wr.athena.read_sql_query(sql, database=\"tnc_edge\")\n",
    "    video_df.start_datetime = pd.to_datetime(video_df.start_datetime)\n",
    "    video_df[\"utc_start_datetime\"] = video_df[\"start_datetime\"].dt.tz_convert(None)\n",
    "    # video_df['utc_end_datetime'] = video_df['utc_start_datetime'] + pd.Timedelta(minutes = 5)\n",
    "    return video_df"
   ]
  },
  {
   "cell_type": "code",
   "execution_count": 58,
   "id": "52144f3d-2950-471b-b760-3f438ab412d4",
   "metadata": {},
   "outputs": [],
   "source": [
    "# def annotate_notes(ax, df, text_col, text_xy = (-60, 30)):\n",
    "#     arrowprops=dict(arrowstyle=\"->\",connectionstyle=\"arc3,rad=.2\", color = 'black')\n",
    "#     y_var = 20\n",
    "#     annots = []\n",
    "#     bbox_args = dict(boxstyle='round', facecolor='black', alpha=0.35)\n",
    "#     for idx, row in df.iterrows():\n",
    "#         # y_var = x_vars[n]\n",
    "#         text = row[text_col]\n",
    "#         data_xy = (row['start_time'], 1.7)\n",
    "\n",
    "#         an = ax.annotate(\n",
    "#             text,\n",
    "#             xy=data_xy, xycoords='data',\n",
    "#             xytext=text_xy, textcoords='offset points',\n",
    "#             arrowprops=arrowprops,\n",
    "#             bbox = bbox_args,\n",
    "#             color = 'white'\n",
    "#         )\n",
    "\n",
    "#         annots.append(an)\n",
    "\n",
    "#         x, y = text_xy\n",
    "\n",
    "#         y = y+y_var\n",
    "#         y_var = y_var * -1\n",
    "\n",
    "#         text_xy = (x,y)\n",
    "\n",
    "#     return annots"
   ]
  },
  {
   "cell_type": "markdown",
   "id": "0898eefc-bb6d-494c-b1b2-6ece86cef6ba",
   "metadata": {},
   "source": [
    "### haul predictions plot for trip 2 and trip 3"
   ]
  },
  {
   "cell_type": "code",
   "execution_count": 40,
   "id": "06adae97-b053-4dec-af3e-69e979197d3b",
   "metadata": {},
   "outputs": [],
   "source": [
    "sns.set_style(\"whitegrid\", {\"axes.grid\": False})"
   ]
  },
  {
   "cell_type": "code",
   "execution_count": 41,
   "id": "487d1e09-3926-4c57-94b8-8ae3e786ac83",
   "metadata": {},
   "outputs": [],
   "source": [
    "ai_countsBrancol2 = Brancol2data[\"ai_sets\"]"
   ]
  },
  {
   "cell_type": "code",
   "execution_count": 42,
   "id": "a4670ff6-2755-4b42-b81e-ab5f817bbd5c",
   "metadata": {},
   "outputs": [],
   "source": [
    "bvCounts_Brancol2 = Brancol2data[\"all_counts\"]"
   ]
  },
  {
   "cell_type": "code",
   "execution_count": 43,
   "id": "0cb6ed4a-a58b-4500-b96b-ea0cee445d41",
   "metadata": {},
   "outputs": [
    {
     "data": {
      "text/html": [
       "<svg  width=\"1045\" height=\"55\"><rect x=\"0\" y=\"0\" width=\"55\" height=\"55\" style=\"fill:#184ead;stroke-width:2;stroke:rgb(255,255,255)\"/><rect x=\"55\" y=\"0\" width=\"55\" height=\"55\" style=\"fill:#648fff;stroke-width:2;stroke:rgb(255,255,255)\"/><rect x=\"110\" y=\"0\" width=\"55\" height=\"55\" style=\"fill:#88ccee;stroke-width:2;stroke:rgb(255,255,255)\"/><rect x=\"165\" y=\"0\" width=\"55\" height=\"55\" style=\"fill:#ae9ef7;stroke-width:2;stroke:rgb(255,255,255)\"/><rect x=\"220\" y=\"0\" width=\"55\" height=\"55\" style=\"fill:#6844d5;stroke-width:2;stroke:rgb(255,255,255)\"/><rect x=\"275\" y=\"0\" width=\"55\" height=\"55\" style=\"fill:#332288;stroke-width:2;stroke:rgb(255,255,255)\"/><rect x=\"330\" y=\"0\" width=\"55\" height=\"55\" style=\"fill:#c52dac;stroke-width:2;stroke:rgb(255,255,255)\"/><rect x=\"385\" y=\"0\" width=\"55\" height=\"55\" style=\"fill:#ef4341;stroke-width:2;stroke:rgb(255,255,255)\"/><rect x=\"440\" y=\"0\" width=\"55\" height=\"55\" style=\"fill:#84164c;stroke-width:2;stroke:rgb(255,255,255)\"/><rect x=\"495\" y=\"0\" width=\"55\" height=\"55\" style=\"fill:#cb6577;stroke-width:2;stroke:rgb(255,255,255)\"/><rect x=\"550\" y=\"0\" width=\"55\" height=\"55\" style=\"fill:#ff6100;stroke-width:2;stroke:rgb(255,255,255)\"/><rect x=\"605\" y=\"0\" width=\"55\" height=\"55\" style=\"fill:#90550f;stroke-width:2;stroke:rgb(255,255,255)\"/><rect x=\"660\" y=\"0\" width=\"55\" height=\"55\" style=\"fill:#c78d1b;stroke-width:2;stroke:rgb(255,255,255)\"/><rect x=\"715\" y=\"0\" width=\"55\" height=\"55\" style=\"fill:#ffb003;stroke-width:2;stroke:rgb(255,255,255)\"/><rect x=\"770\" y=\"0\" width=\"55\" height=\"55\" style=\"fill:#ddcc77;stroke-width:2;stroke:rgb(255,255,255)\"/><rect x=\"825\" y=\"0\" width=\"55\" height=\"55\" style=\"fill:#a2c662;stroke-width:2;stroke:rgb(255,255,255)\"/><rect x=\"880\" y=\"0\" width=\"55\" height=\"55\" style=\"fill:#40a018;stroke-width:2;stroke:rgb(255,255,255)\"/><rect x=\"935\" y=\"0\" width=\"55\" height=\"55\" style=\"fill:#117347;stroke-width:2;stroke:rgb(255,255,255)\"/><rect x=\"990\" y=\"0\" width=\"55\" height=\"55\" style=\"fill:#43aa99;stroke-width:2;stroke:rgb(255,255,255)\"/></svg>"
      ],
      "text/plain": [
       "[(0.09411764705882353, 0.3058823529411765, 0.6784313725490196),\n",
       " (0.39215686274509803, 0.5607843137254902, 1.0),\n",
       " (0.5333333333333333, 0.8, 0.9333333333333333),\n",
       " (0.6823529411764706, 0.6196078431372549, 0.9686274509803922),\n",
       " (0.40784313725490196, 0.26666666666666666, 0.8352941176470589),\n",
       " (0.2, 0.13333333333333333, 0.5333333333333333),\n",
       " (0.7725490196078432, 0.17647058823529413, 0.6745098039215687),\n",
       " (0.9372549019607843, 0.2627450980392157, 0.2549019607843137),\n",
       " (0.5176470588235295, 0.08627450980392157, 0.2980392156862745),\n",
       " (0.796078431372549, 0.396078431372549, 0.4666666666666667),\n",
       " (1.0, 0.3803921568627451, 0.0),\n",
       " (0.5647058823529412, 0.3333333333333333, 0.058823529411764705),\n",
       " (0.7803921568627451, 0.5529411764705883, 0.10588235294117647),\n",
       " (1.0, 0.6901960784313725, 0.011764705882352941),\n",
       " (0.8666666666666667, 0.8, 0.4666666666666667),\n",
       " (0.6352941176470588, 0.7764705882352941, 0.3843137254901961),\n",
       " (0.25098039215686274, 0.6274509803921569, 0.09411764705882353),\n",
       " (0.06666666666666667, 0.45098039215686275, 0.2784313725490196),\n",
       " (0.2627450980392157, 0.6666666666666666, 0.6)]"
      ]
     },
     "execution_count": 43,
     "metadata": {},
     "output_type": "execute_result"
    }
   ],
   "source": [
    "colors"
   ]
  },
  {
   "cell_type": "code",
   "execution_count": 104,
   "id": "9823cc7a-d9f7-4b43-855b-b646099030c4",
   "metadata": {},
   "outputs": [
    {
     "data": {
      "image/png": "[encoded data removed]",
      "text/plain": [
       "<Figure size 750x250 with 2 Axes>"
      ]
     },
     "metadata": {},
     "output_type": "display_data"
    }
   ],
   "source": [
    "# Trip 2 predictions plot\n",
    "\n",
    "# setting style, font sizes, and fig size\n",
    "sns.set_style(\"whitegrid\", {\"axes.grid\": False})\n",
    "sns.set_theme(style=\"ticks\")\n",
    "figsize = (7.5, 2.5)\n",
    "\n",
    "plt.rc(\"xtick\", labelsize=8)\n",
    "plt.rc(\"ytick\", labelsize=8)\n",
    "plt.rc(\"axes\", labelsize=8)\n",
    "\n",
    "# set up datasets to be used\n",
    "bv_sets = brancol2_bv_sets\n",
    "elog = brancol2_elog\n",
    "results = df_results\n",
    "\n",
    "\n",
    "# define hex codes for colors used\n",
    "bv_color = \"#a2c662\"\n",
    "ai_color = \"#184EAD\"\n",
    "elog_color = \"#117347\"\n",
    "predictions_color = \"#43aa99\"\n",
    "\n",
    "\n",
    "fig, ax = plt.subplots(2, 1, figsize=figsize, gridspec_kw={\"height_ratios\": [2, 1]}, sharex=True)\n",
    "\n",
    "# hlines for the event bars (the horizonal lines)\n",
    "yticks = [0.175, 0.5, 0.825]\n",
    "yheight = 0.24\n",
    "ypos = [tick - (yheight / 2) for tick in yticks]\n",
    "ax[0].hlines(\n",
    "    [0.175, 0.5, 0.825], 0.01, 0.99, transform=ax[0].transAxes, colors=\"grey\", lw=0.2, zorder=0\n",
    ")\n",
    "\n",
    "# ticks for the event bar positions and labels\n",
    "ax[0].set_yticks([0.175, 0.5, 0.825], (\"Predicted Hauls\", \"Elog Hauls\", \"Analyst Hauls\"))\n",
    "ax[0].set_ylim([0, 1])\n",
    "\n",
    "\n",
    "# plotting event bars\n",
    "plot_event_bars(\n",
    "    bv_sets,\n",
    "    ax[0],\n",
    "    \"Analyst Hauls\",\n",
    "    \"haul_start_datetime\",\n",
    "    end_col=\"haul_end_datetime\",\n",
    "    y_val=ypos[2],\n",
    "    y_height=yheight,\n",
    "    color=bv_color,\n",
    ")  # y_val = .675,\n",
    "plot_event_bars(\n",
    "    elog,\n",
    "    ax[0],\n",
    "    \"elog_hauls\",\n",
    "    \"systemstarthauldatetime\",\n",
    "    end_col=\"systemendhauldatetime\",\n",
    "    color=elog_color,\n",
    "    y_val=ypos[1],\n",
    "    y_height=yheight,\n",
    ")  # y_val = .35\n",
    "plot_event_bars(\n",
    "    results.loc[results.predict_haul == 1],\n",
    "    ax[0],\n",
    "    \"predicted_hauls\",\n",
    "    \"utc_start_datetime\",\n",
    "    duration=\"5m\",\n",
    "    y_val=ypos[0],\n",
    "    y_height=yheight,\n",
    "    color=predictions_color,\n",
    ")  # y_val = .025\n",
    "\n",
    "\n",
    "# plotting the ai counts\n",
    "ln1 = sns.lineplot(\n",
    "    x=\"utc_start_datetime\",\n",
    "    y=\"count\",\n",
    "    data=results,\n",
    "    ax=ax[1],\n",
    "    label=\"AI Counts\",\n",
    "    color=ai_color,\n",
    "    clip_on=False,\n",
    "    lw=0.5,\n",
    ")\n",
    "\n",
    "\n",
    "# formatting x axis dates\n",
    "locator = DayLocator()\n",
    "formatter = mdates.ConciseDateFormatter(locator)\n",
    "\n",
    "ax[1].xaxis.set_major_locator(locator)\n",
    "ax[1].xaxis.set_major_formatter(formatter)\n",
    "ax[1].set_xlabel(\"Datetime (UTC)\")\n",
    "\n",
    "# labeling y axis for fish counts\n",
    "ax[1].set_ylabel(\"AI Fish Count\")\n",
    "\n",
    "\n",
    "# creating custom legend\n",
    "from matplotlib.lines import Line2D\n",
    "from matplotlib.patches import Patch\n",
    "\n",
    "# set xlimits for the plot based on the top plot\n",
    "x0, x1 = ax[0].get_xlim()\n",
    "ax[0].set_xlim(x0, x1)\n",
    "\n",
    "# remove legend\n",
    "ax[1].get_legend().remove()\n",
    "\n",
    "# adjust white space between subplots\n",
    "plt.subplots_adjust(wspace=0, hspace=0)\n",
    "\n",
    "# remove spines\n",
    "sns.despine(trim=True, left=True)\n",
    "plt.savefig(\"../chart_pngs/haul_detection2_report.png\", bbox_inches=\"tight\", dpi=150)\n",
    "\n",
    "plt.show()"
   ]
  },
  {
   "cell_type": "code",
   "execution_count": 105,
   "id": "cac70bd5-45b1-4d80-aca6-62c03b1dde7e",
   "metadata": {},
   "outputs": [
    {
     "data": {
      "image/png": "[encoded data removed]",
      "text/plain": [
       "<Figure size 750x250 with 2 Axes>"
      ]
     },
     "metadata": {},
     "output_type": "display_data"
    }
   ],
   "source": [
    "# Trip 3 predictions plot\n",
    "\n",
    "# setting style, font sizes, and fig size\n",
    "sns.set_style(\"whitegrid\", {\"axes.grid\": False})\n",
    "sns.set_theme(style=\"ticks\")\n",
    "figsize = (7.5, 2.5)\n",
    "\n",
    "plt.rc(\"xtick\", labelsize=8)\n",
    "plt.rc(\"ytick\", labelsize=8)\n",
    "plt.rc(\"axes\", labelsize=8)\n",
    "\n",
    "# set up datasets to be used\n",
    "bv_sets = brancol3_bv_sets\n",
    "elog = brancol3_elog\n",
    "results = df_results3\n",
    "\n",
    "\n",
    "# define hex codes for colors used\n",
    "bv_color = \"#a2c662\"\n",
    "ai_color = \"#184EAD\"\n",
    "elog_color = \"#117347\"\n",
    "predictions_color = \"#43aa99\"\n",
    "\n",
    "\n",
    "fig, ax = plt.subplots(2, 1, figsize=figsize, gridspec_kw={\"height_ratios\": [2, 1]}, sharex=True)\n",
    "\n",
    "# hlines for the event bars (the horizonal lines)\n",
    "yticks = [0.175, 0.5, 0.825]\n",
    "yheight = 0.24\n",
    "ypos = [tick - (yheight / 2) for tick in yticks]\n",
    "ax[0].hlines(\n",
    "    [0.175, 0.5, 0.825], 0.01, 0.99, transform=ax[0].transAxes, colors=\"grey\", lw=0.2, zorder=0\n",
    ")\n",
    "\n",
    "# ticks for the event bar positions and labels\n",
    "ax[0].set_yticks([0.175, 0.5, 0.825], (\"Predicted Hauls\", \"Elog Hauls\", \"Analyst Hauls\"))\n",
    "ax[0].set_ylim([0, 1])\n",
    "\n",
    "\n",
    "# plotting event bars\n",
    "plot_event_bars(\n",
    "    bv_sets,\n",
    "    ax[0],\n",
    "    \"Analyst Hauls\",\n",
    "    \"haul_start_datetime\",\n",
    "    end_col=\"haul_end_datetime\",\n",
    "    y_val=ypos[2],\n",
    "    y_height=yheight,\n",
    "    color=bv_color,\n",
    ")  # y_val = .675,\n",
    "plot_event_bars(\n",
    "    elog,\n",
    "    ax[0],\n",
    "    \"elog_hauls\",\n",
    "    \"systemstarthauldatetime\",\n",
    "    end_col=\"systemendhauldatetime\",\n",
    "    color=elog_color,\n",
    "    y_val=ypos[1],\n",
    "    y_height=yheight,\n",
    ")  # y_val = .35\n",
    "plot_event_bars(\n",
    "    results.loc[results.predict_haul == 1],\n",
    "    ax[0],\n",
    "    \"predicted_hauls\",\n",
    "    \"utc_start_datetime\",\n",
    "    duration=\"5m\",\n",
    "    y_val=ypos[0],\n",
    "    y_height=yheight,\n",
    "    color=predictions_color,\n",
    ")  # y_val = .025\n",
    "\n",
    "\n",
    "# plotting the ai counts\n",
    "ln1 = sns.lineplot(\n",
    "    x=\"utc_start_datetime\",\n",
    "    y=\"count\",\n",
    "    data=results,\n",
    "    ax=ax[1],\n",
    "    label=\"AI Counts\",\n",
    "    color=ai_color,\n",
    "    clip_on=False,\n",
    "    lw=0.5,\n",
    ")\n",
    "\n",
    "\n",
    "# formatting x axis dates\n",
    "locator = DayLocator()\n",
    "formatter = mdates.ConciseDateFormatter(locator)\n",
    "\n",
    "ax[1].xaxis.set_major_locator(locator)\n",
    "ax[1].xaxis.set_major_formatter(formatter)\n",
    "ax[1].set_xlabel(\"Datetime (UTC)\")\n",
    "\n",
    "# labeling y axis for fish counts\n",
    "ax[1].set_ylabel(\"AI Fish Count\")\n",
    "\n",
    "\n",
    "# creating custom legend\n",
    "from matplotlib.lines import Line2D\n",
    "from matplotlib.patches import Patch\n",
    "\n",
    "# set xlimits for the plot based on the top plot\n",
    "x0, x1 = ax[0].get_xlim()\n",
    "ax[0].set_xlim(x0, x1)\n",
    "\n",
    "# remove legend\n",
    "ax[1].get_legend().remove()\n",
    "\n",
    "# adjust white space between subplots\n",
    "plt.subplots_adjust(wspace=0, hspace=0)\n",
    "\n",
    "# remove spines\n",
    "sns.despine(trim=True, left=True)\n",
    "plt.savefig(\"../chart_pngs/haul_detection3_report.png\", bbox_inches=\"tight\", dpi=150)\n",
    "\n",
    "plt.show()"
   ]
  },
  {
   "cell_type": "markdown",
   "id": "e71892d7-b183-4e62-8f2a-9629846e30d6",
   "metadata": {},
   "source": [
    "# Key Events from Reviewer Notes"
   ]
  },
  {
   "cell_type": "markdown",
   "id": "578ddc18-8d5a-4650-aec8-dcb8bbc79190",
   "metadata": {},
   "source": [
    "##### helper functions"
   ]
  },
  {
   "cell_type": "code",
   "execution_count": 106,
   "id": "18704882-48be-435c-a659-3744e55575f2",
   "metadata": {},
   "outputs": [],
   "source": [
    "# def plot_event_bars(df, ax,label, datetime_col,duration=None,end_col = None, duration_col = None, y_val=.7, y_height = .6, color= '#43aa99' , alpha = 1):\n",
    "\n",
    "#     if duration:\n",
    "#         x_duration = np.full(len(df), pd.Timedelta(duration))\n",
    "#     elif end_col:\n",
    "#         df['duration'] =  df[end_col]- df[datetime_col]\n",
    "#         x_duration = df['duration']\n",
    "#     elif duration_col:\n",
    "#         x_duration = df[duration_col]\n",
    "#     else:\n",
    "#         x_duration = np.full(len(df), 2)\n",
    "\n",
    "#     x = list(zip(df[datetime_col], x_duration))\n",
    "#     y = (y_val, y_height)\n",
    "\n",
    "#     plot = ax.broken_barh(x, y, facecolors = color, edgecolor = 'face', label = label, clip_on=True, alpha = alpha)\n",
    "\n",
    "#     return plot\n"
   ]
  },
  {
   "cell_type": "code",
   "execution_count": 84,
   "id": "2fbd4d1f-6fc0-47e0-9f99-76e6c07f85e7",
   "metadata": {},
   "outputs": [],
   "source": [
    "def plot_event_category_bars(df_events, ax, category_color_dict, y_val_start, y_height):\n",
    "    n = len(category_color_dict)\n",
    "    y_vals = create_array(n, y_val_start, y_height)\n",
    "    for idx, (category, color) in enumerate(category_color_dict.items()):\n",
    "        df_category = df_events.loc[df_events[\"category\"] == category].copy()\n",
    "        y_val = y_vals[idx] - (y_height / 2)\n",
    "\n",
    "        plot_event_bars(\n",
    "            df_category,\n",
    "            ax,\n",
    "            category,\n",
    "            \"start_time\",\n",
    "            end_col=\"end_time\",\n",
    "            y_val=y_val,\n",
    "            y_height=y_height,\n",
    "            color=color,\n",
    "        )"
   ]
  },
  {
   "cell_type": "code",
   "execution_count": 70,
   "id": "d0c5d35b-36b9-4bcc-8e03-2be49f6542e8",
   "metadata": {},
   "outputs": [],
   "source": [
    "def create_array(n, start_val, step_val):\n",
    "    # Calculate the end value based on the number of steps, start value, and step value\n",
    "    end_val = start_val + step_val * (n - 1)\n",
    "    return np.linspace(start_val, end_val, n)"
   ]
  },
  {
   "cell_type": "markdown",
   "id": "749cfcc6-4f4b-48c0-bbbf-5c85a9bbb0ae",
   "metadata": {},
   "source": [
    "### Plotting Events"
   ]
  },
  {
   "cell_type": "markdown",
   "id": "5f905b62-8445-4dd6-b7d5-8dccd629b056",
   "metadata": {},
   "source": [
    "##### reading data"
   ]
  },
  {
   "cell_type": "code",
   "execution_count": null,
   "id": "bbe26197-e7b0-477e-b7eb-6eacb8c16186",
   "metadata": {},
   "outputs": [],
   "source": [
    "df_notes = pd.read_csv(\"../data/reviewer_notes_6-20.csv\")\n",
    "# df_notes = pd.read_csv('../data/reviewer_notes.csv')\n",
    "df_notes[\"start_time\"] = pd.to_datetime(df_notes[\"start_time\"], format=\"mixed\")\n",
    "\n",
    "df_notes[\"end_time\"] = pd.to_datetime(df_notes[\"end_time\"], format=\"mixed\")\n",
    "\n",
    "df_notes[\"category\"].value_counts()"
   ]
  },
  {
   "cell_type": "code",
   "execution_count": 55,
   "id": "a73b1281-e49b-42d3-ad56-ff93ecb75b1a",
   "metadata": {},
   "outputs": [],
   "source": [
    "eventsBrancol2 = df_notes.loc[(df_notes[\"vessel\"] == \"Brancol\") & (df_notes[\"trip_number\"] == 2)]\n",
    "eventsBrancol3 = df_notes.loc[(df_notes[\"vessel\"] == \"Brancol\") & (df_notes[\"trip_number\"] == 3)]"
   ]
  },
  {
   "cell_type": "code",
   "execution_count": 56,
   "id": "ed9ef711-2408-4d36-9d17-b1000e27f9c7",
   "metadata": {},
   "outputs": [
    {
     "data": {
      "text/plain": [
       "category\n",
       "Haul Stop         37\n",
       "No Video           7\n",
       "Camera Blocked     6\n",
       "Other Gear         4\n",
       "Abnormal Catch     3\n",
       "No Elog            3\n",
       "Abnormal Haul      1\n",
       "Name: count, dtype: int64"
      ]
     },
     "execution_count": 56,
     "metadata": {},
     "output_type": "execute_result"
    }
   ],
   "source": [
    "eventsBrancol2[\"category\"].value_counts()"
   ]
  },
  {
   "cell_type": "code",
   "execution_count": 89,
   "id": "c8191f81-8733-4533-abc8-07d0347b0006",
   "metadata": {},
   "outputs": [
    {
     "data": {
      "text/html": [
       "<div>\n",
       "<style scoped>\n",
       "    .dataframe tbody tr th:only-of-type {\n",
       "        vertical-align: middle;\n",
       "    }\n",
       "\n",
       "    .dataframe tbody tr th {\n",
       "        vertical-align: top;\n",
       "    }\n",
       "\n",
       "    .dataframe thead th {\n",
       "        text-align: right;\n",
       "    }\n",
       "</style>\n",
       "<table border=\"1\" class=\"dataframe\">\n",
       "  <thead>\n",
       "    <tr style=\"text-align: right;\">\n",
       "      <th></th>\n",
       "      <th>vessel</th>\n",
       "      <th>trip_number</th>\n",
       "      <th>set_number</th>\n",
       "      <th>set_id</th>\n",
       "      <th>date</th>\n",
       "      <th>observation</th>\n",
       "      <th>category</th>\n",
       "      <th>start_time</th>\n",
       "      <th>end_time</th>\n",
       "      <th>duration</th>\n",
       "    </tr>\n",
       "  </thead>\n",
       "  <tbody>\n",
       "    <tr>\n",
       "      <th>41</th>\n",
       "      <td>Brancol</td>\n",
       "      <td>2.0</td>\n",
       "      <td>0.0</td>\n",
       "      <td>NaN</td>\n",
       "      <td>2/3/2024</td>\n",
       "      <td>Beginning of  camera 2 at 4:46pm (03/02).</td>\n",
       "      <td>NaN</td>\n",
       "      <td>2024-02-03 16:46:00</td>\n",
       "      <td>NaT</td>\n",
       "      <td>NaN</td>\n",
       "    </tr>\n",
       "    <tr>\n",
       "      <th>42</th>\n",
       "      <td>Brancol</td>\n",
       "      <td>2.0</td>\n",
       "      <td>0.0</td>\n",
       "      <td>NaN</td>\n",
       "      <td>2/3/2024</td>\n",
       "      <td>Beginning of camera 1 at 4:50pm (03/02)</td>\n",
       "      <td>NaN</td>\n",
       "      <td>2024-02-03 16:50:00</td>\n",
       "      <td>NaT</td>\n",
       "      <td>NaN</td>\n",
       "    </tr>\n",
       "    <tr>\n",
       "      <th>43</th>\n",
       "      <td>Brancol</td>\n",
       "      <td>2.0</td>\n",
       "      <td>1.0</td>\n",
       "      <td>brancol_2024-02-03_set_01</td>\n",
       "      <td>2/5/2024</td>\n",
       "      <td>Hauling stoped between 01:24pm and 1:54pm (filling the hold of part of the catch).</td>\n",
       "      <td>Haul Stop</td>\n",
       "      <td>2024-02-05 13:24:00</td>\n",
       "      <td>2024-02-05 13:54:00</td>\n",
       "      <td>0:30:00</td>\n",
       "    </tr>\n",
       "    <tr>\n",
       "      <th>44</th>\n",
       "      <td>Brancol</td>\n",
       "      <td>2.0</td>\n",
       "      <td>2.0</td>\n",
       "      <td>brancol_2024-02-03_set_02</td>\n",
       "      <td>2/6/2024</td>\n",
       "      <td>No video fron 11:28 pm (06/02) to 01:15am (07/02) during hauling.</td>\n",
       "      <td>No Video</td>\n",
       "      <td>2024-02-06 23:28:00</td>\n",
       "      <td>2024-02-07 01:15:00</td>\n",
       "      <td>NaN</td>\n",
       "    </tr>\n",
       "    <tr>\n",
       "      <th>46</th>\n",
       "      <td>Brancol</td>\n",
       "      <td>2.0</td>\n",
       "      <td>2.0</td>\n",
       "      <td>brancol_2024-02-03_set_02</td>\n",
       "      <td>2/7/2024</td>\n",
       "      <td>Break in the hauling between 02:40 am and 03:31 am for a break and puting aside the fish.</td>\n",
       "      <td>Haul Stop</td>\n",
       "      <td>2024-02-07 02:40:00</td>\n",
       "      <td>2024-02-07 03:31:00</td>\n",
       "      <td>0:51:00</td>\n",
       "    </tr>\n",
       "  </tbody>\n",
       "</table>\n",
       "</div>"
      ],
      "text/plain": [
       "     vessel  trip_number  set_number                     set_id      date  \\\n",
       "41  Brancol          2.0         0.0                        NaN  2/3/2024   \n",
       "42  Brancol          2.0         0.0                        NaN  2/3/2024   \n",
       "43  Brancol          2.0         1.0  brancol_2024-02-03_set_01  2/5/2024   \n",
       "44  Brancol          2.0         2.0  brancol_2024-02-03_set_02  2/6/2024   \n",
       "46  Brancol          2.0         2.0  brancol_2024-02-03_set_02  2/7/2024   \n",
       "\n",
       "                                                                                  observation  \\\n",
       "41                                                  Beginning of  camera 2 at 4:46pm (03/02).   \n",
       "42                                                    Beginning of camera 1 at 4:50pm (03/02)   \n",
       "43         Hauling stoped between 01:24pm and 1:54pm (filling the hold of part of the catch).   \n",
       "44                         No video fron 11:28 pm (06/02) to 01:15am (07/02) during hauling.    \n",
       "46  Break in the hauling between 02:40 am and 03:31 am for a break and puting aside the fish.   \n",
       "\n",
       "     category          start_time            end_time duration  \n",
       "41        NaN 2024-02-03 16:46:00                 NaT      NaN  \n",
       "42        NaN 2024-02-03 16:50:00                 NaT      NaN  \n",
       "43  Haul Stop 2024-02-05 13:24:00 2024-02-05 13:54:00  0:30:00  \n",
       "44   No Video 2024-02-06 23:28:00 2024-02-07 01:15:00      NaN  \n",
       "46  Haul Stop 2024-02-07 02:40:00 2024-02-07 03:31:00  0:51:00  "
      ]
     },
     "execution_count": 89,
     "metadata": {},
     "output_type": "execute_result"
    }
   ],
   "source": [
    "eventsBrancol2.head()"
   ]
  },
  {
   "cell_type": "markdown",
   "id": "d3dcc443-7ea1-431b-bb88-378a12c9684d",
   "metadata": {},
   "source": [
    "#### all events "
   ]
  },
  {
   "cell_type": "code",
   "execution_count": 86,
   "id": "3fb56c49-63d7-4ac0-98d7-280047cc8184",
   "metadata": {},
   "outputs": [],
   "source": [
    "# create dictionary of colors for each category\n",
    "category_dict = {\n",
    "    \"Haul Stop\": colors[13],\n",
    "    \"Camera Blocked\": colors[10],\n",
    "    \"No Video\": colors[6],\n",
    "    \"Abnormal Catch\": colors[8],\n",
    "}"
   ]
  },
  {
   "cell_type": "code",
   "execution_count": 106,
   "id": "846cbf6a-bcd0-42f7-b8f0-a5b08ca08d9b",
   "metadata": {},
   "outputs": [
    {
     "data": {
      "image/png": "[encoded data removed]",
      "text/plain": [
       "<Figure size 1100x200 with 1 Axes>"
      ]
     },
     "metadata": {},
     "output_type": "display_data"
    }
   ],
   "source": [
    "eventsBrancol2_notna = eventsBrancol2[eventsBrancol2[\"end_time\"].notna()]\n",
    "\n",
    "\n",
    "# df_test.reset_index(inplace = True)\n",
    "bbox_args = dict(boxstyle=\"round\", facecolor=\"black\", alpha=0.35)\n",
    "# plt.subplots_adjust(wspace=0, hspace=-.2)\n",
    "# bbox_args = dict(boxstyle=\"round\", fc=\"0.8\")\n",
    "arrow_args = dict(arrowstyle=\"->\")\n",
    "# plt.tight_layout()\n",
    "fig, ax = plt.subplots(\n",
    "    1,\n",
    "    1,\n",
    "    figsize=(11, 2),\n",
    "    sharex=True,\n",
    "    # , gridspec_kw={'height_ratios': [2, 1]},\n",
    ")\n",
    "\n",
    "# trip2 = Brancol2data['trip_info']\n",
    "plot_set_vspan(brancol2_bv_sets, ax)\n",
    "\n",
    "plot_event_bars(\n",
    "    df_results.loc[df_results.predict_haul == 1],\n",
    "    ax,\n",
    "    \"predicted_hauls\",\n",
    "    \"utc_start_datetime\",\n",
    "    duration=\"5m\",\n",
    "    y_val=0.95,\n",
    "    y_height=0.1,\n",
    ")\n",
    "plot_event_category_bars(eventsBrancol2_notna, ax, category_dict, 1.2, 0.1)\n",
    "\n",
    "\n",
    "n = len(category_dict)\n",
    "y_vals = [0, 1.0] + list(create_array(n, 1.2, 0.1))\n",
    "y_labels = [\"\", \"predicted_hauls\"] + list(category_dict.keys())\n",
    "\n",
    "ax.set_yticks(y_vals, y_labels)\n",
    "ax.set_ylim([0.85, max(y_vals) + 0.2])\n",
    "# ax[1].set_ylim([0, 50])\n",
    "locator = DayLocator()\n",
    "formatter = mdates.ConciseDateFormatter(locator)\n",
    "ax.tick_params(axis=\"both\", labelsize=9)\n",
    "ax.xaxis.set_major_locator(locator)\n",
    "ax.xaxis.set_major_formatter(formatter)\n",
    "\n",
    "ax.spines[\"bottom\"].set_visible(False)\n",
    "# ax[1].spines['top'].set_visible(False)\n",
    "ax.legend()\n",
    "\n",
    "from matplotlib.lines import Line2D\n",
    "from matplotlib.patches import Patch\n",
    "\n",
    "legend_elements = [\n",
    "    Patch(facecolor=\"#a2c662\", edgecolor=\"#40a018\", alpha=0.4, label=\"BV Hauls\"),\n",
    "    Patch(facecolor=\"#117347\", edgecolor=\"#117347\", label=\"Elog Hauls\"),\n",
    "    Patch(facecolor=\"#43aa99\", edgecolor=\"#43aa99\", label=\"Predicted Hauls\"),\n",
    "    Line2D([0], [0], color=\"#184EAD\", lw=2, label=\"AI Counts\"),\n",
    "]\n",
    "\n",
    "# ax[0].legend(handles=legend_elements, loc='upper left', fontsize = 9)\n",
    "# ax[1].get_legend().remove()\n",
    "\n",
    "plt.legend(bbox_to_anchor=(1.1, 1))\n",
    "\n",
    "plt.subplots_adjust(wspace=0, hspace=-0.2)\n",
    "\n",
    "plt.savefig(\"../chart_pngs/reivewer_events_haul_detection.png\")\n",
    "plt.show()"
   ]
  },
  {
   "cell_type": "code",
   "execution_count": 113,
   "id": "a32896c5-4533-4516-8571-49ec36132709",
   "metadata": {},
   "outputs": [],
   "source": [
    "# n = len(category_dict.keys())"
   ]
  },
  {
   "cell_type": "markdown",
   "id": "18aa0e4b-8823-4354-a006-6a224cd060f1",
   "metadata": {},
   "source": [
    "#### no video events"
   ]
  },
  {
   "cell_type": "code",
   "execution_count": 93,
   "id": "dcb0c631-633e-4298-85ea-462bb86a0338",
   "metadata": {},
   "outputs": [],
   "source": [
    "video_events = df_notes.loc[\n",
    "    (df_notes[\"category\"] == \"No Video\") | (df_notes[\"category\"] == \"Camera Blocked\")\n",
    "]\n",
    "\n",
    "video_eventsBrancol2 = video_events.loc[\n",
    "    (video_events[\"vessel\"] == \"Brancol\") & (video_events[\"trip_number\"] == 2)\n",
    "]"
   ]
  },
  {
   "cell_type": "markdown",
   "id": "685db779-544a-4db6-b889-0691c9418c86",
   "metadata": {},
   "source": [
    "#### haul stop events"
   ]
  },
  {
   "cell_type": "code",
   "execution_count": 94,
   "id": "485ab08e-3dcf-4249-90ee-78669a2e075d",
   "metadata": {},
   "outputs": [],
   "source": [
    "haul_stops = df_notes.loc[\n",
    "    (df_notes[\"category\"] == \"Haul Stop\") | (df_notes[\"category\"] == \"Gear Issue\")\n",
    "]\n",
    "\n",
    "haul_stops.dtypes\n",
    "\n",
    "haul_stopsBrancol2 = haul_stops.loc[\n",
    "    (haul_stops[\"vessel\"] == \"Brancol\") & (haul_stops[\"trip_number\"] == 2)\n",
    "]"
   ]
  },
  {
   "cell_type": "code",
   "execution_count": 95,
   "id": "1c234c82-023f-4fc1-9fc4-33f13b18ce0f",
   "metadata": {},
   "outputs": [
    {
     "data": {
      "text/html": [
       "<div>\n",
       "<style scoped>\n",
       "    .dataframe tbody tr th:only-of-type {\n",
       "        vertical-align: middle;\n",
       "    }\n",
       "\n",
       "    .dataframe tbody tr th {\n",
       "        vertical-align: top;\n",
       "    }\n",
       "\n",
       "    .dataframe thead th {\n",
       "        text-align: right;\n",
       "    }\n",
       "</style>\n",
       "<table border=\"1\" class=\"dataframe\">\n",
       "  <thead>\n",
       "    <tr style=\"text-align: right;\">\n",
       "      <th></th>\n",
       "      <th>vessel</th>\n",
       "      <th>trip_number</th>\n",
       "      <th>set_number</th>\n",
       "      <th>set_id</th>\n",
       "      <th>date</th>\n",
       "      <th>observation</th>\n",
       "      <th>category</th>\n",
       "      <th>start_time</th>\n",
       "      <th>end_time</th>\n",
       "      <th>duration</th>\n",
       "    </tr>\n",
       "  </thead>\n",
       "  <tbody>\n",
       "    <tr>\n",
       "      <th>43</th>\n",
       "      <td>Brancol</td>\n",
       "      <td>2.0</td>\n",
       "      <td>1.0</td>\n",
       "      <td>brancol_2024-02-03_set_01</td>\n",
       "      <td>2/5/2024</td>\n",
       "      <td>Hauling stoped between 01:24pm and 1:54pm (filling the hold of part of the catch).</td>\n",
       "      <td>Haul Stop</td>\n",
       "      <td>2024-02-05 13:24:00</td>\n",
       "      <td>2024-02-05 13:54:00</td>\n",
       "      <td>0:30:00</td>\n",
       "    </tr>\n",
       "    <tr>\n",
       "      <th>46</th>\n",
       "      <td>Brancol</td>\n",
       "      <td>2.0</td>\n",
       "      <td>2.0</td>\n",
       "      <td>brancol_2024-02-03_set_02</td>\n",
       "      <td>2/7/2024</td>\n",
       "      <td>Break in the hauling between 02:40 am and 03:31 am for a break and puting aside the fish.</td>\n",
       "      <td>Haul Stop</td>\n",
       "      <td>2024-02-07 02:40:00</td>\n",
       "      <td>2024-02-07 03:31:00</td>\n",
       "      <td>0:51:00</td>\n",
       "    </tr>\n",
       "    <tr>\n",
       "      <th>52</th>\n",
       "      <td>Brancol</td>\n",
       "      <td>2.0</td>\n",
       "      <td>4.0</td>\n",
       "      <td>brancol_2024-02-03_set_04</td>\n",
       "      <td>2/9/2024</td>\n",
       "      <td>Hauling stoped between  02:38pm and 02:40pm</td>\n",
       "      <td>Haul Stop</td>\n",
       "      <td>2024-02-09 14:38:00</td>\n",
       "      <td>2024-02-09 14:40:00</td>\n",
       "      <td>0:02:00</td>\n",
       "    </tr>\n",
       "    <tr>\n",
       "      <th>53</th>\n",
       "      <td>Brancol</td>\n",
       "      <td>2.0</td>\n",
       "      <td>4.0</td>\n",
       "      <td>brancol_2024-02-03_set_04</td>\n",
       "      <td>2/9/2024</td>\n",
       "      <td>Hauling also stopped between 04:37pm and 05:09pm because of knots</td>\n",
       "      <td>Haul Stop</td>\n",
       "      <td>2024-02-09 16:37:00</td>\n",
       "      <td>2024-02-09 17:09:00</td>\n",
       "      <td>0:32:00</td>\n",
       "    </tr>\n",
       "    <tr>\n",
       "      <th>54</th>\n",
       "      <td>Brancol</td>\n",
       "      <td>2.0</td>\n",
       "      <td>4.0</td>\n",
       "      <td>brancol_2024-02-03_set_04</td>\n",
       "      <td>2/9/2024</td>\n",
       "      <td>Hauling also stopped between 05:31pm and 05:53pm because of knots</td>\n",
       "      <td>Haul Stop</td>\n",
       "      <td>2024-02-09 17:31:00</td>\n",
       "      <td>2024-02-09 17:53:00</td>\n",
       "      <td>0:22:00</td>\n",
       "    </tr>\n",
       "  </tbody>\n",
       "</table>\n",
       "</div>"
      ],
      "text/plain": [
       "     vessel  trip_number  set_number                     set_id      date  \\\n",
       "43  Brancol          2.0         1.0  brancol_2024-02-03_set_01  2/5/2024   \n",
       "46  Brancol          2.0         2.0  brancol_2024-02-03_set_02  2/7/2024   \n",
       "52  Brancol          2.0         4.0  brancol_2024-02-03_set_04  2/9/2024   \n",
       "53  Brancol          2.0         4.0  brancol_2024-02-03_set_04  2/9/2024   \n",
       "54  Brancol          2.0         4.0  brancol_2024-02-03_set_04  2/9/2024   \n",
       "\n",
       "                                                                                  observation  \\\n",
       "43         Hauling stoped between 01:24pm and 1:54pm (filling the hold of part of the catch).   \n",
       "46  Break in the hauling between 02:40 am and 03:31 am for a break and puting aside the fish.   \n",
       "52                                                Hauling stoped between  02:38pm and 02:40pm   \n",
       "53                          Hauling also stopped between 04:37pm and 05:09pm because of knots   \n",
       "54                          Hauling also stopped between 05:31pm and 05:53pm because of knots   \n",
       "\n",
       "     category          start_time            end_time duration  \n",
       "43  Haul Stop 2024-02-05 13:24:00 2024-02-05 13:54:00  0:30:00  \n",
       "46  Haul Stop 2024-02-07 02:40:00 2024-02-07 03:31:00  0:51:00  \n",
       "52  Haul Stop 2024-02-09 14:38:00 2024-02-09 14:40:00  0:02:00  \n",
       "53  Haul Stop 2024-02-09 16:37:00 2024-02-09 17:09:00  0:32:00  \n",
       "54  Haul Stop 2024-02-09 17:31:00 2024-02-09 17:53:00  0:22:00  "
      ]
     },
     "execution_count": 95,
     "metadata": {},
     "output_type": "execute_result"
    }
   ],
   "source": [
    "haul_stopsBrancol2.head()"
   ]
  },
  {
   "cell_type": "code",
   "execution_count": 98,
   "id": "9a56c893-77eb-42e3-96a9-57a570696c07",
   "metadata": {},
   "outputs": [
    {
     "data": {
      "text/html": [
       "<div>\n",
       "<style scoped>\n",
       "    .dataframe tbody tr th:only-of-type {\n",
       "        vertical-align: middle;\n",
       "    }\n",
       "\n",
       "    .dataframe tbody tr th {\n",
       "        vertical-align: top;\n",
       "    }\n",
       "\n",
       "    .dataframe thead th {\n",
       "        text-align: right;\n",
       "    }\n",
       "</style>\n",
       "<table border=\"1\" class=\"dataframe\">\n",
       "  <thead>\n",
       "    <tr style=\"text-align: right;\">\n",
       "      <th></th>\n",
       "      <th>utc_start_datetime</th>\n",
       "      <th>weighted_count</th>\n",
       "      <th>detection_confidence</th>\n",
       "      <th>count</th>\n",
       "      <th>is_haul</th>\n",
       "      <th>id</th>\n",
       "      <th>rolling_weighted_count</th>\n",
       "      <th>rolling_count</th>\n",
       "      <th>predictions</th>\n",
       "      <th>utc_end_datetime</th>\n",
       "      <th>haul</th>\n",
       "      <th>predict_haul</th>\n",
       "      <th>set_number</th>\n",
       "    </tr>\n",
       "  </thead>\n",
       "  <tbody>\n",
       "    <tr>\n",
       "      <th>0</th>\n",
       "      <td>2024-02-03 16:45:00</td>\n",
       "      <td>0.0</td>\n",
       "      <td>0.0</td>\n",
       "      <td>0.0</td>\n",
       "      <td>0</td>\n",
       "      <td>10181</td>\n",
       "      <td>0.0</td>\n",
       "      <td>0.0</td>\n",
       "      <td>no_haul</td>\n",
       "      <td>2024-02-03 16:50:00</td>\n",
       "      <td>no_haul</td>\n",
       "      <td>0</td>\n",
       "      <td>None</td>\n",
       "    </tr>\n",
       "    <tr>\n",
       "      <th>1</th>\n",
       "      <td>2024-02-03 16:50:00</td>\n",
       "      <td>0.0</td>\n",
       "      <td>0.0</td>\n",
       "      <td>0.0</td>\n",
       "      <td>0</td>\n",
       "      <td>10183</td>\n",
       "      <td>0.0</td>\n",
       "      <td>0.0</td>\n",
       "      <td>no_haul</td>\n",
       "      <td>2024-02-03 16:55:00</td>\n",
       "      <td>no_haul</td>\n",
       "      <td>0</td>\n",
       "      <td>None</td>\n",
       "    </tr>\n",
       "    <tr>\n",
       "      <th>2</th>\n",
       "      <td>2024-02-03 16:55:00</td>\n",
       "      <td>0.0</td>\n",
       "      <td>0.0</td>\n",
       "      <td>0.0</td>\n",
       "      <td>0</td>\n",
       "      <td>10185</td>\n",
       "      <td>0.0</td>\n",
       "      <td>0.0</td>\n",
       "      <td>no_haul</td>\n",
       "      <td>2024-02-03 17:00:00</td>\n",
       "      <td>no_haul</td>\n",
       "      <td>0</td>\n",
       "      <td>None</td>\n",
       "    </tr>\n",
       "    <tr>\n",
       "      <th>3</th>\n",
       "      <td>2024-02-03 17:05:00</td>\n",
       "      <td>0.0</td>\n",
       "      <td>0.0</td>\n",
       "      <td>0.0</td>\n",
       "      <td>0</td>\n",
       "      <td>10220</td>\n",
       "      <td>0.0</td>\n",
       "      <td>0.0</td>\n",
       "      <td>no_haul</td>\n",
       "      <td>2024-02-03 17:10:00</td>\n",
       "      <td>no_haul</td>\n",
       "      <td>0</td>\n",
       "      <td>None</td>\n",
       "    </tr>\n",
       "    <tr>\n",
       "      <th>4</th>\n",
       "      <td>2024-02-03 17:10:00</td>\n",
       "      <td>0.0</td>\n",
       "      <td>0.0</td>\n",
       "      <td>0.0</td>\n",
       "      <td>0</td>\n",
       "      <td>10221</td>\n",
       "      <td>0.0</td>\n",
       "      <td>0.0</td>\n",
       "      <td>no_haul</td>\n",
       "      <td>2024-02-03 17:15:00</td>\n",
       "      <td>no_haul</td>\n",
       "      <td>0</td>\n",
       "      <td>None</td>\n",
       "    </tr>\n",
       "  </tbody>\n",
       "</table>\n",
       "</div>"
      ],
      "text/plain": [
       "   utc_start_datetime  weighted_count  detection_confidence  count  is_haul  \\\n",
       "0 2024-02-03 16:45:00             0.0                   0.0    0.0        0   \n",
       "1 2024-02-03 16:50:00             0.0                   0.0    0.0        0   \n",
       "2 2024-02-03 16:55:00             0.0                   0.0    0.0        0   \n",
       "3 2024-02-03 17:05:00             0.0                   0.0    0.0        0   \n",
       "4 2024-02-03 17:10:00             0.0                   0.0    0.0        0   \n",
       "\n",
       "      id  rolling_weighted_count  rolling_count predictions  \\\n",
       "0  10181                     0.0            0.0     no_haul   \n",
       "1  10183                     0.0            0.0     no_haul   \n",
       "2  10185                     0.0            0.0     no_haul   \n",
       "3  10220                     0.0            0.0     no_haul   \n",
       "4  10221                     0.0            0.0     no_haul   \n",
       "\n",
       "     utc_end_datetime     haul  predict_haul set_number  \n",
       "0 2024-02-03 16:50:00  no_haul             0       None  \n",
       "1 2024-02-03 16:55:00  no_haul             0       None  \n",
       "2 2024-02-03 17:00:00  no_haul             0       None  \n",
       "3 2024-02-03 17:10:00  no_haul             0       None  \n",
       "4 2024-02-03 17:15:00  no_haul             0       None  "
      ]
     },
     "execution_count": 98,
     "metadata": {},
     "output_type": "execute_result"
    }
   ],
   "source": [
    "df_results.head()"
   ]
  },
  {
   "cell_type": "code",
   "execution_count": 154,
   "id": "9415792d-af5c-456f-967a-2e1d8ac7c96d",
   "metadata": {},
   "outputs": [],
   "source": [
    "# create dataframe that joins the hauls from bv sets to the predicted hauls (df_results) to get the set number for trip 2\n",
    "conn = sqlite3.connect(\":memory:\")\n",
    "bv_sets = Brancol2data[\"bv_sets\"]\n",
    "df_hauls = bv_sets.loc[:, [\"set_number\", \"haul_start_datetime\", \"haul_end_datetime\"]]\n",
    "\n",
    "# write the tables\n",
    "df_results.to_sql(\"results\", conn, index=False)\n",
    "df_hauls.to_sql(\"hauls\", conn, index=False)\n",
    "\n",
    "query = \"\"\"\n",
    "select\n",
    "results.*,\n",
    "hauls.set_number\n",
    "\n",
    "from results\n",
    "left join hauls on results.utc_start_datetime between hauls.haul_start_datetime and hauls.haul_end_datetime\n",
    "\n",
    "\"\"\"\n",
    "df_results_setnumber = pd.read_sql_query(query, conn)\n",
    "df_results_setnumber[\"utc_end_datetime\"] = pd.to_datetime(df_results_setnumber[\"utc_end_datetime\"])\n",
    "df_results_setnumber[\"utc_start_datetime\"] = pd.to_datetime(\n",
    "    df_results_setnumber[\"utc_start_datetime\"]\n",
    ")"
   ]
  },
  {
   "cell_type": "code",
   "execution_count": null,
   "id": "7ef2f5c9-4081-41dd-a8e3-d9fc34672517",
   "metadata": {},
   "outputs": [],
   "source": []
  },
  {
   "cell_type": "code",
   "execution_count": 151,
   "id": "70b0e23d-19f2-4438-9150-3b6d69207851",
   "metadata": {},
   "outputs": [
    {
     "data": {
      "text/html": [
       "<div>\n",
       "<style scoped>\n",
       "    .dataframe tbody tr th:only-of-type {\n",
       "        vertical-align: middle;\n",
       "    }\n",
       "\n",
       "    .dataframe tbody tr th {\n",
       "        vertical-align: top;\n",
       "    }\n",
       "\n",
       "    .dataframe thead th {\n",
       "        text-align: right;\n",
       "    }\n",
       "</style>\n",
       "<table border=\"1\" class=\"dataframe\">\n",
       "  <thead>\n",
       "    <tr style=\"text-align: right;\">\n",
       "      <th></th>\n",
       "      <th>utc_start_datetime</th>\n",
       "      <th>weighted_count</th>\n",
       "      <th>detection_confidence</th>\n",
       "      <th>count</th>\n",
       "      <th>is_haul</th>\n",
       "      <th>id</th>\n",
       "      <th>rolling_weighted_count</th>\n",
       "      <th>rolling_count</th>\n",
       "      <th>predictions</th>\n",
       "      <th>utc_end_datetime</th>\n",
       "      <th>haul</th>\n",
       "      <th>predict_haul</th>\n",
       "    </tr>\n",
       "  </thead>\n",
       "  <tbody>\n",
       "    <tr>\n",
       "      <th>0</th>\n",
       "      <td>2024-03-05 15:20:00</td>\n",
       "      <td>0.0</td>\n",
       "      <td>0.0</td>\n",
       "      <td>0.0</td>\n",
       "      <td>0</td>\n",
       "      <td>10181.0</td>\n",
       "      <td>0.0</td>\n",
       "      <td>0.0</td>\n",
       "      <td>no_haul</td>\n",
       "      <td>2024-03-05 15:25:00</td>\n",
       "      <td>no_haul</td>\n",
       "      <td>0</td>\n",
       "    </tr>\n",
       "    <tr>\n",
       "      <th>1</th>\n",
       "      <td>2024-03-05 15:25:00</td>\n",
       "      <td>0.0</td>\n",
       "      <td>0.0</td>\n",
       "      <td>0.0</td>\n",
       "      <td>0</td>\n",
       "      <td>10183.0</td>\n",
       "      <td>0.0</td>\n",
       "      <td>0.0</td>\n",
       "      <td>no_haul</td>\n",
       "      <td>2024-03-05 15:30:00</td>\n",
       "      <td>no_haul</td>\n",
       "      <td>0</td>\n",
       "    </tr>\n",
       "    <tr>\n",
       "      <th>2</th>\n",
       "      <td>2024-03-05 15:30:00</td>\n",
       "      <td>0.0</td>\n",
       "      <td>0.0</td>\n",
       "      <td>0.0</td>\n",
       "      <td>0</td>\n",
       "      <td>10185.0</td>\n",
       "      <td>0.0</td>\n",
       "      <td>0.0</td>\n",
       "      <td>no_haul</td>\n",
       "      <td>2024-03-05 15:35:00</td>\n",
       "      <td>no_haul</td>\n",
       "      <td>0</td>\n",
       "    </tr>\n",
       "    <tr>\n",
       "      <th>3</th>\n",
       "      <td>2024-03-05 15:35:00</td>\n",
       "      <td>0.0</td>\n",
       "      <td>0.0</td>\n",
       "      <td>0.0</td>\n",
       "      <td>0</td>\n",
       "      <td>10219.0</td>\n",
       "      <td>0.0</td>\n",
       "      <td>0.0</td>\n",
       "      <td>no_haul</td>\n",
       "      <td>2024-03-05 15:40:00</td>\n",
       "      <td>no_haul</td>\n",
       "      <td>0</td>\n",
       "    </tr>\n",
       "    <tr>\n",
       "      <th>4</th>\n",
       "      <td>2024-03-05 15:40:00</td>\n",
       "      <td>0.0</td>\n",
       "      <td>0.0</td>\n",
       "      <td>0.0</td>\n",
       "      <td>0</td>\n",
       "      <td>10220.0</td>\n",
       "      <td>0.0</td>\n",
       "      <td>0.0</td>\n",
       "      <td>no_haul</td>\n",
       "      <td>2024-03-05 15:45:00</td>\n",
       "      <td>no_haul</td>\n",
       "      <td>0</td>\n",
       "    </tr>\n",
       "  </tbody>\n",
       "</table>\n",
       "</div>"
      ],
      "text/plain": [
       "   utc_start_datetime  weighted_count  detection_confidence  count  is_haul  \\\n",
       "0 2024-03-05 15:20:00             0.0                   0.0    0.0        0   \n",
       "1 2024-03-05 15:25:00             0.0                   0.0    0.0        0   \n",
       "2 2024-03-05 15:30:00             0.0                   0.0    0.0        0   \n",
       "3 2024-03-05 15:35:00             0.0                   0.0    0.0        0   \n",
       "4 2024-03-05 15:40:00             0.0                   0.0    0.0        0   \n",
       "\n",
       "        id  rolling_weighted_count  rolling_count predictions  \\\n",
       "0  10181.0                     0.0            0.0     no_haul   \n",
       "1  10183.0                     0.0            0.0     no_haul   \n",
       "2  10185.0                     0.0            0.0     no_haul   \n",
       "3  10219.0                     0.0            0.0     no_haul   \n",
       "4  10220.0                     0.0            0.0     no_haul   \n",
       "\n",
       "     utc_end_datetime     haul  predict_haul  \n",
       "0 2024-03-05 15:25:00  no_haul             0  \n",
       "1 2024-03-05 15:30:00  no_haul             0  \n",
       "2 2024-03-05 15:35:00  no_haul             0  \n",
       "3 2024-03-05 15:40:00  no_haul             0  \n",
       "4 2024-03-05 15:45:00  no_haul             0  "
      ]
     },
     "execution_count": 151,
     "metadata": {},
     "output_type": "execute_result"
    }
   ],
   "source": [
    "df_results3.head()"
   ]
  },
  {
   "cell_type": "code",
   "execution_count": 155,
   "id": "80570cca-72b4-45f4-9f2f-13b5603e5ed2",
   "metadata": {},
   "outputs": [],
   "source": [
    "# create dataframe that joins the hauls from bv sets to the predicted hauls (df_results) to get the set number for trip 3\n",
    "conn = sqlite3.connect(\":memory:\")\n",
    "bv_sets3 = Brancol3data[\"bv_sets\"]\n",
    "df_hauls3 = bv_sets3.loc[:, [\"set_number\", \"haul_start_datetime\", \"haul_end_datetime\"]]\n",
    "\n",
    "# write the tables\n",
    "df_results3.to_sql(\"results\", conn, index=False)\n",
    "df_hauls3.to_sql(\"hauls\", conn, index=False)\n",
    "\n",
    "query = \"\"\"\n",
    "select\n",
    "results.*,\n",
    "hauls.set_number\n",
    "\n",
    "from results\n",
    "left join hauls on results.utc_start_datetime between hauls.haul_start_datetime and hauls.haul_end_datetime\n",
    "\n",
    "\"\"\"\n",
    "df_results3_setnumber = pd.read_sql_query(query, conn)\n",
    "df_results3_setnumber[\"utc_end_datetime\"] = pd.to_datetime(\n",
    "    df_results3_setnumber[\"utc_end_datetime\"]\n",
    ")\n",
    "df_results3_setnumber[\"utc_start_datetime\"] = pd.to_datetime(\n",
    "    df_results3_setnumber[\"utc_start_datetime\"]\n",
    ")"
   ]
  },
  {
   "cell_type": "code",
   "execution_count": 156,
   "id": "5155c7f1-c280-4cb6-a542-26a70530ba39",
   "metadata": {
    "scrolled": true
   },
   "outputs": [
    {
     "data": {
      "image/png": "[encoded data removed]",
      "text/plain": [
       "<Figure size 800x100 with 4 Axes>"
      ]
     },
     "metadata": {},
     "output_type": "display_data"
    }
   ],
   "source": [
    "# plot sets of interest for trip 2\n",
    "interest_sets = [7, 9, 10, 13]\n",
    "\n",
    "results = df_results_setnumber\n",
    "\n",
    "%matplotlib inline\n",
    "# %matplotlib widget\n",
    "fig, axes = plt.subplots(1, 4, figsize=(8, 1), sharey=True)\n",
    "label = \"haul stops\"\n",
    "chart_labels = [\"a\", \"b\", \"c\", \"d\"]\n",
    "\n",
    "df_hauls = results.loc[results.predict_haul == 1]\n",
    "\n",
    "# hlines for the event bars\n",
    "yticks = [0.175, 0.5, 0.825]\n",
    "yticks = [0.3, 0.7, 1.825]\n",
    "yheight = 0.4\n",
    "ypos = [tick - (yheight / 2) for tick in yticks]\n",
    "\n",
    "for i, set_n in enumerate(interest_sets):\n",
    "    ax = axes[i]\n",
    "    ax.hlines(yticks, 0.01, 0.99, transform=ax.transAxes, colors=\"grey\", lw=0.2, zorder=0)\n",
    "    # ticks for the event bar positions and labels\n",
    "    ytick_labels = [\"Predicted Hauls\", \"Haul Stops\", \"Analyst Hauls\"]\n",
    "    ax.set_yticks(yticks, ytick_labels)\n",
    "    ax.set_yticklabels([])\n",
    "    ax.set_ylim([0, 1])\n",
    "\n",
    "    # plotting event bars\n",
    "    p1 = plot_event_bars(\n",
    "        brancol2_bv_sets.loc[brancol2_bv_sets[\"set_number\"].astype(int) == set_n].copy(),\n",
    "        ax,\n",
    "        ytick_labels[2],\n",
    "        \"haul_start_datetime\",\n",
    "        end_col=\"haul_end_datetime\",\n",
    "        y_val=ypos[2],\n",
    "        y_height=yheight,\n",
    "        color=bv_color,\n",
    "    )\n",
    "    p2 = plot_event_bars(\n",
    "        haul_stopsBrancol2.loc[haul_stopsBrancol2[\"set_number\"] == set_n].copy(),\n",
    "        ax,\n",
    "        ytick_labels[1],\n",
    "        \"start_time\",\n",
    "        end_col=\"end_time\",\n",
    "        y_val=ypos[1],\n",
    "        y_height=yheight,\n",
    "        color=colors[13],\n",
    "    )\n",
    "    xlim = p1.axes.get_xlim()\n",
    "    p3 = plot_event_bars(\n",
    "        df_hauls,\n",
    "        ax,\n",
    "        ytick_labels[0],\n",
    "        \"utc_start_datetime\",\n",
    "        duration=\"5m\",\n",
    "        y_val=ypos[0],\n",
    "        y_height=yheight,\n",
    "    )\n",
    "\n",
    "    xmin = pd.Timestamp(xlim[0], unit=\"D\") - pd.Timedelta(\"1h\")\n",
    "    xmax = pd.Timestamp(xlim[1], unit=\"D\") + pd.Timedelta(\"1h\")\n",
    "    ax.set_xlim(xmin, xmax)\n",
    "    # p3.axes.set_xlim(xlim)\n",
    "\n",
    "    locator = DayLocator(bymonthday=1)\n",
    "    hour_locator = HourLocator(interval=2)\n",
    "    # formatter = mdates.ConciseDateFormatter(locator)\n",
    "    hour_formatter = mdates.ConciseDateFormatter(\n",
    "        hour_locator,\n",
    "        formats=[\"%Y\", \"%b\", \"%d\", \"%H h\", \"%H:%M\", \"%S.%f\"],\n",
    "        offset_formats=[\"\", \"%Y\", \"%Y-%b\", \"%Y-%b-%d\", \"%Y-%b-%d\", \"%Y-%b-%d %H:%M\"],\n",
    "        usetex=True,\n",
    "    )\n",
    "    fmt = \"%H h\"\n",
    "\n",
    "    ax.xaxis.set_major_locator(hour_locator)\n",
    "    ax.xaxis.set_major_formatter(hour_formatter)\n",
    "    ax.xaxis.get_offset_text().set_fontweight(\"bold\")\n",
    "    ax.tick_params(axis=\"y\", length=0)\n",
    "    sns.despine(trim=True, left=True)\n",
    "\n",
    "    ax.text(\n",
    "        0.02,\n",
    "        1.05,\n",
    "        f\"({chart_labels[i]})\",\n",
    "        transform=ax.transAxes,\n",
    "        fontsize=9,\n",
    "        fontweight=\"bold\",\n",
    "        va=\"top\",\n",
    "        ha=\"left\",\n",
    "    )\n",
    "\n",
    "handles, labels = ax.get_legend_handles_labels()\n",
    "fig.legend(\n",
    "    handles[1:],\n",
    "    labels[1:],\n",
    "    loc=\"upper center\",\n",
    "    fontsize=9,\n",
    "    bbox_to_anchor=(0.5, 1.25),\n",
    "    ncol=2,\n",
    "    frameon=False,\n",
    ")\n",
    "\n",
    "# Adding bolded labels to the top left corner of each subplot\n",
    "\n",
    "plt.savefig(\"haulstop_subsets.png\", bbox_inches=\"tight\")\n"
   ]
  },
  {
   "cell_type": "markdown",
   "id": "57a6d099-3de8-481e-b7d4-89a0347d27d4",
   "metadata": {},
   "source": [
    "### category correlations"
   ]
  },
  {
   "cell_type": "markdown",
   "id": "4b67d45f-a018-4e53-a408-76b427223aba",
   "metadata": {},
   "source": [
    "##### joining events to ai"
   ]
  },
  {
   "cell_type": "code",
   "execution_count": 157,
   "id": "35ef736b-e8ff-4383-aff7-bde8770e43e9",
   "metadata": {},
   "outputs": [
    {
     "data": {
      "text/html": [
       "<div>\n",
       "<style scoped>\n",
       "    .dataframe tbody tr th:only-of-type {\n",
       "        vertical-align: middle;\n",
       "    }\n",
       "\n",
       "    .dataframe tbody tr th {\n",
       "        vertical-align: top;\n",
       "    }\n",
       "\n",
       "    .dataframe thead th {\n",
       "        text-align: right;\n",
       "    }\n",
       "</style>\n",
       "<table border=\"1\" class=\"dataframe\">\n",
       "  <thead>\n",
       "    <tr style=\"text-align: right;\">\n",
       "      <th></th>\n",
       "      <th>utc_start_datetime</th>\n",
       "      <th>weighted_count</th>\n",
       "      <th>detection_confidence</th>\n",
       "      <th>count</th>\n",
       "      <th>is_haul</th>\n",
       "      <th>id</th>\n",
       "      <th>rolling_weighted_count</th>\n",
       "      <th>rolling_count</th>\n",
       "      <th>predictions</th>\n",
       "      <th>utc_end_datetime</th>\n",
       "      <th>haul</th>\n",
       "      <th>predict_haul</th>\n",
       "    </tr>\n",
       "  </thead>\n",
       "  <tbody>\n",
       "    <tr>\n",
       "      <th>0</th>\n",
       "      <td>2024-02-03 16:45:00</td>\n",
       "      <td>0.0</td>\n",
       "      <td>0.0</td>\n",
       "      <td>0.0</td>\n",
       "      <td>0</td>\n",
       "      <td>10181</td>\n",
       "      <td>0.0</td>\n",
       "      <td>0.0</td>\n",
       "      <td>no_haul</td>\n",
       "      <td>2024-02-03 16:50:00</td>\n",
       "      <td>no_haul</td>\n",
       "      <td>0</td>\n",
       "    </tr>\n",
       "    <tr>\n",
       "      <th>1</th>\n",
       "      <td>2024-02-03 16:50:00</td>\n",
       "      <td>0.0</td>\n",
       "      <td>0.0</td>\n",
       "      <td>0.0</td>\n",
       "      <td>0</td>\n",
       "      <td>10183</td>\n",
       "      <td>0.0</td>\n",
       "      <td>0.0</td>\n",
       "      <td>no_haul</td>\n",
       "      <td>2024-02-03 16:55:00</td>\n",
       "      <td>no_haul</td>\n",
       "      <td>0</td>\n",
       "    </tr>\n",
       "    <tr>\n",
       "      <th>2</th>\n",
       "      <td>2024-02-03 16:55:00</td>\n",
       "      <td>0.0</td>\n",
       "      <td>0.0</td>\n",
       "      <td>0.0</td>\n",
       "      <td>0</td>\n",
       "      <td>10185</td>\n",
       "      <td>0.0</td>\n",
       "      <td>0.0</td>\n",
       "      <td>no_haul</td>\n",
       "      <td>2024-02-03 17:00:00</td>\n",
       "      <td>no_haul</td>\n",
       "      <td>0</td>\n",
       "    </tr>\n",
       "    <tr>\n",
       "      <th>3</th>\n",
       "      <td>2024-02-03 17:05:00</td>\n",
       "      <td>0.0</td>\n",
       "      <td>0.0</td>\n",
       "      <td>0.0</td>\n",
       "      <td>0</td>\n",
       "      <td>10220</td>\n",
       "      <td>0.0</td>\n",
       "      <td>0.0</td>\n",
       "      <td>no_haul</td>\n",
       "      <td>2024-02-03 17:10:00</td>\n",
       "      <td>no_haul</td>\n",
       "      <td>0</td>\n",
       "    </tr>\n",
       "    <tr>\n",
       "      <th>4</th>\n",
       "      <td>2024-02-03 17:10:00</td>\n",
       "      <td>0.0</td>\n",
       "      <td>0.0</td>\n",
       "      <td>0.0</td>\n",
       "      <td>0</td>\n",
       "      <td>10221</td>\n",
       "      <td>0.0</td>\n",
       "      <td>0.0</td>\n",
       "      <td>no_haul</td>\n",
       "      <td>2024-02-03 17:15:00</td>\n",
       "      <td>no_haul</td>\n",
       "      <td>0</td>\n",
       "    </tr>\n",
       "  </tbody>\n",
       "</table>\n",
       "</div>"
      ],
      "text/plain": [
       "   utc_start_datetime  weighted_count  detection_confidence  count  is_haul  \\\n",
       "0 2024-02-03 16:45:00             0.0                   0.0    0.0        0   \n",
       "1 2024-02-03 16:50:00             0.0                   0.0    0.0        0   \n",
       "2 2024-02-03 16:55:00             0.0                   0.0    0.0        0   \n",
       "3 2024-02-03 17:05:00             0.0                   0.0    0.0        0   \n",
       "4 2024-02-03 17:10:00             0.0                   0.0    0.0        0   \n",
       "\n",
       "      id  rolling_weighted_count  rolling_count predictions  \\\n",
       "0  10181                     0.0            0.0     no_haul   \n",
       "1  10183                     0.0            0.0     no_haul   \n",
       "2  10185                     0.0            0.0     no_haul   \n",
       "3  10220                     0.0            0.0     no_haul   \n",
       "4  10221                     0.0            0.0     no_haul   \n",
       "\n",
       "     utc_end_datetime     haul  predict_haul  \n",
       "0 2024-02-03 16:50:00  no_haul             0  \n",
       "1 2024-02-03 16:55:00  no_haul             0  \n",
       "2 2024-02-03 17:00:00  no_haul             0  \n",
       "3 2024-02-03 17:10:00  no_haul             0  \n",
       "4 2024-02-03 17:15:00  no_haul             0  "
      ]
     },
     "execution_count": 157,
     "metadata": {},
     "output_type": "execute_result"
    }
   ],
   "source": [
    "df_results.head()"
   ]
  },
  {
   "cell_type": "code",
   "execution_count": 109,
   "id": "446d5acb-ed94-4dba-a22e-2592406ad0cb",
   "metadata": {},
   "outputs": [],
   "source": [
    "categories = eventsBrancol2[\"category\"].unique()\n",
    "\n",
    "# categories = np.delete(categories, -1)\n"
   ]
  },
  {
   "cell_type": "code",
   "execution_count": 110,
   "id": "713809a7-1ba9-4b9b-b297-039da17cd177",
   "metadata": {},
   "outputs": [
    {
     "data": {
      "text/plain": [
       "array([nan, 'Haul Stop', 'No Video', 'Camera Blocked', 'Abnormal Catch',\n",
       "       'Abnormal Haul', 'Other Gear', 'No Elog'], dtype=object)"
      ]
     },
     "execution_count": 110,
     "metadata": {},
     "output_type": "execute_result"
    }
   ],
   "source": [
    "categories"
   ]
  },
  {
   "cell_type": "code",
   "execution_count": 111,
   "id": "2bc8c502-b1a9-4e30-a3c9-7dfdc5e179eb",
   "metadata": {},
   "outputs": [],
   "source": [
    "categories = [category for category in categories if str(category) != \"nan\"]"
   ]
  },
  {
   "cell_type": "code",
   "execution_count": 112,
   "id": "8637fd39-6ed5-45d1-b657-c58e65a670f4",
   "metadata": {},
   "outputs": [],
   "source": [
    "df_results = df_results.loc[:, ~df_results.columns.duplicated()]\n",
    "# df_results.head()"
   ]
  },
  {
   "cell_type": "code",
   "execution_count": 158,
   "id": "4a155c5e-a9c5-439a-b04d-258008892d74",
   "metadata": {},
   "outputs": [],
   "source": [
    "# joining df_results with each category from eventsBrancol2\n",
    "df_events = eventsBrancol2.copy()\n",
    "df_category_results = df_results_setnumber.copy()\n",
    "# iterate through each category\n",
    "select_columns = df_results.columns.to_list()\n",
    "select_columns = [\"results.\" + x for x in select_columns]\n",
    "for category in categories:\n",
    "    # create a category df\n",
    "    df_category = df_events.loc[df_events[\"category\"] == category].copy()\n",
    "    df_category = df_category.loc[:, [\"start_time\", \"end_time\", \"category\", \"set_number\"]]\n",
    "\n",
    "    column_label = \"is_\" + \"_\".join(category.lower().split(\" \"))\n",
    "\n",
    "    # Make the db in memory\n",
    "    conn = sqlite3.connect(\":memory:\")\n",
    "    # write the tables\n",
    "    df_category_results.to_sql(\"results\", conn, index=False)\n",
    "    df_category.to_sql(\"category\", conn, index=False)\n",
    "\n",
    "    query = f\"\"\"\n",
    "        select\n",
    "        {', '.join(select_columns)},\n",
    "        category.category is not null as {column_label}\n",
    "\n",
    "        from results\n",
    "        left join category on\n",
    "        results.utc_start_datetime between category.start_time and category.end_time or\n",
    "        category.start_time between results.utc_start_datetime and results.utc_end_datetime\n",
    "        \"\"\"\n",
    "\n",
    "    df_category_results = pd.read_sql_query(query, conn)\n",
    "    select_columns.append(column_label)\n",
    "\n",
    "\n",
    "if \"set_number\" not in df_category_results.columns.to_list():\n",
    "    conn = sqlite3.connect(\":memory:\")\n",
    "    bv_sets = Brancol2data[\"bv_sets\"]\n",
    "    df_hauls = bv_sets.loc[:, [\"set_number\", \"haul_start_datetime\", \"haul_end_datetime\"]]\n",
    "\n",
    "    # write the tables to add set_number\n",
    "    df_category_results.to_sql(\"results\", conn, index=False)\n",
    "    df_hauls.to_sql(\"hauls\", conn, index=False)\n",
    "\n",
    "    query = \"\"\"\n",
    "    select\n",
    "    results.*,\n",
    "    hauls.set_number\n",
    "\n",
    "    from results\n",
    "    left join hauls on results.utc_start_datetime between hauls.haul_start_datetime and hauls.haul_end_datetime\n",
    "\n",
    "    \"\"\"\n",
    "    df_category_results = pd.read_sql_query(query, conn)\n"
   ]
  },
  {
   "cell_type": "code",
   "execution_count": 159,
   "id": "e000a4be-664e-4f4f-90bd-d45f5389964f",
   "metadata": {},
   "outputs": [
    {
     "data": {
      "text/plain": [
       "predict_haul        -1.000000\n",
       "is_haul_stop         0.028101\n",
       "is_no_video         -0.032885\n",
       "is_no_elog                NaN\n",
       "is_camera_blocked   -0.023238\n",
       "is_abnormal_catch    0.073607\n",
       "is_abnormal_haul     0.060077\n",
       "is_other_gear       -0.156373\n",
       "video_haul_stop      0.021326\n",
       "predict_no_haul      1.000000\n",
       "Name: predict_no_haul, dtype: float64"
      ]
     },
     "execution_count": 159,
     "metadata": {},
     "output_type": "execute_result"
    }
   ],
   "source": [
    "# looking for correlations with the no_haul predictions\n",
    "df_category_only_hauls[\"predict_no_haul\"] = df_category_only_hauls[\"predict_haul\"].map({0: 1, 1: 0})\n",
    "\n",
    "\n",
    "df_category_only_hauls.corr()[\"predict_no_haul\"]"
   ]
  },
  {
   "cell_type": "markdown",
   "id": "81ad213d-c655-4df8-999b-ce4912e2a36b",
   "metadata": {},
   "source": [
    "### finding over lap between no_haul predictions and haul stops"
   ]
  },
  {
   "cell_type": "code",
   "execution_count": 161,
   "id": "54ae9065-bdda-439a-80c0-c339ee0a913d",
   "metadata": {},
   "outputs": [],
   "source": [
    "## for trip 2\n",
    "df_events = eventsBrancol2.copy()\n",
    "df_haul_stop_results = df_results_setnumber.copy()\n",
    "\n",
    "\n",
    "# get a list of the results columns to use for the sql select statement\n",
    "select_columns = df_results_setnumber.columns.to_list()\n",
    "select_columns = [\"results.\" + x for x in select_columns]\n",
    "\n",
    "# creating a df of only HaulStop events\n",
    "category = \"Haul Stop\"\n",
    "dfHaulStop = df_events.loc[df_events[\"category\"] == category].copy()\n",
    "dfHaulStop = dfHaulStop.loc[:, [\"start_time\", \"end_time\", \"category\", \"set_number\"]]\n",
    "dfHaulStop = dfHaulStop.reset_index().rename(columns={\"index\": \"haul_stop_id\"})\n",
    "\n",
    "column_label = \"is_\" + \"_\".join(category.lower().split(\" \"))\n",
    "\n",
    "# Make the db in memory\n",
    "conn = sqlite3.connect(\":memory:\")\n",
    "# write the tables\n",
    "df_haul_stop_results.to_sql(\"results\", conn, index=False)\n",
    "dfHaulStop.to_sql(\"category\", conn, index=False)\n",
    "\n",
    "# sql query to join haul stop events to the results if the prediction window is between the haul stop start/end or if the haul stop start time is between the prediction window\n",
    "query = f\"\"\"\n",
    "    select\n",
    "    {', '.join(select_columns)},\n",
    "    category.category is not null as {column_label},\n",
    "    category.haul_stop_id,\n",
    "    category.start_time as haul_stop_start,\n",
    "    category.end_time as haul_stop_end\n",
    "\n",
    "    from results\n",
    "    left join category on\n",
    "        results.utc_start_datetime between category.start_time and category.end_time or\n",
    "        category.start_time between results.utc_start_datetime and results.utc_end_datetime\n",
    "    \"\"\"\n",
    "\n",
    "df_haul_stop_results = pd.read_sql_query(query, conn)\n",
    "# setting up a column of predict_no_haul that is opposite of predict_haul\n",
    "df_haul_stop_results[\"predict_no_haul\"] = df_haul_stop_results[\"predict_haul\"].map({0: 1, 1: 0})\n",
    "df_haul_stop_results = df_haul_stop_results.loc[df_haul_stop_results[\"is_haul\"] == 1]\n",
    "df_haul_stop_results = df_haul_stop_results[\n",
    "    [\n",
    "        \"utc_start_datetime\",\n",
    "        \"utc_end_datetime\",\n",
    "        \"is_haul\",\n",
    "        \"predict_haul\",\n",
    "        \"predict_no_haul\",\n",
    "        \"set_number\",\n",
    "        \"is_haul_stop\",\n",
    "        \"haul_stop_id\",\n",
    "        \"haul_stop_start\",\n",
    "        \"haul_stop_end\",\n",
    "    ]\n",
    "]\n",
    "\n",
    "# converting columns to datetime\n",
    "df_haul_stop_results[\"utc_end_datetime\"] = pd.to_datetime(df_haul_stop_results[\"utc_end_datetime\"])\n",
    "df_haul_stop_results[\"utc_start_datetime\"] = pd.to_datetime(\n",
    "    df_haul_stop_results[\"utc_start_datetime\"]\n",
    ")\n",
    "df_haul_stop_results[\"haul_stop_end\"] = pd.to_datetime(df_haul_stop_results[\"haul_stop_end\"])\n",
    "df_haul_stop_results[\"haul_stop_start\"] = pd.to_datetime(df_haul_stop_results[\"haul_stop_start\"])\n",
    "dfHaulStop[\"end_time\"] = pd.to_datetime(dfHaulStop[\"end_time\"])\n",
    "dfHaulStop[\"start_time\"] = pd.to_datetime(dfHaulStop[\"start_time\"])"
   ]
  },
  {
   "cell_type": "code",
   "execution_count": null,
   "id": "2a606306-f72d-4f2d-b86a-4e6aca23abf8",
   "metadata": {},
   "outputs": [],
   "source": [
    "## for trip 3\n",
    "df_events3 = eventsBrancol3.copy()\n",
    "df_haul_stop_results3 = df_results3_setnumber.copy()\n",
    "# iterate through each category\n",
    "select_columns = df_results3_setnumber.columns.to_list()\n",
    "\n",
    "\n",
    "select_columns = [\"results.\" + x for x in select_columns]\n",
    "\n",
    "category = \"Haul Stop\"\n",
    "dfHaulStop3 = df_events3.loc[df_events3[\"category\"] == category].copy()\n",
    "dfHaulStop3 = dfHaulStop3.loc[:, [\"start_time\", \"end_time\", \"category\", \"set_number\"]]\n",
    "dfHaulStop3 = dfHaulStop3.reset_index().rename(columns={\"index\": \"haul_stop_id\"})\n",
    "\n",
    "column_label = \"is_\" + \"_\".join(category.lower().split(\" \"))\n",
    "\n",
    "# Make the db in memory\n",
    "conn = sqlite3.connect(\":memory:\")\n",
    "# write the tables\n",
    "df_haul_stop_results3.to_sql(\"results\", conn, index=False)\n",
    "dfHaulStop3.to_sql(\"category\", conn, index=False)\n",
    "\n",
    "\n",
    "query = f\"\"\"\n",
    "    select\n",
    "    {', '.join(select_columns)},\n",
    "    category.category is not null as {column_label},\n",
    "    category.haul_stop_id,\n",
    "    category.start_time as haul_stop_start,\n",
    "    category.end_time as haul_stop_end\n",
    "\n",
    "    from results\n",
    "    left join category on\n",
    "        results.utc_start_datetime between category.start_time and category.end_time or\n",
    "        category.start_time between results.utc_start_datetime and results.utc_end_datetime\n",
    "    \"\"\"\n",
    "\n",
    "print(query)\n",
    "\n",
    "df_haul_stop_results3 = pd.read_sql_query(query, conn)\n",
    "df_haul_stop_results3[\"predict_no_haul\"] = df_haul_stop_results3[\"predict_haul\"].map({0: 1, 1: 0})\n",
    "df_haul_stop_results3 = df_haul_stop_results3.loc[df_haul_stop_results3[\"is_haul\"] == 1]\n",
    "df_haul_stop_results3 = df_haul_stop_results3[\n",
    "    [\n",
    "        \"utc_start_datetime\",\n",
    "        \"utc_end_datetime\",\n",
    "        \"is_haul\",\n",
    "        \"predict_haul\",\n",
    "        \"predict_no_haul\",\n",
    "        \"set_number\",\n",
    "        \"is_haul_stop\",\n",
    "        \"haul_stop_id\",\n",
    "        \"haul_stop_start\",\n",
    "        \"haul_stop_end\",\n",
    "    ]\n",
    "]\n",
    "\n",
    "df_haul_stop_results3[\"utc_end_datetime\"] = pd.to_datetime(\n",
    "    df_haul_stop_results3[\"utc_end_datetime\"]\n",
    ")\n",
    "df_haul_stop_results3[\"utc_start_datetime\"] = pd.to_datetime(\n",
    "    df_haul_stop_results3[\"utc_start_datetime\"]\n",
    ")\n",
    "\n",
    "df_haul_stop_results3[\"haul_stop_end\"] = pd.to_datetime(df_haul_stop_results3[\"haul_stop_end\"])\n",
    "df_haul_stop_results3[\"haul_stop_start\"] = pd.to_datetime(df_haul_stop_results3[\"haul_stop_start\"])\n",
    "\n",
    "dfHaulStop3[\"end_time\"] = pd.to_datetime(dfHaulStop3[\"end_time\"])\n",
    "dfHaulStop3[\"start_time\"] = pd.to_datetime(dfHaulStop3[\"start_time\"])"
   ]
  },
  {
   "cell_type": "code",
   "execution_count": 165,
   "id": "ebccc766-23ee-4796-b2e0-f67732edbb8b",
   "metadata": {},
   "outputs": [
    {
     "name": "stdout",
     "output_type": "stream",
     "text": [
      "trip 3 durations\n",
      "bv haul duration: 4316.0\n",
      "bv haul duration aligned with ai results: 2970.0\n",
      "haul stop total duration: 215.0\n",
      "number of haul stops that aligned with no haul prediction: 8\n"
     ]
    }
   ],
   "source": [
    "# get the total number of minutes of haul events recorded by bv for trip 3\n",
    "print(\"trip 3 durations\")\n",
    "brancol3_bv_sets[\"duration_minutes\"] = brancol3_bv_sets[\"duration\"].apply(\n",
    "    lambda x: x.total_seconds() / 60\n",
    ")\n",
    "print(f'bv haul duration: {sum(brancol3_bv_sets['duration_minutes'])}')\n",
    "\n",
    "df_haul_stop_results3[\"haul_duration\"] = df_haul_stop_results3.apply(\n",
    "    lambda x: (x[\"utc_end_datetime\"] - x[\"utc_start_datetime\"]).total_seconds() / 60, axis=1\n",
    ")\n",
    "print(f'bv haul duration aligned with ai results: {sum(df_haul_stop_results3['haul_duration'])}')\n",
    "\n",
    "# get total duration of haul stops from the haul stops that have available results\n",
    "only_stops3 = df_haul_stop_results3.loc[df_haul_stop_results3[\"is_haul_stop\"] == 1].copy()\n",
    "only_stops3 = only_stops3[[\"haul_stop_id\", \"haul_stop_start\", \"haul_stop_end\"]].drop_duplicates()\n",
    "only_stops3[\"duration\"] = only_stops3.apply(\n",
    "    lambda x: (x[\"haul_stop_end\"] - x[\"haul_stop_start\"]).total_seconds() / 60, axis=1\n",
    ")\n",
    "haul_stop_total3 = sum(only_stops3[\"duration\"])\n",
    "print(f\"haul stop total duration: {haul_stop_total3}\")\n",
    "\n",
    "haul_stops_group3 = (\n",
    "    df_haul_stop_results3.groupby([\"haul_stop_id\", \"haul_stop_start\", \"haul_stop_end\"])\n",
    "    .agg({\"predict_no_haul\": \"max\"})\n",
    "    .reset_index()\n",
    ")\n",
    "print(f\"number of haul stops that aligned with no haul prediction: {len(haul_stops_group3)}\")"
   ]
  },
  {
   "cell_type": "code",
   "execution_count": 166,
   "id": "2984901a-cb5c-4949-92c7-4e3b1e73722c",
   "metadata": {},
   "outputs": [
    {
     "name": "stdout",
     "output_type": "stream",
     "text": [
      "trip 2 durations\n",
      "bv total haul duration: 5640.0\n",
      "bv haul duration aligned with ai results: 3920.0\n",
      "haul stop total duration: 715.0\n",
      "number of haul stops that aligned with no haul prediction: 34\n"
     ]
    }
   ],
   "source": [
    "# get the total number of minutes of haul events recorded by bv for trip 2\n",
    "print(\"trip 2 durations\")\n",
    "brancol2_bv_sets[\"duration_minutes\"] = brancol2_bv_sets[\"duration\"].apply(\n",
    "    lambda x: x.total_seconds() / 60\n",
    ")\n",
    "print(f'bv total haul duration: {sum(brancol2_bv_sets['duration_minutes'])}')\n",
    "\n",
    "# get the total number of minutes of bv haul events where a bv haul aligned with the ai results (if there were no ai catch count results, then those times are excluded)\n",
    "df_haul_stop_results[\"haul_duration\"] = df_haul_stop_results.apply(\n",
    "    lambda x: (x[\"utc_end_datetime\"] - x[\"utc_start_datetime\"]).total_seconds() / 60, axis=1\n",
    ")\n",
    "print(f'bv haul duration aligned with ai results: {sum(df_haul_stop_results['haul_duration'])}')\n",
    "\n",
    "# get total duration of haul stops from the haul stops that have available results\n",
    "only_stops = df_haul_stop_results.loc[df_haul_stop_results[\"is_haul_stop\"] == 1].copy()\n",
    "only_stops = only_stops[[\"haul_stop_id\", \"haul_stop_start\", \"haul_stop_end\"]].drop_duplicates()\n",
    "only_stops[\"duration\"] = only_stops.apply(\n",
    "    lambda x: (x[\"haul_stop_end\"] - x[\"haul_stop_start\"]).total_seconds() / 60, axis=1\n",
    ")\n",
    "haul_stop_total = sum(only_stops[\"duration\"])\n",
    "print(f\"haul stop total duration: {haul_stop_total}\")\n",
    "\n",
    "haul_stops_group = (\n",
    "    df_haul_stop_results.groupby([\"haul_stop_id\", \"haul_stop_start\", \"haul_stop_end\"])\n",
    "    .agg({\"predict_no_haul\": \"max\"})\n",
    "    .reset_index()\n",
    ")\n",
    "print(f\"number of haul stops that aligned with no haul prediction: {len(haul_stops_group)}\")"
   ]
  },
  {
   "cell_type": "code",
   "execution_count": 167,
   "id": "c11ff781-68ad-4b97-8c4a-deeab858e49a",
   "metadata": {},
   "outputs": [
    {
     "data": {
      "text/html": [
       "<div>\n",
       "<style scoped>\n",
       "    .dataframe tbody tr th:only-of-type {\n",
       "        vertical-align: middle;\n",
       "    }\n",
       "\n",
       "    .dataframe tbody tr th {\n",
       "        vertical-align: top;\n",
       "    }\n",
       "\n",
       "    .dataframe thead th {\n",
       "        text-align: right;\n",
       "    }\n",
       "</style>\n",
       "<table border=\"1\" class=\"dataframe\">\n",
       "  <thead>\n",
       "    <tr style=\"text-align: right;\">\n",
       "      <th></th>\n",
       "      <th>haul_stop_id</th>\n",
       "      <th>start_time</th>\n",
       "      <th>end_time</th>\n",
       "      <th>category</th>\n",
       "      <th>set_number</th>\n",
       "      <th>duration</th>\n",
       "    </tr>\n",
       "  </thead>\n",
       "  <tbody>\n",
       "    <tr>\n",
       "      <th>0</th>\n",
       "      <td>43</td>\n",
       "      <td>2024-02-05 13:24:00</td>\n",
       "      <td>2024-02-05 13:54:00</td>\n",
       "      <td>Haul Stop</td>\n",
       "      <td>1.0</td>\n",
       "      <td>0 days 00:30:00</td>\n",
       "    </tr>\n",
       "    <tr>\n",
       "      <th>1</th>\n",
       "      <td>46</td>\n",
       "      <td>2024-02-07 02:40:00</td>\n",
       "      <td>2024-02-07 03:31:00</td>\n",
       "      <td>Haul Stop</td>\n",
       "      <td>2.0</td>\n",
       "      <td>0 days 00:51:00</td>\n",
       "    </tr>\n",
       "    <tr>\n",
       "      <th>2</th>\n",
       "      <td>52</td>\n",
       "      <td>2024-02-09 14:38:00</td>\n",
       "      <td>2024-02-09 14:40:00</td>\n",
       "      <td>Haul Stop</td>\n",
       "      <td>4.0</td>\n",
       "      <td>0 days 00:02:00</td>\n",
       "    </tr>\n",
       "    <tr>\n",
       "      <th>3</th>\n",
       "      <td>53</td>\n",
       "      <td>2024-02-09 16:37:00</td>\n",
       "      <td>2024-02-09 17:09:00</td>\n",
       "      <td>Haul Stop</td>\n",
       "      <td>4.0</td>\n",
       "      <td>0 days 00:32:00</td>\n",
       "    </tr>\n",
       "    <tr>\n",
       "      <th>4</th>\n",
       "      <td>54</td>\n",
       "      <td>2024-02-09 17:31:00</td>\n",
       "      <td>2024-02-09 17:53:00</td>\n",
       "      <td>Haul Stop</td>\n",
       "      <td>4.0</td>\n",
       "      <td>0 days 00:22:00</td>\n",
       "    </tr>\n",
       "  </tbody>\n",
       "</table>\n",
       "</div>"
      ],
      "text/plain": [
       "   haul_stop_id          start_time            end_time   category  \\\n",
       "0            43 2024-02-05 13:24:00 2024-02-05 13:54:00  Haul Stop   \n",
       "1            46 2024-02-07 02:40:00 2024-02-07 03:31:00  Haul Stop   \n",
       "2            52 2024-02-09 14:38:00 2024-02-09 14:40:00  Haul Stop   \n",
       "3            53 2024-02-09 16:37:00 2024-02-09 17:09:00  Haul Stop   \n",
       "4            54 2024-02-09 17:31:00 2024-02-09 17:53:00  Haul Stop   \n",
       "\n",
       "   set_number        duration  \n",
       "0         1.0 0 days 00:30:00  \n",
       "1         2.0 0 days 00:51:00  \n",
       "2         4.0 0 days 00:02:00  \n",
       "3         4.0 0 days 00:32:00  \n",
       "4         4.0 0 days 00:22:00  "
      ]
     },
     "execution_count": 167,
     "metadata": {},
     "output_type": "execute_result"
    }
   ],
   "source": [
    "dfHaulStop[\"duration\"] = dfHaulStop[\"end_time\"] - dfHaulStop[\"start_time\"]\n",
    "dfHaulStop.head()"
   ]
  },
  {
   "cell_type": "code",
   "execution_count": 169,
   "id": "5ba66b5b-b15c-4344-9747-bf0c8616ef26",
   "metadata": {},
   "outputs": [],
   "source": [
    "def find_overlap_duration(row):\n",
    "    # finds the overlap time of haul stops with the predicted no_haul events\n",
    "    if row[\"is_haul_stop\"] == 1:\n",
    "        latest_start = max(row[\"utc_start_datetime\"], row[\"haul_stop_start\"])\n",
    "        earliest_end = min(row[\"utc_end_datetime\"], row[\"haul_stop_end\"])\n",
    "        duration = (earliest_end - latest_start).total_seconds() / 60\n",
    "    else:\n",
    "        duration = 0\n",
    "    return duration"
   ]
  },
  {
   "cell_type": "code",
   "execution_count": 170,
   "id": "d0fa1840-5950-44f8-97bb-ea5118bffdf3",
   "metadata": {},
   "outputs": [],
   "source": [
    "df_haul_stop_results[\"overlap_minutes\"] = df_haul_stop_results.apply(\n",
    "    lambda x: find_overlap_duration(x), axis=1\n",
    ")\n"
   ]
  },
  {
   "cell_type": "markdown",
   "id": "cff80ee0-dc8b-4e14-8b18-09e32f738d85",
   "metadata": {},
   "source": [
    "### venn diagram"
   ]
  },
  {
   "cell_type": "code",
   "execution_count": 171,
   "id": "9a34038e-a63b-424a-84af-8040a7607aea",
   "metadata": {},
   "outputs": [],
   "source": [
    "df_results3[\"duration\"] = df_results3[\"utc_end_datetime\"] - df_results3[\"utc_start_datetime\"]\n",
    "df_onlyhaul3 = df_results3.loc[df_results3.is_haul == 1].copy()"
   ]
  },
  {
   "cell_type": "code",
   "execution_count": 172,
   "id": "ee09dd34-15b0-440b-b038-b3f599e2ae44",
   "metadata": {},
   "outputs": [
    {
     "data": {
      "text/plain": [
       "26.25"
      ]
     },
     "execution_count": 172,
     "metadata": {},
     "output_type": "execute_result"
    }
   ],
   "source": [
    "df_onlyhaul3[\"duration_minutes\"] = df_results3[\"duration\"].apply(lambda x: x.total_seconds() / 60)\n",
    "sum(df_onlyhaul3[\"duration_minutes\"].loc[df_onlyhaul3[\"predict_haul\"] == 0]) / 60"
   ]
  },
  {
   "cell_type": "code",
   "execution_count": 173,
   "id": "e80710c2-adc2-48cc-ac21-a0bfc0d068ab",
   "metadata": {},
   "outputs": [
    {
     "data": {
      "text/plain": [
       "0.3784860557768924"
      ]
     },
     "execution_count": 173,
     "metadata": {},
     "output_type": "execute_result"
    }
   ],
   "source": [
    "# get duration of overlap\n",
    "haulstop_total2 = sum(\n",
    "    df_haul_stop_results[\"overlap_minutes\"]\n",
    ")  # total number of minutes where a haul stop over laps with a haul?\n",
    "overlap_nohaul2 = sum(\n",
    "    df_haul_stop_results.loc[df_haul_stop_results[\"predict_haul\"] == 0][\"overlap_minutes\"]\n",
    ")  # haul stops where predicted haul is 0,\n",
    "overlap_haul2 = sum(\n",
    "    df_haul_stop_results.loc[df_haul_stop_results[\"predict_haul\"] == 1][\"overlap_minutes\"]\n",
    ")  # hauls stops where there is a haul predicted\n",
    "total_nohaul2 = sum(\n",
    "    df_haul_stop_results.loc[df_haul_stop_results[\"predict_haul\"] == 0][\"haul_duration\"]\n",
    ")  # total prediction of haul gaps\n",
    "overlap_nohaul2 / haulstop_total2"
   ]
  },
  {
   "cell_type": "code",
   "execution_count": 174,
   "id": "77fa02e6-ea12-477e-be2f-11cad80a7728",
   "metadata": {},
   "outputs": [
    {
     "data": {
      "text/plain": [
       "0.6928571428571428"
      ]
     },
     "execution_count": 174,
     "metadata": {},
     "output_type": "execute_result"
    }
   ],
   "source": [
    "# get duration of overlap\n",
    "df_haul_stop_results3[\"overlap_minutes\"] = df_haul_stop_results3.apply(\n",
    "    lambda x: find_overlap_duration(x), axis=1\n",
    ")\n",
    "overlap_total3 = sum(df_haul_stop_results3[\"overlap_minutes\"])\n",
    "haulstop_total3 = sum(df_haul_stop_results3[\"overlap_minutes\"])\n",
    "overlap_nohaul3 = sum(\n",
    "    df_haul_stop_results3.loc[df_haul_stop_results3[\"predict_haul\"] == 0][\"overlap_minutes\"]\n",
    ")\n",
    "overlap_haul3 = sum(\n",
    "    df_haul_stop_results3.loc[df_haul_stop_results3[\"predict_haul\"] == 1][\"overlap_minutes\"]\n",
    ")\n",
    "total_nohaul3 = sum(\n",
    "    df_haul_stop_results3.loc[df_haul_stop_results3[\"predict_haul\"] == 0][\"haul_duration\"]\n",
    ")\n",
    "overlap_nohaul3 / haulstop_total3  # percentage of nohauls that are covered by haul stops?"
   ]
  },
  {
   "cell_type": "code",
   "execution_count": 176,
   "id": "8b8b4c6b-c27e-4631-a916-ab8ca256e287",
   "metadata": {},
   "outputs": [],
   "source": [
    "def format_hours_minutes(minutes):\n",
    "    hrs = minutes // 60\n",
    "    mins = minutes % 60\n",
    "    formatted = \"%dh %dm\" % (hrs, mins)\n",
    "    return formatted"
   ]
  },
  {
   "cell_type": "code",
   "execution_count": 178,
   "id": "4d2225f8-aa0f-4834-901e-265e019d4b14",
   "metadata": {},
   "outputs": [],
   "source": [
    "import matplotlib.patheffects as pe"
   ]
  },
  {
   "cell_type": "code",
   "execution_count": 180,
   "id": "0acaa2bc-3d7d-4a7b-84f1-0d62b92d41a0",
   "metadata": {},
   "outputs": [
    {
     "data": {
      "image/png": "[encoded data removed]",
      "text/plain": [
       "<Figure size 300x300 with 1 Axes>"
      ]
     },
     "metadata": {},
     "output_type": "display_data"
    }
   ],
   "source": [
    "# venn diagram for trip 2 and 3 combined\n",
    "from matplotlib_venn import venn2, venn2_circles\n",
    "\n",
    "plt.figure(figsize=(3, 3))\n",
    "# Use the venn2 function\n",
    "\n",
    "nohaul_color = colors[18]\n",
    "overlap_color = colors[17]\n",
    "haulstop_color = colors[13]\n",
    "\n",
    "haulstop_id = \"100\"\n",
    "overlap_id = \"110\"\n",
    "nohaul_id = \"010\"\n",
    "\n",
    "haulstop_total = haulstop_total2 + haulstop_total3\n",
    "total_nohaul = total_nohaul2 + total_nohaul3\n",
    "overlap_nohaul = overlap_nohaul2 + overlap_nohaul3\n",
    "\n",
    "haulstop_total\n",
    "v = venn2(\n",
    "    subsets=(haulstop_total, total_nohaul, overlap_nohaul),\n",
    "    set_labels=(\"Haul Stops\", \"Haul Prediction Gaps\"),\n",
    ")\n",
    "\n",
    "v.get_label_by_id(haulstop_id).set_text(\"\")\n",
    "v.get_label_by_id(overlap_id).set_text(\"\")\n",
    "v.get_label_by_id(nohaul_id).set_text(\"\")\n",
    "v.get_label_by_id(\"A\").set_fontsize(10)\n",
    "v.get_label_by_id(\"B\").set_fontsize(10)\n",
    "\n",
    "\n",
    "v.get_patch_by_id(overlap_id).set_color(overlap_color)  # overlap\n",
    "v.get_patch_by_id(overlap_id).set_alpha(1)\n",
    "\n",
    "v.get_patch_by_id(nohaul_id).set_color(nohaul_color)  # no haul prediction\n",
    "v.get_patch_by_id(nohaul_id).set_alpha(1)\n",
    "\n",
    "v.get_patch_by_id(haulstop_id).set_color(haulstop_color)  # haul stops\n",
    "v.get_patch_by_id(haulstop_id).set_alpha(1)\n",
    "\n",
    "\n",
    "plt.annotate(\n",
    "    format_hours_minutes(total_nohaul - overlap_nohaul),\n",
    "    xy=v.get_label_by_id(nohaul_id).get_position(),\n",
    "    xytext=(0, 0),\n",
    "    ha=\"center\",\n",
    "    textcoords=\"offset points\",\n",
    "    fontsize=10,\n",
    "    color=\"white\",\n",
    "    weight=\"bold\",\n",
    "    path_effects=[pe.withStroke(linewidth=4, foreground=colors[17], alpha=0.6)],\n",
    ")\n",
    "\n",
    "plt.annotate(\n",
    "    format_hours_minutes(overlap_nohaul),\n",
    "    xy=v.get_label_by_id(overlap_id).get_position(),\n",
    "    xytext=(-20, 50),\n",
    "    ha=\"center\",\n",
    "    textcoords=\"offset points\",\n",
    "    fontsize=10,\n",
    "    color=overlap_color,\n",
    "    weight=\"bold\",\n",
    "    # path_effects=[pe.withStroke(linewidth=4, foreground=overlap_color, alpha = 1)],\n",
    "    arrowprops=dict(\n",
    "        arrowstyle=\"->\",\n",
    "        lw=1.5,\n",
    "        connectionstyle=\"arc3,rad=-0.3\",\n",
    "        color=\"white\",\n",
    "        edgecolor=overlap_color,\n",
    "        path_effects=[pe.withStroke(linewidth=4, foreground=overlap_color, alpha=0.6)],\n",
    "    ),\n",
    "    # bbox=dict(boxstyle='round,pad=0.2', fc=overlap_color, edgecolor = overlap_color, alpha = 1 )\n",
    ")\n",
    "\n",
    "plt.annotate(\n",
    "    format_hours_minutes(haulstop_total - overlap_nohaul),\n",
    "    xy=v.get_label_by_id(haulstop_id).get_position(),\n",
    "    xytext=(0, 0),\n",
    "    ha=\"center\",\n",
    "    textcoords=\"offset points\",\n",
    "    fontsize=10,\n",
    "    color=\"white\",\n",
    "    weight=\"bold\",\n",
    "    path_effects=[pe.withStroke(linewidth=4, foreground=colors[12], alpha=0.6)],\n",
    "    # bbox=dict(boxstyle='round,pad=0.5', fc=, edgecolor = overlap_color, alpha = 1 )\n",
    ")\n",
    "\n",
    "plt.savefig(\"haul_stop_venn.png\", bbox_inches=\"tight\")"
   ]
  },
  {
   "cell_type": "code",
   "execution_count": 235,
   "id": "28c687b7-f347-4fea-b2f6-2c9e7914f779",
   "metadata": {},
   "outputs": [
    {
     "data": {
      "text/plain": [
       "0.4449685534591195"
      ]
     },
     "execution_count": 235,
     "metadata": {},
     "output_type": "execute_result"
    }
   ],
   "source": [
    "overlap_nohaul / haulstop_total"
   ]
  },
  {
   "cell_type": "code",
   "execution_count": 181,
   "id": "99800229-d085-422e-99d0-e3a0788a1731",
   "metadata": {},
   "outputs": [
    {
     "data": {
      "image/png": "[encoded data removed]",
      "text/plain": [
       "<Figure size 300x300 with 1 Axes>"
      ]
     },
     "metadata": {},
     "output_type": "display_data"
    }
   ],
   "source": [
    "# venn diagram for trip 3\n",
    "from matplotlib_venn import venn2, venn2_circles\n",
    "\n",
    "plt.figure(figsize=(3, 3))\n",
    "# Use the venn2 function\n",
    "\n",
    "nohaul_color = colors[18]\n",
    "overlap_color = colors[17]\n",
    "haulstop_color = colors[13]\n",
    "\n",
    "haulstop_id = \"100\"\n",
    "overlap_id = \"110\"\n",
    "nohaul_id = \"010\"\n",
    "\n",
    "v = venn2(\n",
    "    subsets=(overlap_total3, total_nohaul3, overlap_nohaul3),\n",
    "    set_labels=(\"Haul Stops\", \"Haul Prediction Gaps\"),\n",
    ")\n",
    "\n",
    "v.get_label_by_id(haulstop_id).set_text(\"\")\n",
    "v.get_label_by_id(overlap_id).set_text(\"\")\n",
    "v.get_label_by_id(nohaul_id).set_text(\"\")\n",
    "v.get_label_by_id(\"A\").set_fontsize(10)\n",
    "v.get_label_by_id(\"B\").set_fontsize(10)\n",
    "\n",
    "\n",
    "v.get_patch_by_id(overlap_id).set_color(overlap_color)  # overlap\n",
    "v.get_patch_by_id(overlap_id).set_alpha(1)\n",
    "\n",
    "v.get_patch_by_id(nohaul_id).set_color(nohaul_color)  # no haul prediction\n",
    "v.get_patch_by_id(nohaul_id).set_alpha(1)\n",
    "\n",
    "v.get_patch_by_id(haulstop_id).set_color(haulstop_color)  # haul stops\n",
    "v.get_patch_by_id(haulstop_id).set_alpha(1)\n",
    "\n",
    "\n",
    "plt.annotate(\n",
    "    format_hours_minutes(total_nohaul3 - overlap_nohaul3),\n",
    "    xy=v.get_label_by_id(nohaul_id).get_position(),\n",
    "    xytext=(0, 0),\n",
    "    ha=\"center\",\n",
    "    textcoords=\"offset points\",\n",
    "    fontsize=10,\n",
    "    color=\"white\",\n",
    "    weight=\"bold\",\n",
    "    path_effects=[pe.withStroke(linewidth=4, foreground=colors[17], alpha=0.6)],\n",
    ")\n",
    "\n",
    "plt.annotate(\n",
    "    format_hours_minutes(overlap_nohaul3),\n",
    "    xy=v.get_label_by_id(overlap_id).get_position(),\n",
    "    xytext=(-20, 50),\n",
    "    ha=\"center\",\n",
    "    textcoords=\"offset points\",\n",
    "    fontsize=10,\n",
    "    color=overlap_color,\n",
    "    weight=\"bold\",\n",
    "    # path_effects=[pe.withStroke(linewidth=4, foreground=overlap_color, alpha = 1)],\n",
    "    arrowprops=dict(\n",
    "        arrowstyle=\"->\",\n",
    "        lw=1.5,\n",
    "        connectionstyle=\"arc3,rad=-0.3\",\n",
    "        color=\"white\",\n",
    "        edgecolor=overlap_color,\n",
    "        path_effects=[pe.withStroke(linewidth=4, foreground=overlap_color, alpha=0.6)],\n",
    "    ),\n",
    "    # bbox=dict(boxstyle='round,pad=0.2', fc=overlap_color, edgecolor = overlap_color, alpha = 1 )\n",
    ")\n",
    "\n",
    "plt.annotate(\n",
    "    format_hours_minutes(overlap_total3 - overlap_nohaul3),\n",
    "    xy=v.get_label_by_id(haulstop_id).get_position(),\n",
    "    xytext=(0, 0),\n",
    "    ha=\"center\",\n",
    "    textcoords=\"offset points\",\n",
    "    fontsize=10,\n",
    "    color=\"white\",\n",
    "    weight=\"bold\",\n",
    "    path_effects=[pe.withStroke(linewidth=4, foreground=colors[12], alpha=0.6)],\n",
    "    # bbox=dict(boxstyle='round,pad=0.5', fc=, edgecolor = overlap_color, alpha = 1 )\n",
    ")\n",
    "\n",
    "plt.savefig(\"haul_stop_venn3.png\", bbox_inches=\"tight\")"
   ]
  },
  {
   "cell_type": "code",
   "execution_count": 637,
   "id": "60b093af-fb7c-44ae-aea3-39f8c3b967d5",
   "metadata": {},
   "outputs": [
    {
     "data": {
      "image/png": "[encoded data removed]",
      "text/plain": [
       "<Figure size 3800x200 with 1 Axes>"
      ]
     },
     "metadata": {},
     "output_type": "display_data"
    }
   ],
   "source": [
    "show_color_pallete()"
   ]
  },
  {
   "cell_type": "code",
   "execution_count": 625,
   "id": "68b64262-a59e-46a9-a8b2-9c4d87dc7d47",
   "metadata": {},
   "outputs": [
    {
     "data": {
      "text/plain": [
       "{'10': 0,\n",
       " '01': 1,\n",
       " '11': 2,\n",
       " '100': 0,\n",
       " '010': 1,\n",
       " '110': 2,\n",
       " '001': 3,\n",
       " '101': 4,\n",
       " '011': 5,\n",
       " '111': 6,\n",
       " 'A': 0,\n",
       " 'B': 1,\n",
       " 'C': 2}"
      ]
     },
     "execution_count": 625,
     "metadata": {},
     "output_type": "execute_result"
    }
   ],
   "source": [
    "v.id2idx"
   ]
  },
  {
   "cell_type": "code",
   "execution_count": 606,
   "id": "102de9fe-faff-4911-8a4f-a9995e256d4c",
   "metadata": {},
   "outputs": [
    {
     "data": {
      "text/plain": [
       "496"
      ]
     },
     "execution_count": 606,
     "metadata": {},
     "output_type": "execute_result"
    }
   ],
   "source": [
    "(8 * 60) + 16"
   ]
  },
  {
   "cell_type": "code",
   "execution_count": 607,
   "id": "cd348dd6-18cb-4a3a-98c6-8634c236bada",
   "metadata": {},
   "outputs": [
    {
     "data": {
      "text/plain": [
       "496.0"
      ]
     },
     "execution_count": 607,
     "metadata": {},
     "output_type": "execute_result"
    }
   ],
   "source": [
    "overlap_total"
   ]
  },
  {
   "cell_type": "code",
   "execution_count": 605,
   "id": "676aac79-16d7-4f98-aa2e-df09c1ed72b5",
   "metadata": {},
   "outputs": [
    {
     "data": {
      "text/plain": [
       "16.0"
      ]
     },
     "execution_count": 605,
     "metadata": {},
     "output_type": "execute_result"
    }
   ],
   "source": [
    "overlap_total % 60"
   ]
  },
  {
   "cell_type": "markdown",
   "id": "c4b2cb8e-aacb-49c1-9db9-2393374642a0",
   "metadata": {},
   "source": [
    "### association metrics"
   ]
  },
  {
   "cell_type": "code",
   "execution_count": 242,
   "id": "b652444e-43a4-43a2-91a3-370c7ef59ff5",
   "metadata": {},
   "outputs": [],
   "source": [
    "def chi_square_test(col1, col2, df):\n",
    "    contingency_table = pd.crosstab(df[col1], df[col2])\n",
    "    chi2, p, dof, expected = chi2_contingency(contingency_table)\n",
    "    return chi2, p"
   ]
  },
  {
   "cell_type": "code",
   "execution_count": 347,
   "id": "ba2fdc52-0011-48f6-bc57-803ed38cf5f6",
   "metadata": {},
   "outputs": [],
   "source": [
    "# Perform Chi-Square Test for each pair of events\n",
    "chi2_dict = {}\n",
    "for category in category_cols:\n",
    "    chi2, p = chi_square_test(\"predict_haul\", category, df_category_only_hauls)\n",
    "    chi2_dict[category] = {\"chi2\": chi2, \"p\": p}"
   ]
  },
  {
   "cell_type": "code",
   "execution_count": 348,
   "id": "45409133-9fb0-40ea-b0c0-d36c4a6f137a",
   "metadata": {},
   "outputs": [
    {
     "data": {
      "text/plain": [
       "{'predict_haul': {'chi2': 781.2243886827588, 'p': 6.520448230667543e-172},\n",
       " 'is_haul_stop': {'chi2': 0.3651864135773119, 'p': 0.5456398484380021},\n",
       " 'is_no_video': {'chi2': 0.02182951462357518, 'p': 0.88254153362255},\n",
       " 'is_no_elog': {'chi2': 0.0, 'p': 1.0},\n",
       " 'is_camera_covered': {'chi2': 0.0, 'p': 1.0},\n",
       " 'is_abnormal_catch': {'chi2': 3.4598348662207363, 'p': 0.06287659409515958},\n",
       " 'is_abnormal_haul': {'chi2': 2.4022967793212087, 'p': 0.12115725153022712},\n",
       " 'is_other_gear': {'chi2': 17.83123906546777, 'p': 2.413874783376097e-05}}"
      ]
     },
     "execution_count": 348,
     "metadata": {},
     "output_type": "execute_result"
    }
   ],
   "source": [
    "chi2_dict"
   ]
  },
  {
   "cell_type": "code",
   "execution_count": 349,
   "id": "b4fd491d-e2a9-4494-9d84-1ac0560a3474",
   "metadata": {},
   "outputs": [],
   "source": [
    "coocc = df_category_only_hauls.T.dot(df_category_only_hauls)"
   ]
  },
  {
   "cell_type": "code",
   "execution_count": 350,
   "id": "67f02771-0746-4866-86cb-a6460b995606",
   "metadata": {},
   "outputs": [
    {
     "data": {
      "text/html": [
       "<div>\n",
       "<style scoped>\n",
       "    .dataframe tbody tr th:only-of-type {\n",
       "        vertical-align: middle;\n",
       "    }\n",
       "\n",
       "    .dataframe tbody tr th {\n",
       "        vertical-align: top;\n",
       "    }\n",
       "\n",
       "    .dataframe thead th {\n",
       "        text-align: right;\n",
       "    }\n",
       "</style>\n",
       "<table border=\"1\" class=\"dataframe\">\n",
       "  <thead>\n",
       "    <tr style=\"text-align: right;\">\n",
       "      <th></th>\n",
       "      <th>predict_haul</th>\n",
       "      <th>is_haul_stop</th>\n",
       "      <th>is_no_video</th>\n",
       "      <th>is_no_elog</th>\n",
       "      <th>is_camera_covered</th>\n",
       "      <th>is_abnormal_catch</th>\n",
       "      <th>is_abnormal_haul</th>\n",
       "      <th>is_other_gear</th>\n",
       "      <th>video_haul_stop</th>\n",
       "      <th>predict_no_haul</th>\n",
       "    </tr>\n",
       "  </thead>\n",
       "  <tbody>\n",
       "    <tr>\n",
       "      <th>predict_haul</th>\n",
       "      <td>552</td>\n",
       "      <td>90</td>\n",
       "      <td>2</td>\n",
       "      <td>0</td>\n",
       "      <td>1</td>\n",
       "      <td>16</td>\n",
       "      <td>45</td>\n",
       "      <td>48</td>\n",
       "      <td>93</td>\n",
       "      <td>0</td>\n",
       "    </tr>\n",
       "    <tr>\n",
       "      <th>is_haul_stop</th>\n",
       "      <td>90</td>\n",
       "      <td>133</td>\n",
       "      <td>0</td>\n",
       "      <td>0</td>\n",
       "      <td>0</td>\n",
       "      <td>11</td>\n",
       "      <td>27</td>\n",
       "      <td>0</td>\n",
       "      <td>133</td>\n",
       "      <td>43</td>\n",
       "    </tr>\n",
       "    <tr>\n",
       "      <th>is_no_video</th>\n",
       "      <td>2</td>\n",
       "      <td>0</td>\n",
       "      <td>2</td>\n",
       "      <td>0</td>\n",
       "      <td>0</td>\n",
       "      <td>0</td>\n",
       "      <td>0</td>\n",
       "      <td>0</td>\n",
       "      <td>2</td>\n",
       "      <td>0</td>\n",
       "    </tr>\n",
       "    <tr>\n",
       "      <th>is_no_elog</th>\n",
       "      <td>0</td>\n",
       "      <td>0</td>\n",
       "      <td>0</td>\n",
       "      <td>0</td>\n",
       "      <td>0</td>\n",
       "      <td>0</td>\n",
       "      <td>0</td>\n",
       "      <td>0</td>\n",
       "      <td>0</td>\n",
       "      <td>0</td>\n",
       "    </tr>\n",
       "    <tr>\n",
       "      <th>is_camera_covered</th>\n",
       "      <td>1</td>\n",
       "      <td>0</td>\n",
       "      <td>0</td>\n",
       "      <td>0</td>\n",
       "      <td>1</td>\n",
       "      <td>0</td>\n",
       "      <td>0</td>\n",
       "      <td>0</td>\n",
       "      <td>1</td>\n",
       "      <td>0</td>\n",
       "    </tr>\n",
       "    <tr>\n",
       "      <th>is_abnormal_catch</th>\n",
       "      <td>16</td>\n",
       "      <td>11</td>\n",
       "      <td>0</td>\n",
       "      <td>0</td>\n",
       "      <td>0</td>\n",
       "      <td>30</td>\n",
       "      <td>23</td>\n",
       "      <td>0</td>\n",
       "      <td>11</td>\n",
       "      <td>14</td>\n",
       "    </tr>\n",
       "    <tr>\n",
       "      <th>is_abnormal_haul</th>\n",
       "      <td>45</td>\n",
       "      <td>27</td>\n",
       "      <td>0</td>\n",
       "      <td>0</td>\n",
       "      <td>0</td>\n",
       "      <td>23</td>\n",
       "      <td>73</td>\n",
       "      <td>0</td>\n",
       "      <td>27</td>\n",
       "      <td>28</td>\n",
       "    </tr>\n",
       "    <tr>\n",
       "      <th>is_other_gear</th>\n",
       "      <td>48</td>\n",
       "      <td>0</td>\n",
       "      <td>0</td>\n",
       "      <td>0</td>\n",
       "      <td>0</td>\n",
       "      <td>0</td>\n",
       "      <td>0</td>\n",
       "      <td>49</td>\n",
       "      <td>0</td>\n",
       "      <td>1</td>\n",
       "    </tr>\n",
       "    <tr>\n",
       "      <th>video_haul_stop</th>\n",
       "      <td>93</td>\n",
       "      <td>133</td>\n",
       "      <td>2</td>\n",
       "      <td>0</td>\n",
       "      <td>1</td>\n",
       "      <td>11</td>\n",
       "      <td>27</td>\n",
       "      <td>0</td>\n",
       "      <td>136</td>\n",
       "      <td>43</td>\n",
       "    </tr>\n",
       "    <tr>\n",
       "      <th>predict_no_haul</th>\n",
       "      <td>0</td>\n",
       "      <td>43</td>\n",
       "      <td>0</td>\n",
       "      <td>0</td>\n",
       "      <td>0</td>\n",
       "      <td>14</td>\n",
       "      <td>28</td>\n",
       "      <td>1</td>\n",
       "      <td>43</td>\n",
       "      <td>234</td>\n",
       "    </tr>\n",
       "  </tbody>\n",
       "</table>\n",
       "</div>"
      ],
      "text/plain": [
       "                   predict_haul  is_haul_stop  is_no_video  is_no_elog  \\\n",
       "predict_haul                552            90            2           0   \n",
       "is_haul_stop                 90           133            0           0   \n",
       "is_no_video                   2             0            2           0   \n",
       "is_no_elog                    0             0            0           0   \n",
       "is_camera_covered             1             0            0           0   \n",
       "is_abnormal_catch            16            11            0           0   \n",
       "is_abnormal_haul             45            27            0           0   \n",
       "is_other_gear                48             0            0           0   \n",
       "video_haul_stop              93           133            2           0   \n",
       "predict_no_haul               0            43            0           0   \n",
       "\n",
       "                   is_camera_covered  is_abnormal_catch  is_abnormal_haul  \\\n",
       "predict_haul                       1                 16                45   \n",
       "is_haul_stop                       0                 11                27   \n",
       "is_no_video                        0                  0                 0   \n",
       "is_no_elog                         0                  0                 0   \n",
       "is_camera_covered                  1                  0                 0   \n",
       "is_abnormal_catch                  0                 30                23   \n",
       "is_abnormal_haul                   0                 23                73   \n",
       "is_other_gear                      0                  0                 0   \n",
       "video_haul_stop                    1                 11                27   \n",
       "predict_no_haul                    0                 14                28   \n",
       "\n",
       "                   is_other_gear  video_haul_stop  predict_no_haul  \n",
       "predict_haul                  48               93                0  \n",
       "is_haul_stop                   0              133               43  \n",
       "is_no_video                    0                2                0  \n",
       "is_no_elog                     0                0                0  \n",
       "is_camera_covered              0                1                0  \n",
       "is_abnormal_catch              0               11               14  \n",
       "is_abnormal_haul               0               27               28  \n",
       "is_other_gear                 49                0                1  \n",
       "video_haul_stop                0              136               43  \n",
       "predict_no_haul                1               43              234  "
      ]
     },
     "execution_count": 350,
     "metadata": {},
     "output_type": "execute_result"
    }
   ],
   "source": [
    "coocc"
   ]
  },
  {
   "cell_type": "code",
   "execution_count": 355,
   "id": "6d5fcd1b-2e43-422c-9595-31c6cae5a58c",
   "metadata": {},
   "outputs": [],
   "source": [
    "len_cats = len(df_category_only_hauls)"
   ]
  },
  {
   "cell_type": "code",
   "execution_count": 356,
   "id": "42d30acf-4a0b-4140-800f-61ff21975605",
   "metadata": {},
   "outputs": [
    {
     "data": {
      "text/plain": [
       "0.3233082706766917"
      ]
     },
     "execution_count": 356,
     "metadata": {},
     "output_type": "execute_result"
    }
   ],
   "source": [
    "x = \"is_haul_stop\"\n",
    "y = \"predict_no_haul\"\n",
    "z = \"predict_haul\"\n",
    "coocc[x][y] / coocc[x][x]"
   ]
  },
  {
   "cell_type": "code",
   "execution_count": 357,
   "id": "af700b93-017b-4595-840b-794a706d2426",
   "metadata": {},
   "outputs": [
    {
     "data": {
      "text/plain": [
       "786"
      ]
     },
     "execution_count": 357,
     "metadata": {},
     "output_type": "execute_result"
    }
   ],
   "source": [
    "coocc[y][y] + coocc[z][z]"
   ]
  },
  {
   "cell_type": "code",
   "execution_count": null,
   "id": "9347857b-2540-4da5-aa8a-b6a81117286a",
   "metadata": {},
   "outputs": [],
   "source": []
  },
  {
   "cell_type": "code",
   "execution_count": 360,
   "id": "af26a6d7-4fba-46a6-a2be-5028b659ee42",
   "metadata": {},
   "outputs": [],
   "source": [
    "def association_confidence(x, y, coocc):\n",
    "    confidence = coocc[x][y] / coocc[x][x]\n",
    "\n",
    "    fraction_y = coocc[y][y] / len_cats\n",
    "\n",
    "    lift = confidence / fraction_y\n",
    "\n",
    "    return confidence, lift"
   ]
  },
  {
   "cell_type": "code",
   "execution_count": 361,
   "id": "83903f7a-0215-48a6-8f33-efdeaed08c39",
   "metadata": {},
   "outputs": [
    {
     "name": "stdout",
     "output_type": "stream",
     "text": [
      "predict_haul\n",
      "confidence: 0.0, lift: 0.0\n",
      "is_haul_stop\n",
      "confidence: 0.18376068376068377, lift: 1.0859841912473491\n",
      "is_no_video\n",
      "confidence: 0.0, lift: 0.0\n",
      "is_no_elog\n",
      "confidence: 0.0, lift: nan\n",
      "is_camera_covered\n",
      "confidence: 0.0, lift: 0.0\n",
      "is_abnormal_catch\n",
      "confidence: 0.05982905982905983, lift: 1.5675213675213675\n",
      "is_abnormal_haul\n",
      "confidence: 0.11965811965811966, lift: 1.2883737267298911\n",
      "is_other_gear\n",
      "confidence: 0.004273504273504274, lift: 0.0685504971219257\n"
     ]
    }
   ],
   "source": [
    "for category in category_cols:\n",
    "    print(category)\n",
    "    confidence, lift = association_confidence(category, \"predict_no_haul\", coocc)\n",
    "    print(f\"confidence: {confidence}, lift: {lift}\")"
   ]
  },
  {
   "cell_type": "code",
   "execution_count": 359,
   "id": "a9c987a8-9245-4310-8fab-9cde1a41cd9f",
   "metadata": {},
   "outputs": [
    {
     "name": "stdout",
     "output_type": "stream",
     "text": [
      "predict_haul\n",
      "confidence: 0.0, lift: 0.0\n",
      "is_haul_stop\n",
      "confidence: 0.3233082706766917, lift: 1.0859841912473491\n",
      "is_no_video\n",
      "confidence: 0.0, lift: 0.0\n",
      "is_no_elog\n",
      "confidence: nan, lift: nan\n",
      "is_camera_covered\n",
      "confidence: 0.0, lift: 0.0\n",
      "is_abnormal_catch\n",
      "confidence: 0.4666666666666667, lift: 1.5675213675213675\n",
      "is_abnormal_haul\n",
      "confidence: 0.3835616438356164, lift: 1.2883737267298911\n",
      "is_other_gear\n",
      "confidence: 0.02040816326530612, lift: 0.0685504971219257\n"
     ]
    }
   ],
   "source": [
    "for category in category_cols:\n",
    "    print(category)\n",
    "    confidence, lift = association_confidence(category, \"predict_no_haul\", coocc)\n",
    "    print(f\"confidence: {confidence}, lift: {lift}\")"
   ]
  },
  {
   "cell_type": "code",
   "execution_count": null,
   "id": "e9dd4ce5-0ac2-40d1-83ec-612182de44fb",
   "metadata": {},
   "outputs": [],
   "source": []
  }
 ],
 "metadata": {
  "kernelspec": {
   "display_name": "Python 3 (ipykernel)",
   "language": "python",
   "name": "python3"
  },
  "language_info": {
   "codemirror_mode": {
    "name": "ipython",
    "version": 3
   },
   "file_extension": ".py",
   "mimetype": "text/x-python",
   "name": "python",
   "nbconvert_exporter": "python",
   "pygments_lexer": "ipython3",
   "version": "3.12.2"
  }
 },
 "nbformat": 4,
 "nbformat_minor": 5
}
