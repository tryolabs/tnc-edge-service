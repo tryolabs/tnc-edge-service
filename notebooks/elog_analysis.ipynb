{
 "cells": [
  {
   "cell_type": "code",
   "execution_count": 1,
   "id": "268cb2e3-8204-42b4-9e1f-c64da391eca5",
   "metadata": {},
   "outputs": [],
   "source": [
    "%load_ext autoreload"
   ]
  },
  {
   "cell_type": "code",
   "execution_count": 2,
   "id": "9b70c769-e90c-4478-b944-a20d4a750064",
   "metadata": {},
   "outputs": [],
   "source": [
    "%autoreload 2"
   ]
  },
  {
   "cell_type": "markdown",
   "id": "6dcf8ade-e93b-4cb1-a1e5-63b6f2f04d5e",
   "metadata": {},
   "source": [
    "## imports"
   ]
  },
  {
   "cell_type": "code",
   "execution_count": 1,
   "id": "5ecb34f0-72fd-4852-a1ed-f861b05e0970",
   "metadata": {},
   "outputs": [],
   "source": [
    "import awswrangler as wr\n",
    "import pandas as pd\n",
    "import sqlite3\n",
    "import seaborn as sns\n",
    "import matplotlib.pyplot as plt\n",
    "import numpy as np\n",
    "import scipy.stats as stats\n",
    "from sklearn.metrics import mean_squared_error\n",
    "\n",
    "from sklearn.linear_model import LinearRegression\n",
    "\n",
    "import warnings\n",
    "\n",
    "warnings.filterwarnings(\"ignore\")\n",
    "\n",
    "sns.set_theme()\n",
    "\n",
    "import itertools\n",
    "# import matplotlib.gridspec as gridspec\n",
    "\n",
    "from matplotlib.dates import DayLocator, HourLocator, DateFormatter, drange\n",
    "\n",
    "import warnings\n",
    "\n",
    "warnings.filterwarnings(\"ignore\")\n",
    "import json\n",
    "\n",
    "# from tsai.all import *\n",
    "from IPython.display import display, Markdown\n",
    "import json\n",
    "# from pandas.io.json import json_normalize\n",
    "\n",
    "from matplotlib.patches import Patch\n",
    "\n",
    "import matplotlib.dates as mdates\n",
    "\n",
    "from helper_functions.data_readers import *\n",
    "\n",
    "from helper_functions.aggregations import *"
   ]
  },
  {
   "cell_type": "code",
   "execution_count": 52,
   "id": "19c3bc79-fe8b-4822-ab1c-5f17c258ffad",
   "metadata": {},
   "outputs": [],
   "source": [
    "import math"
   ]
  },
  {
   "cell_type": "code",
   "execution_count": 45,
   "id": "d25c0fbc-d328-4dc9-b038-68ad7c61e3c1",
   "metadata": {},
   "outputs": [],
   "source": [
    "import scipy.stats as st"
   ]
  },
  {
   "cell_type": "code",
   "execution_count": 2,
   "id": "ef050a6e-ceab-4bad-a643-e7cf9f6e0be0",
   "metadata": {},
   "outputs": [],
   "source": [
    "# import matplotlib.ticker as ticker"
   ]
  },
  {
   "cell_type": "markdown",
   "id": "1760aee1-478a-48a8-a168-7a9748526d69",
   "metadata": {},
   "source": [
    "## helper functions"
   ]
  },
  {
   "cell_type": "code",
   "execution_count": 3,
   "id": "a740d779-aaa4-41cb-98d1-6a7426b87de4",
   "metadata": {},
   "outputs": [],
   "source": [
    "colors = sns.color_palette(\n",
    "    [\n",
    "        \"#184EAD\",\n",
    "        \"#648fff\",\n",
    "        \"#88ccee\",\n",
    "        \"#ae9ef7\",\n",
    "        \"#6844d5\",\n",
    "        \"#332288\",\n",
    "        \"#c52dac\",\n",
    "        \"#ef4341\",\n",
    "        \"#84164c\",\n",
    "        \"#cb6577\",\n",
    "        \"#ff6100\",\n",
    "        \"#90550f\",\n",
    "        \"#c78d1b\",\n",
    "        \"#ffb003\",\n",
    "        \"#ddcc77\",\n",
    "        \"#a2c662\",\n",
    "        \"#40a018\",\n",
    "        \"#117347\",\n",
    "        \"#43aa99\",\n",
    "    ]\n",
    ")"
   ]
  },
  {
   "cell_type": "code",
   "execution_count": 4,
   "id": "97a63ae1-896e-4cb2-b88f-886bdea11252",
   "metadata": {},
   "outputs": [],
   "source": [
    "# color_list = ['#184EAD','#648fff','#88ccee','#ae9ef7','#6844d5','#332288','#c52dac','#ef4341','#84164c','#cb6577','#ff6100','#90550f','#c78d1b','#ffb003','#ddcc77','#a2c662','#40a018','#117347','#43aa99']"
   ]
  },
  {
   "cell_type": "code",
   "execution_count": 5,
   "id": "0b9106de-5b4f-478d-9184-9a4538ae3c91",
   "metadata": {},
   "outputs": [],
   "source": [
    "%matplotlib inline\n",
    "\n",
    "\n",
    "def show_color_pallete():\n",
    "    # fig, ax = plt.subplots()\n",
    "    color_list = [\n",
    "        \"#184EAD\",\n",
    "        \"#648fff\",\n",
    "        \"#88ccee\",\n",
    "        \"#ae9ef7\",\n",
    "        \"#6844d5\",\n",
    "        \"#332288\",\n",
    "        \"#c52dac\",\n",
    "        \"#ef4341\",\n",
    "        \"#84164c\",\n",
    "        \"#cb6577\",\n",
    "        \"#ff6100\",\n",
    "        \"#90550f\",\n",
    "        \"#c78d1b\",\n",
    "        \"#ffb003\",\n",
    "        \"#ddcc77\",\n",
    "        \"#a2c662\",\n",
    "        \"#40a018\",\n",
    "        \"#117347\",\n",
    "        \"#43aa99\",\n",
    "    ]\n",
    "    sns.palplot(color_list, size=2)\n",
    "    ax = plt.gca()\n",
    "    for i, name in enumerate(color_list):\n",
    "        label = f\"[{i}] {name}\"\n",
    "        ax.text(i, -0.57, label, horizontalalignment=\"center\", fontsize=10)\n",
    "    plt.show()"
   ]
  },
  {
   "cell_type": "markdown",
   "id": "7839f6bd-1f37-4b29-8866-bfce197db39b",
   "metadata": {},
   "source": [
    "## Reading in Data"
   ]
  },
  {
   "cell_type": "code",
   "execution_count": 6,
   "id": "1936e88d-1b66-43ed-865e-fb4937276ce3",
   "metadata": {},
   "outputs": [
    {
     "name": "stdout",
     "output_type": "stream",
     "text": [
      "{'trip_id': 'stpatrick_2024-01-03', 'trip_start_date': '2024-01-03', 'trip_end_date': '2024-01-28'}\n",
      "{'trip_id': 'stpatrick_2024-02-03', 'trip_start_date': '2024-02-03', 'trip_end_date': '2024-02-28'}\n",
      "{'trip_id': 'stpatrick_2024-03-08', 'trip_start_date': '2024-03-08', 'trip_end_date': '2024-04-06'}\n"
     ]
    }
   ],
   "source": [
    "# ST Patrick Trips\n",
    "StPatrick1data = get_data(boat=\"stpatrick\", trip_no=0)\n",
    "StPatrick2data = get_data(boat=\"stpatrick\", trip_no=1)\n",
    "StPatrick3data = get_data(boat=\"stpatrick\", trip_no=2)\n",
    "\n",
    "counts_StPatrick1 = StPatrick1data[\"all_counts\"]\n",
    "counts_StPatrick2 = StPatrick2data[\"all_counts\"]\n",
    "counts_StPatrick3 = StPatrick3data[\"all_counts\"]\n",
    "\n",
    "stpatrick1_elog = StPatrick1data[\"elogs\"]\n",
    "stpatrick2_elog = StPatrick2data[\"elogs\"]\n",
    "stpatrick3_elog = StPatrick3data[\"elogs\"]\n",
    "\n",
    "\n",
    "stpatrick1_bv_sets = StPatrick1data[\"bv_set_counts\"]\n",
    "stpatrick2_bv_sets = StPatrick2data[\"bv_set_counts\"]\n",
    "stpatrick3_bv_sets = StPatrick3data[\"bv_set_counts\"]"
   ]
  },
  {
   "cell_type": "code",
   "execution_count": 7,
   "id": "d4130a3c-32aa-4225-8955-b6832916f807",
   "metadata": {},
   "outputs": [
    {
     "name": "stdout",
     "output_type": "stream",
     "text": [
      "{'trip_id': 'brancol_2024-01-05', 'trip_start_date': '2024-01-05', 'trip_end_date': '2024-01-26'}\n",
      "{'trip_id': 'brancol_2024-02-03', 'trip_start_date': '2024-02-03', 'trip_end_date': '2024-02-26'}\n",
      "{'trip_id': 'brancol_2024-03-05', 'trip_start_date': '2024-03-05', 'trip_end_date': '2024-04-01'}\n"
     ]
    }
   ],
   "source": [
    "# Brancol Trips\n",
    "Brancol1data = get_data(boat=\"brancol\", trip_no=0)\n",
    "Brancol2data = get_data(boat=\"brancol\", trip_no=1)\n",
    "Brancol3data = get_data(boat=\"brancol\", trip_no=2)\n",
    "\n",
    "\n",
    "counts_Brancol1 = Brancol1data[\"all_counts\"]\n",
    "counts_Brancol2 = Brancol2data[\"all_counts\"]\n",
    "counts_Brancol3 = Brancol3data[\"all_counts\"]\n",
    "\n",
    "brancol1_elog = Brancol1data[\"elogs\"]\n",
    "brancol2_elog = Brancol2data[\"elogs\"]\n",
    "brancol3_elog = Brancol3data[\"elogs\"]\n",
    "\n",
    "brancol1_bv_sets = Brancol1data[\"bv_set_counts\"]\n",
    "brancol2_bv_sets = Brancol2data[\"bv_set_counts\"]\n",
    "brancol3_bv_sets = Brancol3data[\"bv_set_counts\"]\n",
    "\n",
    "\n",
    "brancol1trip = Brancol1data[\"trip_info\"]\n",
    "brancol2trip = Brancol2data[\"trip_info\"]\n",
    "brancol3trip = Brancol3data[\"trip_info\"]"
   ]
  },
  {
   "cell_type": "code",
   "execution_count": 17,
   "id": "43e371af-6274-4691-8f90-4db9a033cb44",
   "metadata": {},
   "outputs": [],
   "source": []
  },
  {
   "cell_type": "markdown",
   "id": "f9d3a22d-1bd2-46ce-a981-c5fe8dbde309",
   "metadata": {},
   "source": [
    "##### "
   ]
  },
  {
   "cell_type": "markdown",
   "id": "e3c3bca4-7a4e-401b-8f26-6314ff4c104d",
   "metadata": {},
   "source": [
    "## Sets & Counts Plot"
   ]
  },
  {
   "cell_type": "markdown",
   "id": "a969c351-96cf-4fea-a46f-59852d11cfa3",
   "metadata": {},
   "source": [
    "# Elog Comparisons"
   ]
  },
  {
   "cell_type": "markdown",
   "id": "d4d50291-93db-4b21-a6f5-546e370baa62",
   "metadata": {},
   "source": [
    "##### helper functions"
   ]
  },
  {
   "cell_type": "code",
   "execution_count": 8,
   "id": "0162503c-3b52-4309-9580-838e07d09e9c",
   "metadata": {},
   "outputs": [],
   "source": [
    "# def plot_hlines(ax, df, y_val, start_col, end_col, width, color, label):\n",
    "#     ax.hlines(\n",
    "#         y = np.full(len(df), y_val),\n",
    "#         xmin = df[start_col].values.reshape((-1,1)),\n",
    "#         xmax =df[end_col].values.reshape((-1,1)),\n",
    "#         linewidth = width,colors= color, label = label\n",
    "#     )\n",
    "\n",
    "# def plot_set_hlines(ax, df, source, color_dict):\n",
    "#     if source == 'elog':\n",
    "#         set_start_col = 'systemstartsetdatetime'\n",
    "#         set_end_col = 'systemendsetdatetime'\n",
    "#         haul_start_col = 'systemstarthauldatetime'\n",
    "#         haul_end_col = 'systemendhauldatetime'\n",
    "#         y_val = 1\n",
    "\n",
    "\n",
    "#     elif source == 'bv':\n",
    "#         set_start_col = 'set_start_datetime'\n",
    "#         set_end_col = 'set_end_datetime'\n",
    "#         haul_start_col = 'haul_start_datetime'\n",
    "#         haul_end_col = 'haul_end_datetime'\n",
    "#         y_val = 0\n",
    "\n",
    "#     colors = color_dict[source]\n",
    "\n",
    "\n",
    "#     #plot_hauling\n",
    "#     plot_hlines(ax, df,y_val, haul_start_col, haul_end_col, 12, colors['haul'], 'haul')\n",
    "\n",
    "#     #plot tweener time\n",
    "#     plot_hlines(ax, df,y_val, set_end_col, haul_start_col, 12, colors['between'], 'mid')\n",
    "\n",
    "#     #plot setting\n",
    "#     plot_hlines(ax, df, y_val,  set_start_col, set_end_col, 12, colors['set'], 'set')\n",
    "\n",
    "\n",
    "# def annotate_counts(ax, df, count_col, x_col, y_value):\n",
    "#     props = dict(boxstyle='round', facecolor='white', alpha=0.35)\n",
    "#     for idx, row in df.iterrows():\n",
    "#         text = f'count: {row[count_col]}'\n",
    "#         x_value = row[x_col]\n",
    "#         ax.text( x_value,y_value , text, fontsize=10, horizontalalignment='right', bbox=props)\n",
    "\n",
    "\n",
    "#     # ax.text(.02, .9, f'r2={rvalue ** 2:.2f}, p={pvalue:.2g}, rmse={rmse:.2f}', transform=ax.transAxes)"
   ]
  },
  {
   "cell_type": "code",
   "execution_count": 12,
   "id": "ab5c2dd6-5933-4ecc-88c5-09f97ceaee23",
   "metadata": {},
   "outputs": [],
   "source": [
    "def plot_set_bars(ax, df, source, color_dict):\n",
    "    if source == \"elog\":\n",
    "        set_start_col = \"systemstartsetdatetime\"\n",
    "        set_end_col = \"systemendsetdatetime\"\n",
    "        haul_start_col = \"systemstarthauldatetime\"\n",
    "        haul_end_col = \"systemendhauldatetime\"\n",
    "        y_val = 1.7\n",
    "\n",
    "    elif source == \"bv\":\n",
    "        set_start_col = \"set_start_datetime\"\n",
    "        set_end_col = \"set_end_datetime\"\n",
    "        haul_start_col = \"haul_start_datetime\"\n",
    "        haul_end_col = \"haul_end_datetime\"\n",
    "        y_val = 0.7\n",
    "\n",
    "    df[\"set_duration\"] = df[set_end_col] - df[set_start_col]\n",
    "    df[\"haul_duration\"] = df[haul_end_col] - df[haul_start_col]\n",
    "    df[\"mid_duration\"] = df[haul_start_col] - df[set_end_col]\n",
    "\n",
    "    set_x = list(zip(df[set_start_col], df[\"set_duration\"]))\n",
    "    haul_x = list(zip(df[haul_start_col], df[\"haul_duration\"]))\n",
    "    mid_x = list(zip(df[set_end_col], df[\"mid_duration\"]))\n",
    "\n",
    "    y = (y_val, 0.6)\n",
    "\n",
    "    colors = color_dict[source]\n",
    "    ax.broken_barh(mid_x, y, facecolors=colors[\"mid\"], edgecolor=\"face\")\n",
    "    ax.broken_barh(haul_x, y, facecolors=colors[\"haul\"], edgecolor=\"face\")\n",
    "    ax.broken_barh(set_x, y, facecolors=colors[\"set\"], edgecolor=\"face\")\n"
   ]
  },
  {
   "cell_type": "code",
   "execution_count": 10,
   "id": "ff4a3249-409d-4647-a3c9-4465886a39e0",
   "metadata": {},
   "outputs": [],
   "source": [
    "def plot_elog_comparisons(\n",
    "    ax, dfElog, dfBV, title, legend=True, annotate_counts=False, display_axis=True\n",
    "):\n",
    "    # ax[0].autofmt_xdate()\n",
    "\n",
    "    ax.set_yticks([1, 2], (\"actual\", \"elogs\"))\n",
    "    # ax.set_yticks([0,1,2],('bv','elogs',' '))\n",
    "    fig.suptitle(titles[\"main\"], fontsize=20)\n",
    "\n",
    "    # df1 = brancol1_elog\n",
    "    # df1sets =brancol1_bv_sets\n",
    "\n",
    "    if annotate_counts:\n",
    "        dfElog[\"totalcount\"] = dfElog[\"bycatchcount\"].astype(int) + dfElog[\"catchcount\"].astype(int)\n",
    "        dfBV[\"retained_count\"] = dfBV[\"retained_count\"].astype(\"Int64\")\n",
    "        annotate_counts(ax, dfElog, \"totalcount\", \"systemstarthauldatetime\", 1.2)\n",
    "        annotate_counts(ax, dfBV, \"retained_count\", \"haul_start_datetime\", 0.2)\n",
    "\n",
    "    plot_set_bars(ax, dfElog, \"elog\", color_dict)\n",
    "    plot_set_bars(ax, dfBV, \"bv\", color_dict)\n",
    "\n",
    "    ax.set_title(title, x=0.1, y=1, fontsize=9)\n",
    "\n",
    "    # ax.autoscale()\n",
    "    # ax[0].set_ylim(-.5,1.5)\n",
    "    # ax[0].tick_params(axis='x', labelrotation=45)\n",
    "\n",
    "    if legend:\n",
    "        legend_elements = []\n",
    "        for label, color in color_dict[\"elog\"].items():\n",
    "            legend_elements.append(Patch(facecolor=color, edgecolor=color, label=label))\n",
    "        ax.legend(\n",
    "            handles=legend_elements, loc=\"center\", bbox_to_anchor=(1.08, 1.1), ncol=1, fontsize=12\n",
    "        )\n",
    "\n",
    "    # use consise date formater\n",
    "\n",
    "    if display_axis:\n",
    "        locator = DayLocator()\n",
    "        formatter = mdates.ConciseDateFormatter(locator)\n",
    "        ax.xaxis.set_major_locator(locator)\n",
    "        ax.xaxis.set_major_formatter(formatter)\n",
    "\n",
    "    # ax.set_ylim(-.6,1.6)"
   ]
  },
  {
   "cell_type": "markdown",
   "id": "6d33543e-2741-4928-b0a1-d8d13dc0f3ac",
   "metadata": {},
   "source": [
    "#### plot"
   ]
  },
  {
   "cell_type": "code",
   "execution_count": 8,
   "id": "5dfcec8a-e85e-4a6a-a6a9-04708218a47c",
   "metadata": {},
   "outputs": [],
   "source": [
    "color_dict = {\n",
    "    \"bv\": {\n",
    "        \"set\": \"#40a018\",\n",
    "        \"mid\": \"#a2c662\",\n",
    "        \"haul\": \"#117347\",\n",
    "    },\n",
    "    \"elog\": {\"set\": \"#40a018\", \"mid\": \"#a2c662\", \"haul\": \"#117347\"},\n",
    "    # 'elog':{'set':'#648fff', 'haul':'#184EAD', 'mid':'#88ccee'}\n",
    "}"
   ]
  },
  {
   "cell_type": "code",
   "execution_count": 13,
   "id": "a23c8ee9-560d-454a-98c4-0bd1c2e2f95e",
   "metadata": {},
   "outputs": [
    {
     "data": {
      "image/png": "[encoded data removed]",
      "text/plain": [
       "<Figure size 1000x300 with 2 Axes>"
      ]
     },
     "metadata": {},
     "output_type": "display_data"
    }
   ],
   "source": [
    "df1 = brancol1_elog\n",
    "df1sets = brancol1_bv_sets\n",
    "trip1 = Brancol1data[\"trip_info\"]\n",
    "\n",
    "df2 = brancol2_elog\n",
    "df2sets = brancol2_bv_sets\n",
    "trip2 = Brancol2data[\"trip_info\"]\n",
    "\n",
    "trip1title = f'Brancol Trip 1: {trip1['trip_start_date']} to {trip1['trip_end_date']}'\n",
    "trip2title = f'Brancol Trip 2: {trip2['trip_start_date']} to {trip2['trip_end_date']}'\n",
    "\n",
    "titles = {\"main\": \"\", \"plot1\": trip1title, \"plot2\": trip2title}\n",
    "\n",
    "fig, ax = plt.subplots(2, 1, figsize=(10, 3))\n",
    "# fig.tight_layout(pad=4.0)\n",
    "plot_elog_comparisons(ax[0], df1, df1sets, trip1title, legend=False)\n",
    "plot_elog_comparisons(ax[1], df2, df2sets, trip2title, legend=True)\n",
    "plt.subplots_adjust(hspace=0.7)\n",
    "plt.savefig(\"elog_comparisons_brancol.png\", bbox_inches=\"tight\")"
   ]
  },
  {
   "cell_type": "code",
   "execution_count": 14,
   "id": "0c303dd6-4dd7-4075-9099-3d47ace84732",
   "metadata": {},
   "outputs": [
    {
     "data": {
      "image/png": "[encoded data removed]",
      "text/plain": [
       "<Figure size 1000x300 with 2 Axes>"
      ]
     },
     "metadata": {},
     "output_type": "display_data"
    }
   ],
   "source": [
    "df1 = stpatrick1_elog\n",
    "df1sets = stpatrick1_bv_sets\n",
    "trip1 = StPatrick1data[\"trip_info\"]\n",
    "\n",
    "df2 = stpatrick2_elog\n",
    "df2sets = stpatrick2_bv_sets\n",
    "trip2 = StPatrick2data[\"trip_info\"]\n",
    "\n",
    "trip1title = f'St. Patrick Trip 1: {trip1['trip_start_date']} to {trip1['trip_end_date']}'\n",
    "trip2title = f'St. Patrick Trip 2: {trip2['trip_start_date']} to {trip2['trip_end_date']}'\n",
    "\n",
    "titles = {\"main\": \"\", \"plot1\": trip1title, \"plot2\": trip2title}\n",
    "\n",
    "fig, ax = plt.subplots(2, 1, figsize=(10, 3))\n",
    "# fig.tight_layout(pad=4.0)\n",
    "plot_elog_comparisons(ax[0], df1, df1sets, trip1title, legend=False)\n",
    "plot_elog_comparisons(ax[1], df2, df2sets, trip2title, legend=True)\n",
    "plt.subplots_adjust(hspace=0.7)\n",
    "plt.savefig(\"elog_comparisons_stpatrick.png\", bbox_inches=\"tight\")"
   ]
  },
  {
   "cell_type": "code",
   "execution_count": 15,
   "id": "36f65397-6d61-4b2c-be81-b41eca6f8558",
   "metadata": {},
   "outputs": [],
   "source": [
    "# one of the elog sets was accidentally recorded in another trip, move the set to the intended trip to compare"
   ]
  },
  {
   "cell_type": "code",
   "execution_count": 16,
   "id": "7245eab5-f5b8-4c50-9bf4-7925067c1dcb",
   "metadata": {},
   "outputs": [],
   "source": [
    "stpatrick2_elog.sort_values(by=\"systemstartsetdatetime\", inplace=True)\n",
    "\n",
    "missing_set = stpatrick2_elog.sort_values(by=\"systemstartsetdatetime\").iloc[[0]]\n",
    "\n",
    "stpatrick2_elog.drop(stpatrick2_elog.index[0], axis=0, inplace=True)\n",
    "\n",
    "stpatrick1_elog = pd.concat([stpatrick1_elog, missing_set])"
   ]
  },
  {
   "cell_type": "code",
   "execution_count": 17,
   "id": "3c0d26d0-5d66-4b51-9608-6fc71aaaf649",
   "metadata": {},
   "outputs": [
    {
     "data": {
      "image/png": "[encoded data removed]",
      "text/plain": [
       "<Figure size 800x400 with 2 Axes>"
      ]
     },
     "metadata": {},
     "output_type": "display_data"
    }
   ],
   "source": [
    "df1 = brancol3_elog\n",
    "df1sets = brancol3_bv_sets\n",
    "trip1 = Brancol3data[\"trip_info\"]\n",
    "\n",
    "df2 = stpatrick3_elog\n",
    "df2sets = stpatrick3_bv_sets\n",
    "trip2 = StPatrick3data[\"trip_info\"]\n",
    "\n",
    "trip1title = f'St. Patrick Trip 1: {trip1['trip_start_date']} to {trip1['trip_end_date']}'\n",
    "trip2title = f'St. Patrick Trip 2: {trip2['trip_start_date']} to {trip2['trip_end_date']}'\n",
    "\n",
    "titles = {\"main\": \"\", \"plot1\": trip1title, \"plot2\": trip2title}\n",
    "\n",
    "fig, ax = plt.subplots(2, 1, figsize=(8, 4))\n",
    "fig.tight_layout(pad=4.0)\n",
    "plot_elog_comparisons(ax[0], df1, df1sets, trip1title, legend=False)\n",
    "plot_elog_comparisons(ax[1], df2, df2sets, trip2title, legend=True)\n",
    "plt.subplots_adjust(wspace=0, hspace=0.1)"
   ]
  },
  {
   "cell_type": "code",
   "execution_count": 26,
   "id": "6a074cff-555e-4ec9-8da9-6f9711b4205f",
   "metadata": {},
   "outputs": [],
   "source": [
    "# a type discovered in BV notes, mix up of AM and PM, changing ot intended value\n",
    "brancol2_bv_sets_adjusted = brancol2_bv_sets.copy()\n",
    "\n",
    "brancol2_bv_sets_adjusted.loc[\n",
    "    brancol2_bv_sets_adjusted[\"set_number\"] == \"2\", \"haul_end_datetime\"\n",
    "] = brancol2_bv_sets_adjusted.loc[brancol2_bv_sets_adjusted[\"set_number\"] == \"2\"][\n",
    "    \"haul_end_datetime\"\n",
    "] - pd.to_timedelta(\"12 hours\")\n"
   ]
  },
  {
   "cell_type": "markdown",
   "id": "d2e34fa4-c6fc-4e0d-84f8-e68c5b864d83",
   "metadata": {},
   "source": [
    "## ELOG / BV delta analysis"
   ]
  },
  {
   "cell_type": "markdown",
   "id": "1f05dc69-2f59-4b8e-9133-56ecd501f64c",
   "metadata": {
    "jp-MarkdownHeadingCollapsed": true
   },
   "source": [
    "##### helper functions"
   ]
  },
  {
   "cell_type": "code",
   "execution_count": 18,
   "id": "b318bc4d-ced0-4cb7-a50a-6b4040cdeab5",
   "metadata": {},
   "outputs": [],
   "source": [
    "# re adjust time for BV Set"
   ]
  },
  {
   "cell_type": "code",
   "execution_count": 19,
   "id": "aaf70e59-744f-4c99-8bfb-a77beab3103c",
   "metadata": {},
   "outputs": [],
   "source": [
    "def get_elog_bv_deltas(dfMerged):\n",
    "    dfMerged[\"set_start_delta_minutes\"] = (\n",
    "        dfMerged[\"systemstartsetdatetime\"] - dfMerged[\"set_start_datetime\"]\n",
    "    ).dt.total_seconds() / 60\n",
    "    dfMerged[\"set_end_delta_minutes\"] = (\n",
    "        dfMerged[\"systemendsetdatetime\"] - dfMerged[\"set_end_datetime\"]\n",
    "    ).dt.total_seconds() / 60\n",
    "    dfMerged[\"haul_start_delta_minutes\"] = (\n",
    "        dfMerged[\"systemstarthauldatetime\"] - dfMerged[\"haul_start_datetime\"]\n",
    "    ).dt.total_seconds() / 60\n",
    "    dfMerged[\"haul_end_delta_minutes\"] = (\n",
    "        dfMerged[\"systemendhauldatetime\"] - dfMerged[\"haul_end_datetime\"]\n",
    "    ).dt.total_seconds() / 60\n",
    "    dfMerged[\"catch_count_delta\"] = dfMerged[\"elog_total_count\"] - dfMerged[\"bv_retained_count\"]\n",
    "\n",
    "    # dfMerged['set_start_delta'].\n"
   ]
  },
  {
   "cell_type": "code",
   "execution_count": 20,
   "id": "72d2fce8-ab21-49ee-affb-7d7741a3dfe6",
   "metadata": {},
   "outputs": [],
   "source": [
    "def merge_bv_elog_sets(dfElog, dfBV, delta=\"1 hour\"):\n",
    "    dfElog.sort_values(by=\"systemstartsetdatetime\", inplace=True)\n",
    "    dfBV.sort_values(by=\"set_start_datetime\", inplace=True)\n",
    "    elog_columns = [\n",
    "        \"id\",\n",
    "        \"bycatchcount\",\n",
    "        \"catchcount\",\n",
    "        \"systemstartsetdatetime\",\n",
    "        \"systemendsetdatetime\",\n",
    "        \"systemstarthauldatetime\",\n",
    "        \"systemendhauldatetime\",\n",
    "    ]\n",
    "    bv_columns = [\n",
    "        \"set_number\",\n",
    "        \"set_start_datetime\",\n",
    "        \"set_end_datetime\",\n",
    "        \"haul_start_datetime\",\n",
    "        \"haul_end_datetime\",\n",
    "        \"retained_count\",\n",
    "    ]\n",
    "    dfMerged = pd.merge_asof(\n",
    "        dfElog[elog_columns],\n",
    "        dfBV[bv_columns],\n",
    "        left_on=\"systemstartsetdatetime\",\n",
    "        right_on=\"set_start_datetime\",\n",
    "        tolerance=pd.Timedelta(delta),\n",
    "        direction=\"nearest\",\n",
    "    )\n",
    "\n",
    "    col_order = [\n",
    "        \"id\",\n",
    "        \"set_number\",\n",
    "        \"bycatchcount\",\n",
    "        \"catchcount\",\n",
    "        \"retained_count\",\n",
    "        \"systemstartsetdatetime\",\n",
    "        \"set_start_datetime\",\n",
    "        \"systemendsetdatetime\",\n",
    "        \"set_end_datetime\",\n",
    "        \"systemstarthauldatetime\",\n",
    "        \"haul_start_datetime\",\n",
    "        \"systemendhauldatetime\",\n",
    "        \"haul_end_datetime\",\n",
    "    ]\n",
    "    dfMerged = dfMerged[col_order]\n",
    "\n",
    "    dfMerged.rename(\n",
    "        columns={\n",
    "            \"retained_count\": \"bv_retained_count\",\n",
    "            \"catchcount\": \"elog_target_count\",\n",
    "            \"bycatchcount\": \"elog_bycatch_count\",\n",
    "        },\n",
    "        inplace=True,\n",
    "    )\n",
    "\n",
    "    dfMerged[\"elog_total_count\"] = dfMerged[\"elog_target_count\"].astype(int) + dfMerged[\n",
    "        \"elog_bycatch_count\"\n",
    "    ].astype(int)\n",
    "\n",
    "    get_elog_bv_deltas(dfMerged)\n",
    "\n",
    "    return dfMerged"
   ]
  },
  {
   "cell_type": "code",
   "execution_count": 21,
   "id": "30c5dd31-00d0-4fc9-9264-0ae5dd136baa",
   "metadata": {},
   "outputs": [],
   "source": [
    "def get_combined_delta_means(dfs):\n",
    "    delta_cols = [\n",
    "        \"set_start_delta_minutes\",\n",
    "        \"set_end_delta_minutes\",\n",
    "        \"haul_start_delta_minutes\",\n",
    "        \"haul_end_delta_minutes\",\n",
    "    ]\n",
    "    for col in delta_cols:\n",
    "        combined_list = []\n",
    "        for df in dfs:\n",
    "            df_list = df[col].abs().to_list()\n",
    "            combined_list = combined_list + df_list\n",
    "        # print(combined_list)\n",
    "        avg = np.mean(combined_list)\n",
    "        # print(stats.describe(combined_list))\n",
    "\n",
    "        print(\n",
    "            f\"{col} Mean: {avg} min | Min: {np.min(combined_list)} | Max: {np.max(combined_list)}\"\n",
    "        )\n",
    "        q = [10, 25, 50, 75, 80, 90]\n",
    "        percentile_str = \"\"\n",
    "        percentiles = np.percentile(combined_list, q=q)\n",
    "        for p, percentile in zip(q, percentiles):\n",
    "            percentile_str += f\"\\033[1m{p}%:\\033[0m {percentile} \"\n",
    "        print(percentile_str)\n",
    "        print(\" \")\n",
    "    # print(f'number of logged sets: {len(combined_list)}')"
   ]
  },
  {
   "cell_type": "code",
   "execution_count": 22,
   "id": "ac6c79fd-3264-423b-8f7c-df2df72d821c",
   "metadata": {},
   "outputs": [],
   "source": [
    "def get_delta_means(dfMerged):\n",
    "    delta_cols = [\n",
    "        \"set_start_delta_minutes\",\n",
    "        \"set_end_delta_minutes\",\n",
    "        \"haul_start_delta_minutes\",\n",
    "        \"haul_end_delta_minutes\",\n",
    "    ]\n",
    "    for col in delta_cols:\n",
    "        avg = np.mean(dfMerged[col].abs())\n",
    "        print(f\"{col}: {avg} min\")"
   ]
  },
  {
   "cell_type": "code",
   "execution_count": 23,
   "id": "fde9b3cd-31f9-4efd-89e4-b0f8d42e0a9b",
   "metadata": {},
   "outputs": [],
   "source": [
    "def get_combined_deltas(dfs):\n",
    "    deltas = {}\n",
    "    delta_cols = [\n",
    "        \"set_start_delta_minutes\",\n",
    "        \"set_end_delta_minutes\",\n",
    "        \"haul_start_delta_minutes\",\n",
    "        \"haul_end_delta_minutes\",\n",
    "    ]\n",
    "    for col in delta_cols:\n",
    "        combined_list = []\n",
    "        for df in dfs:\n",
    "            df_list = df[col].abs().to_list()\n",
    "            combined_list = combined_list + df_list\n",
    "        # print(combined_list)\n",
    "        deltas[col] = combined_list\n",
    "\n",
    "    return deltas\n",
    "    # print(f'number of logged sets: {len(combined_list)}')"
   ]
  },
  {
   "cell_type": "code",
   "execution_count": 24,
   "id": "883e4731-7d39-4352-9279-b9cad50cadad",
   "metadata": {},
   "outputs": [],
   "source": [
    "def get_combined_catch_deltas(dfs):\n",
    "    col = \"catch_count_delta\"\n",
    "    delta_list = []\n",
    "    for df in dfs:\n",
    "        df_list = df[col].to_list()\n",
    "        delta_list = delta_list + df_list\n",
    "    return delta_list"
   ]
  },
  {
   "cell_type": "markdown",
   "id": "4a3fa1f2-8511-4cb2-97e6-365ff872f1a8",
   "metadata": {},
   "source": [
    "##### merge elogs and BV sets for comparison"
   ]
  },
  {
   "cell_type": "code",
   "execution_count": 27,
   "id": "f9ed9ae2-8c09-415a-a410-0a00d86a1398",
   "metadata": {},
   "outputs": [],
   "source": [
    "dfBrancol1_merged = merge_bv_elog_sets(brancol1_elog, brancol1_bv_sets)\n",
    "dfBrancol2_merged = merge_bv_elog_sets(brancol2_elog, brancol2_bv_sets_adjusted, \"2 hours\")\n",
    "dfBrancol3_merged = merge_bv_elog_sets(brancol3_elog, brancol3_bv_sets, \"2 hours\")\n",
    "\n",
    "dfStPatrick1_merged = merge_bv_elog_sets(stpatrick1_elog, stpatrick1_bv_sets, \"2 hours\")\n",
    "dfStPatrick2_merged = merge_bv_elog_sets(stpatrick2_elog, stpatrick2_bv_sets, \"5 hours\")\n",
    "dfStPatrick3_merged = merge_bv_elog_sets(stpatrick3_elog, stpatrick3_bv_sets, \"2 hours\")"
   ]
  },
  {
   "cell_type": "markdown",
   "id": "ded69fa4-3c21-492e-b6d0-be207bc784e9",
   "metadata": {},
   "source": [
    "### Time deltas"
   ]
  },
  {
   "cell_type": "code",
   "execution_count": 28,
   "id": "67bc06a7-fea3-4d23-b032-1181b7d32bc6",
   "metadata": {},
   "outputs": [],
   "source": [
    "all_merged_dfs = [\n",
    "    dfBrancol1_merged,\n",
    "    dfBrancol2_merged,\n",
    "    dfBrancol3_merged,\n",
    "    dfStPatrick1_merged,\n",
    "    dfStPatrick2_merged,\n",
    "    dfStPatrick3_merged,\n",
    "]"
   ]
  },
  {
   "cell_type": "code",
   "execution_count": 29,
   "id": "407ff4f5-3715-4ab4-a4c5-84b30d8ad1fe",
   "metadata": {},
   "outputs": [
    {
     "name": "stdout",
     "output_type": "stream",
     "text": [
      "set_start_delta_minutes Mean: 11.234437858215962 min | Min: 0.0072233666666666665 | Max: 266.2005410666667\n",
      "\u001b[1m10%:\u001b[0m 0.2539853166666667 \u001b[1m25%:\u001b[0m 0.43838930000000004 \u001b[1m50%:\u001b[0m 0.88410135 \u001b[1m75%:\u001b[0m 3.060027541666667 \u001b[1m80%:\u001b[0m 4.525279433333334 \u001b[1m90%:\u001b[0m 8.83515245 \n",
      " \n",
      "set_end_delta_minutes Mean: 25.786145313145543 min | Min: 0.0066082833333333335 | Max: 1012.98066035\n",
      "\u001b[1m10%:\u001b[0m 0.12344418333333333 \u001b[1m25%:\u001b[0m 0.3762135333333333 \u001b[1m50%:\u001b[0m 0.8571148333333334 \u001b[1m75%:\u001b[0m 3.373896525 \u001b[1m80%:\u001b[0m 3.6812048666666666 \u001b[1m90%:\u001b[0m 32.63622016666667 \n",
      " \n",
      "haul_start_delta_minutes Mean: 22.37216833826291 min | Min: 0.01893868333333333 | Max: 434.01037583333334\n",
      "\u001b[1m10%:\u001b[0m 0.27466523333333337 \u001b[1m25%:\u001b[0m 0.447974325 \u001b[1m50%:\u001b[0m 1.2010629 \u001b[1m75%:\u001b[0m 5.3113557 \u001b[1m80%:\u001b[0m 8.784672033333333 \u001b[1m90%:\u001b[0m 32.532422833333335 \n",
      " \n",
      "haul_end_delta_minutes Mean: 22.27037762441314 min | Min: 0.03392008333333333 | Max: 730.1382257833334\n",
      "\u001b[1m10%:\u001b[0m 0.26356425 \u001b[1m25%:\u001b[0m 0.6136318666666667 \u001b[1m50%:\u001b[0m 1.6342256166666667 \u001b[1m75%:\u001b[0m 7.671325749999999 \u001b[1m80%:\u001b[0m 10.387698866666666 \u001b[1m90%:\u001b[0m 34.98451331666667 \n",
      " \n"
     ]
    }
   ],
   "source": [
    "get_combined_delta_means(\n",
    "    [\n",
    "        dfBrancol1_merged,\n",
    "        dfBrancol2_merged,\n",
    "        dfBrancol3_merged,\n",
    "        dfStPatrick1_merged,\n",
    "        dfStPatrick2_merged,\n",
    "        dfStPatrick3_merged,\n",
    "    ]\n",
    ")"
   ]
  },
  {
   "cell_type": "code",
   "execution_count": 39,
   "id": "91c07e0d-9169-469b-9d4b-d14511965c82",
   "metadata": {},
   "outputs": [],
   "source": [
    "deltas = get_combined_deltas(all_merged_dfs)\n"
   ]
  },
  {
   "cell_type": "code",
   "execution_count": 40,
   "id": "1e45baae-c6e5-4a1a-ab04-29954d942aaa",
   "metadata": {},
   "outputs": [],
   "source": [
    "df = pd.DataFrame()\n",
    "for col, values in deltas.items():\n",
    "    df_col = pd.DataFrame({\"column\": np.repeat(col, len(values)), \"value\": values})\n",
    "    df = pd.concat([df, df_col])\n",
    "\n",
    "label_dict = {\n",
    "    \"set_start_delta_minutes\": \"Set Start\",\n",
    "    \"set_end_delta_minutes\": \"Set End\",\n",
    "    \"haul_start_delta_minutes\": \"Haul Start\",\n",
    "    \"haul_end_delta_minutes\": \"Haul End\",\n",
    "    \"catch_count_delta\": \"Catch Count\",\n",
    "}\n",
    "df[\"label\"] = df[\"column\"].map(label_dict)"
   ]
  },
  {
   "cell_type": "code",
   "execution_count": 41,
   "id": "97935f6f-f956-4ef7-b6c3-34e88e029b7d",
   "metadata": {},
   "outputs": [
    {
     "data": {
      "image/png": "[encoded data removed]",
      "text/plain": [
       "<Figure size 800x250 with 1 Axes>"
      ]
     },
     "metadata": {},
     "output_type": "display_data"
    }
   ],
   "source": [
    "# Create the plot\n",
    "sns.set_theme(style=\"ticks\")\n",
    "fig, ax = plt.subplots(figsize=(8, 2.5))  # Increased the height to 4 for better spacing\n",
    "sns.boxplot(y=\"label\", x=\"value\", data=df, hue=\"label\", ax=ax, palette=colors4, width=0.5)\n",
    "ax.yaxis.label.set_visible(False)\n",
    "ax.set_xlim(-1, 40)\n",
    "ax.set_xlabel(\"Time Delta (Absolute Value in Minutes)\", size=11)\n",
    "\n",
    "# Calculate medians\n",
    "medians = df.groupby(\"label\")[\"value\"].median()\n",
    "\n",
    "# Annotate medians above the boxplots with arrows pointing to the median line\n",
    "for label in medians.index:\n",
    "    median_value = medians[label]\n",
    "    y_pos = df[\"label\"].unique().tolist().index(label)\n",
    "    ax.annotate(\n",
    "        f\"{median_value:.2f}\",\n",
    "        xy=(median_value, y_pos),\n",
    "        xytext=(median_value, y_pos - 0.25),  # Position the text above the boxplot\n",
    "        va=\"bottom\",\n",
    "        ha=\"center\",\n",
    "        color=\"black\",\n",
    "        fontsize=8,\n",
    "        # fontweight='bold',\n",
    "        # arrowprops=dict(facecolor='black', edgecolor='black', shrink=0.05, headwidth=5, headlength=5, width=.7),  # Arrow properties\n",
    "        # bbox=dict(facecolor='white', edgecolor='none', boxstyle='round,pad=0.3')\n",
    "    )\n",
    "ax.xaxis.grid(True)\n",
    "ax.tick_params(axis=\"x\", labelsize=10)  # Change x ticks font size to 12\n",
    "ax.tick_params(axis=\"y\", labelsize=10)  # Change y ticks font size to 12\n",
    "# ax.set(ylabel=\"\")\n",
    "sns.despine(trim=True, left=True)\n",
    "plt.savefig(\"elog_timedeltas.png\", bbox_inches=\"tight\", dpi=150)\n",
    "plt.tight_layout()\n",
    "plt.show()"
   ]
  },
  {
   "cell_type": "markdown",
   "id": "5954db80-69d7-4380-8916-c183aebd3cdd",
   "metadata": {
    "jp-MarkdownHeadingCollapsed": true
   },
   "source": [
    "### catch_deltas"
   ]
  },
  {
   "cell_type": "code",
   "execution_count": 30,
   "id": "114c34ce-de36-4ed6-b26f-c0e887147d81",
   "metadata": {},
   "outputs": [],
   "source": [
    "catch_deltas = get_combined_catch_deltas(all_merged_dfs)"
   ]
  },
  {
   "cell_type": "code",
   "execution_count": 31,
   "id": "e850eedb-3118-4580-ab4d-9b2bf9012eda",
   "metadata": {},
   "outputs": [],
   "source": [
    "catch_deltas_inverted = [x * -1 for x in catch_deltas]"
   ]
  },
  {
   "cell_type": "code",
   "execution_count": 32,
   "id": "268f420f-b494-45eb-8a47-6e02042d5c05",
   "metadata": {},
   "outputs": [
    {
     "name": "stdout",
     "output_type": "stream",
     "text": [
      "Mean: -2.0704225352112675 min | Median: -1.0 | Min: -28.0 | Max: 32.0\n",
      "\u001b[1m10%:\u001b[0m -8.0 \u001b[1m25%:\u001b[0m -4.5 \u001b[1m50%:\u001b[0m -1.0 \u001b[1m75%:\u001b[0m 0.0 \u001b[1m80%:\u001b[0m 1.0 \u001b[1m90%:\u001b[0m 2.0 \n",
      " \n"
     ]
    }
   ],
   "source": [
    "avg = np.mean(catch_deltas)\n",
    "\n",
    "print(\n",
    "    f\"Mean: {avg} min | Median: {np.median(catch_deltas)} | Min: {np.min(catch_deltas)} | Max: {np.max(catch_deltas)}\"\n",
    ")\n",
    "q = [10, 25, 50, 75, 80, 90]\n",
    "percentile_str = \"\"\n",
    "percentiles = np.percentile(catch_deltas, q=q)\n",
    "for p, percentile in zip(q, percentiles):\n",
    "    percentile_str += f\"\\033[1m{p}%:\\033[0m {percentile} \"\n",
    "print(percentile_str)\n",
    "print(\" \")"
   ]
  },
  {
   "cell_type": "code",
   "execution_count": 33,
   "id": "10f28c97-84df-4f7d-9d51-70e0a8599015",
   "metadata": {},
   "outputs": [
    {
     "data": {
      "image/png": "[encoded data removed]",
      "text/plain": [
       "<Figure size 350x80 with 1 Axes>"
      ]
     },
     "metadata": {},
     "output_type": "display_data"
    }
   ],
   "source": [
    "# Create the plot\n",
    "%matplotlib inline\n",
    "\n",
    "colors4 = [colors[15], colors[16], colors[17], colors[18]]\n",
    "\n",
    "sns.set_style(\"whitegrid\", {\"axes.grid\": False})\n",
    "plt.rc(\"xtick\", labelsize=8)\n",
    "plt.rc(\"ytick\", labelsize=8)\n",
    "plt.rc(\"axes\", labelsize=8)\n",
    "\n",
    "sns.set_theme(style=\"ticks\")\n",
    "fig, ax = plt.subplots(figsize=(3.5, 0.8))  # Increased the height to 4 for better spacing\n",
    "sns.boxplot(x=catch_deltas, ax=ax, palette=colors4)\n",
    "ax.yaxis.label.set_visible(False)\n",
    "# ax.set_xlim(-30, 30)\n",
    "ax.set_xlabel(\"Catch Count Delta\")\n",
    "\n",
    "# Calculate medians\n",
    "# medians = df.loc[df['column']=='catch_count_delta'].groupby('column')['value'].median()\n",
    "\n",
    "# Annotate medians above the boxplots with arrows pointing to the median line\n",
    "# for label in medians.index:\n",
    "#     median_value = medians[label]\n",
    "#     y_pos = df['column'].unique().tolist().index(label)\n",
    "#     ax.annotate(\n",
    "#         f'Median: {median_value:.0f}',\n",
    "#         xy=(0, median_value),\n",
    "#         xytext=(0, median_value),  # Position the text above the boxplot\n",
    "#         va='bottom',\n",
    "#         ha='center',\n",
    "#         color='black',\n",
    "#         fontsize=9,\n",
    "\n",
    "#     )\n",
    "\n",
    "\n",
    "ax.xaxis.grid(True)\n",
    "ax.tick_params(axis=\"x\", labelsize=9)  # Change x ticks font size to 12\n",
    "ax.tick_params(axis=\"y\", labelsize=9, left=False)  # Change y ticks font size to 12\n",
    "\n",
    "sns.despine(trim=True, left=True)\n",
    "plt.savefig(\"elog_countdeltas2.png\", bbox_inches=\"tight\", dpi=150)\n",
    "plt.tight_layout()\n"
   ]
  },
  {
   "cell_type": "markdown",
   "id": "5be3022f-e1ac-467b-8286-2657eca9251b",
   "metadata": {},
   "source": [
    "# Vector analysis"
   ]
  },
  {
   "cell_type": "markdown",
   "id": "863211b7-67d7-4248-9e45-89c0a29a0091",
   "metadata": {},
   "source": [
    "#### helper functions"
   ]
  },
  {
   "cell_type": "code",
   "execution_count": 71,
   "id": "00fe7cb4-03a1-4073-a737-fa1e00b1de94",
   "metadata": {},
   "outputs": [],
   "source": [
    "def compare_elog_vector(\n",
    "    vectors,\n",
    "    df,\n",
    "    dfsets,\n",
    "    triptitle,\n",
    "    rerun=False,\n",
    "    figsize=(10, 4),\n",
    "    titlesize=12,\n",
    "    lw=0.5,\n",
    "    ylim=None,\n",
    "    markersize=3,\n",
    "):\n",
    "    fig, ax = plt.subplots(\n",
    "        2, 1, figsize=figsize, sharex=True, gridspec_kw={\"height_ratios\": [2, 1]}\n",
    "    )\n",
    "\n",
    "    sns.lineplot(\n",
    "        x=\"datetime\",\n",
    "        y=\"score\",\n",
    "        data=vectors,\n",
    "        ax=ax[0],\n",
    "        marker=\"o\",\n",
    "        markersize=markersize,\n",
    "        label=\"Original Vector \\n Score\",\n",
    "        lw=lw,\n",
    "    )\n",
    "    if rerun:\n",
    "        sns.lineplot(\n",
    "            x=\"datetime\",\n",
    "            y=\"rerunscore\",\n",
    "            data=vectors,\n",
    "            ax=ax[0],\n",
    "            marker=\"o\",\n",
    "            markersize=markersize,\n",
    "            label=\"Point-in-time \\n Score\",\n",
    "            lw=lw,\n",
    "        )\n",
    "    plot_elog_comparisons(ax[1], df, dfsets, \"\", legend=False, display_axis=False)\n",
    "    locator = DayLocator()\n",
    "    formatter = mdates.ConciseDateFormatter(locator)\n",
    "    ax[0].xaxis.set_major_locator(locator)\n",
    "    ax[0].xaxis.set_major_formatter(formatter)\n",
    "    ax[0].set_title(triptitle, x=0.5, y=1, fontsize=titlesize)\n",
    "    # ax[0].set_xticks(locator)\n",
    "    # plt.tick_params(axis='both', which='both')\n",
    "    return fig, ax"
   ]
  },
  {
   "cell_type": "markdown",
   "id": "556dcaf2-a154-4fce-9b79-507390df1d8b",
   "metadata": {},
   "source": [
    "### sigmoid functions"
   ]
  },
  {
   "cell_type": "code",
   "execution_count": 42,
   "id": "9da2ceec-8b43-4af7-a907-2fda695d4e57",
   "metadata": {},
   "outputs": [
    {
     "data": {
      "text/plain": [
       "count                           77\n",
       "mean     1 days 14:47:58.441558441\n",
       "std      0 days 19:48:23.326176659\n",
       "min                0 days 04:20:00\n",
       "25%                1 days 00:02:00\n",
       "50%                1 days 06:57:00\n",
       "75%                2 days 00:52:00\n",
       "max                5 days 00:25:00\n",
       "Name: last_haul_delta, dtype: object"
      ]
     },
     "execution_count": 42,
     "metadata": {},
     "output_type": "execute_result"
    }
   ],
   "source": [
    "set_dfs = {\n",
    "    \"brancol1\": brancol1_bv_sets,\n",
    "    \"brancol2\": brancol2_bv_sets,\n",
    "    \"brancol3\": brancol3_bv_sets,\n",
    "    \"stpatrick1\": stpatrick1_bv_sets,\n",
    "    \"stpatrick2\": stpatrick2_bv_sets,\n",
    "    \"stpatrick3\": stpatrick3_bv_sets,\n",
    "}\n",
    "\n",
    "set_delta_dfs = []\n",
    "\n",
    "for trip, df in set_dfs.items():\n",
    "    df.sort_values(by=\"set_start_datetime\", inplace=True)\n",
    "    df[\"trip\"] = trip\n",
    "    df[\"last_haul_end\"] = df[\"haul_end_datetime\"].shift(1)\n",
    "    df[\"last_haul_delta\"] = df[\"haul_end_datetime\"] - df[\"last_haul_end\"]\n",
    "    set_delta_dfs.append(\n",
    "        df[[\"trip\", \"set_start_datetime\", \"haul_end_datetime\", \"last_haul_end\", \"last_haul_delta\"]]\n",
    "    )\n",
    "\n",
    "\n",
    "set_deltas = pd.concat(set_delta_dfs)\n",
    "\n",
    "set_deltas[\"last_haul_delta\"].describe()"
   ]
  },
  {
   "cell_type": "code",
   "execution_count": 43,
   "id": "1f0dfc66-7fa7-49a5-858c-a44d241cf957",
   "metadata": {},
   "outputs": [],
   "source": [
    "set_deltas.reset_index(drop=True, inplace=True)"
   ]
  },
  {
   "cell_type": "code",
   "execution_count": 44,
   "id": "d9eeacfc-25c2-48d0-8b88-a0524abff750",
   "metadata": {},
   "outputs": [
    {
     "data": {
      "text/plain": [
       "<seaborn.axisgrid.FacetGrid at 0x1434670e0>"
      ]
     },
     "execution_count": 44,
     "metadata": {},
     "output_type": "execute_result"
    },
    {
     "data": {
      "image/png": "[encoded data removed]",
      "text/plain": [
       "<Figure size 500x500 with 1 Axes>"
      ]
     },
     "metadata": {},
     "output_type": "display_data"
    }
   ],
   "source": [
    "sns.displot(set_deltas[\"last_haul_delta\"] / pd.Timedelta(\"1 hour\"), kind=\"ecdf\")"
   ]
  },
  {
   "cell_type": "code",
   "execution_count": null,
   "id": "edba6995-655c-415f-add7-12ccb0ebb41c",
   "metadata": {},
   "outputs": [],
   "source": [
    "x = (set_deltas[\"last_haul_delta\"] / pd.Timedelta(\"1 hour\")).dropna().sort_values()\n",
    "\n",
    "params = st.lognorm.fit(x)\n",
    "# Separate parts of parameters\n",
    "arg = params[:-2]\n",
    "loc = params[-2]\n",
    "scale = params[-1]"
   ]
  },
  {
   "cell_type": "code",
   "execution_count": 50,
   "id": "8b4fae65-5b00-4cee-b1e3-919db54b1be7",
   "metadata": {},
   "outputs": [],
   "source": [
    "# sigmoid function used by Vector 6, time gap vector\n",
    "def vector_6_algorithim(x):\n",
    "    k = -0.15\n",
    "    b = 60.0\n",
    "    return 1.0 / (1.0 + math.exp(k * (x - b)))"
   ]
  },
  {
   "cell_type": "code",
   "execution_count": 56,
   "id": "c37c1fe8-c4c6-4b1d-800d-72dd1397f7c9",
   "metadata": {},
   "outputs": [
    {
     "data": {
      "image/png": "[encoded data removed]",
      "text/plain": [
       "<Figure size 640x480 with 1 Axes>"
      ]
     },
     "metadata": {},
     "output_type": "display_data"
    }
   ],
   "source": [
    "x_data = np.linspace(0, max(x), 100)\n",
    "cdf = stats.lognorm.cdf(x_data, loc=loc, scale=scale, *arg)\n",
    "x_vector_6 = [vector_6_algorithim(x_val) for x_val in x_data]\n",
    "plt.plot(x_data, cdf, label=\"cdf\")\n",
    "plt.plot(x_data, x_vector_6, label=\"vector 6\")\n",
    "plt.legend()\n",
    "plt.show()\n"
   ]
  },
  {
   "cell_type": "markdown",
   "id": "c2377dea-f1f0-4afc-9500-a6992efabf7f",
   "metadata": {},
   "source": [
    "### plotting vector results"
   ]
  },
  {
   "cell_type": "code",
   "execution_count": 64,
   "id": "cab5413d-6edc-4521-aab2-fe2e6e0b8b5b",
   "metadata": {},
   "outputs": [],
   "source": [
    "vector_rerun_brancol = pd.read_csv(\"../data/vector_id_6_rerun_brancol.csv\")\n",
    "vector_rerun_brancol[\"datetime\"] = pd.to_datetime(vector_rerun_brancol[\"datetime\"], utc=True)\n",
    "vector_rerun_brancol[\"datetime\"] = vector_rerun_brancol[\"datetime\"].dt.tz_convert(None)"
   ]
  },
  {
   "cell_type": "code",
   "execution_count": 60,
   "id": "5e790ebf-7483-4fae-b80e-339f68103a1c",
   "metadata": {},
   "outputs": [],
   "source": [
    "def get_last_haul_delta(df, set_start_col, haul_end_col):\n",
    "    df.sort_values(by=set_start_col, inplace=True)\n",
    "    df[\"last_haul_end\"] = df[haul_end_col].shift(1)\n",
    "    df[\"last_haul_delta\"] = df[haul_end_col] - df[\"last_haul_end\"]\n"
   ]
  },
  {
   "cell_type": "code",
   "execution_count": 73,
   "id": "34e32210-08d6-4d2f-8457-9325f8a896b8",
   "metadata": {},
   "outputs": [],
   "source": [
    "# define trip details\n",
    "trip = Brancol2data[\"trip_info\"]\n",
    "trip_start_date = pd.to_datetime(trip[\"trip_start_date\"])\n",
    "trip_end_date = pd.to_datetime(trip[\"trip_end_date\"])"
   ]
  },
  {
   "cell_type": "code",
   "execution_count": 76,
   "id": "f4e9ce02-339e-45ef-9ab6-ea001a5481fd",
   "metadata": {},
   "outputs": [],
   "source": [
    "# create dataset of results using cdf function\n",
    "\n",
    "\n",
    "def most_recent(haul_endings, test):\n",
    "    return max(haul for haul in haul_endings if haul <= test)\n",
    "\n",
    "\n",
    "# create array of datetime at 4 hr interval\n",
    "test_intervals = pd.date_range(trip_start_date, trip_end_date, freq=\"4h\")\n",
    "haul_endings = brancol2_elog[\"systemendhauldatetime\"].tolist()\n",
    "haul_endings.append(trip_start_date)\n",
    "\n",
    "tests = []\n",
    "for test in test_intervals:\n",
    "    test_haul = {}\n",
    "    last_haul = most_recent(haul_endings, test)\n",
    "    test_haul[\"test_datetime\"] = test\n",
    "    test_haul[\"last_haul\"] = last_haul\n",
    "    test_haul[\"last_haul_delta\"] = test - last_haul\n",
    "\n",
    "    tests.append(test_haul)\n",
    "testsDF = pd.DataFrame(tests)\n",
    "\n",
    "x_deltas = testsDF[\"last_haul_delta\"] / pd.Timedelta(\"1 hour\")\n",
    "cdf = stats.lognorm.cdf(x_deltas, loc=loc, scale=scale, *arg)"
   ]
  },
  {
   "cell_type": "code",
   "execution_count": 77,
   "id": "cbb58ef2-e1ed-4d9e-bbd9-162489b9ce5a",
   "metadata": {},
   "outputs": [
    {
     "data": {
      "image/png": "[encoded data removed]",
      "text/plain": [
       "<Figure size 750x350 with 2 Axes>"
      ]
     },
     "metadata": {},
     "output_type": "display_data"
    }
   ],
   "source": [
    "plt.rc(\"xtick\", labelsize=9)\n",
    "plt.rc(\"ytick\", labelsize=9)\n",
    "\n",
    "plt.rc(\"axes\", labelsize=9)\n",
    "sns.set_style(\"whitegrid\", {\"axes.grid\": False})\n",
    "\n",
    "df = brancol2_elog\n",
    "\n",
    "get_last_haul_delta(df, \"systemstartsetdatetime\", \"systemendhauldatetime\")\n",
    "\n",
    "dfsets = brancol2_bv_sets\n",
    "\n",
    "\n",
    "mask = (vector_rerun_brancol[\"datetime\"] > trip_start_date) & (\n",
    "    vector_rerun_brancol[\"datetime\"] <= trip_end_date\n",
    ")\n",
    "vectors = vector_rerun_brancol.loc[mask]\n",
    "triptitle = (\n",
    "    r\"$\\bf{Elog\\ Time\\ Gap\\ Vectors}$ | Brancol Trip 1: \"\n",
    "    + f'{trip['trip_start_date']} to {trip['trip_end_date']}'\n",
    ")\n",
    "\n",
    "\n",
    "brancol1_fig, brancol1_ax = compare_elog_vector(\n",
    "    vectors, df, dfsets, None, rerun=True, figsize=(7.5, 3.5), titlesize=10, lw=0.8\n",
    ")\n",
    "sns.lineplot(\n",
    "    x=testsDF[\"test_datetime\"],\n",
    "    y=cdf,\n",
    "    ax=brancol1_ax[0],\n",
    "    label=\"Recalculated Vector \\n Score (CDF)\",\n",
    "    lw=0.8,\n",
    ")\n",
    "# brancol1_ax[0].legend().remove()\n",
    "brancol1_ax[1].hlines(\n",
    "    [0.25, 0.75], 0.01, 0.99, transform=brancol1_ax[1].transAxes, colors=\"grey\", lw=0.2, zorder=0\n",
    ")\n",
    "\n",
    "\n",
    "# plt.subplots_adjust(wspace=0, hspace=.1)\n",
    "legend_elements = []\n",
    "for label, color in color_dict[\"elog\"].items():\n",
    "    legend_elements.append(Patch(facecolor=color, edgecolor=color, label=label))\n",
    "\n",
    "# labels = ['Original vector \\n score', 'Point-in-time \\n score', 'Recalculated Vector \\n Score (CDF)']\n",
    "brancol1_ax[0].legend(\n",
    "    bbox_to_anchor=(0.95, 0.9), ncol=1, loc=\"upper left\", fontsize=9, frameon=False\n",
    ")\n",
    "brancol1_ax[1].legend(\n",
    "    handles=legend_elements, bbox_to_anchor=(1, 0.9), loc=\"upper left\", fontsize=9, frameon=False\n",
    ")\n",
    "sns.despine(trim=True, left=True)\n",
    "brancol1_fig.show()\n",
    "brancol1_fig.savefig(\"brancol1_elog_vector.png\", bbox_inches=\"tight\")\n",
    "\n",
    "# testsDF.head()"
   ]
  },
  {
   "cell_type": "code",
   "execution_count": null,
   "id": "596cb5a7-be86-48c1-b8df-b03bbe43ca60",
   "metadata": {},
   "outputs": [],
   "source": []
  },
  {
   "cell_type": "markdown",
   "id": "abc4365b-242a-4a0c-a615-c1c9472a4f01",
   "metadata": {},
   "source": [
    "##### other plotting functions"
   ]
  },
  {
   "cell_type": "code",
   "execution_count": 23,
   "id": "97f9ad5a-d500-4de8-82d8-6824d14892e9",
   "metadata": {},
   "outputs": [],
   "source": [
    "# def plot_event_bars(df, ax,label, datetime_col,duration=None,end_col = None, duration_col = None, y_val=.7, y_height = .6, color= '#43aa99' ):\n",
    "\n",
    "#     if duration:\n",
    "#         x_duration = np.full(len(df), pd.Timedelta(duration))\n",
    "#     elif end_col:\n",
    "#         df['duration'] =  df[end_col]- df[datetime_col]\n",
    "#         x_duration = df['duration']\n",
    "#     elif duration_col:\n",
    "#         x_duration = df[duration_col]\n",
    "\n",
    "#     x = list(zip(df[datetime_col], x_duration))\n",
    "#     y = (y_val, y_height)\n",
    "\n",
    "#     ax.broken_barh(x, y, facecolors = color, edgecolor = 'face', label = label, clip_on=False)\n"
   ]
  },
  {
   "cell_type": "code",
   "execution_count": 24,
   "id": "44e6312c-d1b4-4f83-98d8-92b5181d345a",
   "metadata": {},
   "outputs": [],
   "source": [
    "# def plot_event_vspan(df_events, ax, color_dict):\n",
    "#     for category, color in color_dict.items():\n",
    "#         df_category = df_events.loc[df_events['category']==category]\n",
    "\n",
    "#         for idx, row in df_category.iterrows():\n",
    "#             ax.axvspan(*mdates.date2num([row['start_time'], row['end_time']]), color=color, edgecolor = 'face',alpha=0.5)"
   ]
  },
  {
   "cell_type": "code",
   "execution_count": 25,
   "id": "30643d5e-0f06-4180-9e8c-54bff78c936d",
   "metadata": {},
   "outputs": [],
   "source": [
    "# def plot_set_vspan(df_sets, ax, color = '#a2c662'):\n",
    "#     for idx, row in df_sets.iterrows():\n",
    "#         ax.axvspan(*mdates.date2num([row['haul_start_datetime'], row['haul_end_datetime']]), color=color, edgecolor = '#40a018',alpha=0.5)\n",
    "\n",
    "# def get_video_times(vessel, trip_info):\n",
    "#     trip_start_date = trip_info['trip_start_date']\n",
    "#     trip_end_date = trip_info['trip_end_date']\n",
    "\n",
    "#     sql = f\"\"\"\n",
    "#          SELECT\n",
    "#             v.start_datetime,\n",
    "#             v.cam_name\n",
    "\n",
    "#             from {vessel}_v1_video_files v\n",
    "#             where start_datetime > '{trip_start_date}' and start_datetime < '{trip_end_date}'\n",
    "#     \"\"\"\n",
    "#     video_df = wr.athena.read_sql_query(sql, database=\"tnc_edge\")\n",
    "#     video_df.start_datetime = pd.to_datetime(video_df.start_datetime)\n",
    "#     video_df['utc_start_datetime'] = video_df['start_datetime'].dt.tz_convert(None)\n",
    "#     # video_df['utc_end_datetime'] = video_df['utc_start_datetime'] + pd.Timedelta(minutes = 5)\n",
    "#     return video_df"
   ]
  },
  {
   "cell_type": "code",
   "execution_count": 26,
   "id": "52144f3d-2950-471b-b760-3f438ab412d4",
   "metadata": {},
   "outputs": [],
   "source": [
    "# def annotate_notes(ax, df, text_col, text_xy = (-60, 30)):\n",
    "#     arrowprops=dict(arrowstyle=\"->\",connectionstyle=\"arc3,rad=.2\", color = 'black')\n",
    "#     y_var = 20\n",
    "#     annots = []\n",
    "#     bbox_args = dict(boxstyle='round', facecolor='black', alpha=0.35)\n",
    "#     for idx, row in df.iterrows():\n",
    "#         # y_var = x_vars[n]\n",
    "#         text = row[text_col]\n",
    "#         data_xy = (row['start_time'], 1.7)\n",
    "\n",
    "#         an = ax.annotate(\n",
    "#             text,\n",
    "#             xy=data_xy, xycoords='data',\n",
    "#             xytext=text_xy, textcoords='offset points',\n",
    "#             arrowprops=arrowprops,\n",
    "#             bbox = bbox_args,\n",
    "#             color = 'white'\n",
    "#         )\n",
    "\n",
    "#         annots.append(an)\n",
    "\n",
    "#         x, y = text_xy\n",
    "\n",
    "#         y = y+y_var\n",
    "#         y_var = y_var * -1\n",
    "\n",
    "#         text_xy = (x,y)\n",
    "\n",
    "#     return annots"
   ]
  },
  {
   "cell_type": "markdown",
   "id": "73513b40-5c14-4ecd-88ee-df59ff61e6a3",
   "metadata": {},
   "source": [
    "##### other plotting helper functions"
   ]
  },
  {
   "cell_type": "code",
   "execution_count": 33,
   "id": "d0c5d35b-36b9-4bcc-8e03-2be49f6542e8",
   "metadata": {},
   "outputs": [],
   "source": [
    "# def create_array(n, start_val, step_val):\n",
    "#     # Calculate the end value based on the number of steps, start value, and step value\n",
    "#     end_val = start_val + step_val * (n - 1)\n",
    "#     return np.linspace(start_val, end_val, n)"
   ]
  },
  {
   "cell_type": "code",
   "execution_count": 34,
   "id": "2fbd4d1f-6fc0-47e0-9f99-76e6c07f85e7",
   "metadata": {},
   "outputs": [],
   "source": [
    "# def plot_event_category_bars(df_events, ax, category_color_dict, y_val_start, y_height ):\n",
    "#     n = len(category_color_dict)\n",
    "#     y_vals = create_array(n, y_val_start, y_height)\n",
    "#     for idx, (category, color) in enumerate(category_color_dict.items()):\n",
    "#         df_category = df_events.loc[df_events['category']==category].copy()\n",
    "#         y_val = y_vals[idx]\n",
    "\n",
    "\n",
    "#         plot_event_bars(df_category, ax,category, 'start_time',end_col = 'end_time', y_val=y_val, y_height = y_height, color= color )"
   ]
  },
  {
   "cell_type": "code",
   "execution_count": 35,
   "id": "18704882-48be-435c-a659-3744e55575f2",
   "metadata": {},
   "outputs": [],
   "source": [
    "# def plot_event_bars(df, ax,label, datetime_col,duration=None,end_col = None, duration_col = None, y_val=.7, y_height = .6, color= '#43aa99' ):\n",
    "\n",
    "#     if duration:\n",
    "#         x_duration = np.full(len(df), pd.Timedelta(duration))\n",
    "#     elif end_col:\n",
    "#         df['duration'] =  df[end_col]- df[datetime_col]\n",
    "#         x_duration = df['duration']\n",
    "#     elif duration_col:\n",
    "#         x_duration = df[duration_col]\n",
    "#     else:\n",
    "#         x_duration = np.full(len(df), 2)\n",
    "\n",
    "#     x = list(zip(df[datetime_col], x_duration))\n",
    "#     y = (y_val, y_height)\n",
    "\n",
    "#     ax.broken_barh(x, y, facecolors = color, edgecolor = 'face', label = label, clip_on=False)\n"
   ]
  },
  {
   "cell_type": "code",
   "execution_count": null,
   "id": "226ca72c-5a69-4bd2-be96-3231d66dd901",
   "metadata": {},
   "outputs": [],
   "source": []
  }
 ],
 "metadata": {
  "kernelspec": {
   "display_name": "Python 3 (ipykernel)",
   "language": "python",
   "name": "python3"
  },
  "language_info": {
   "codemirror_mode": {
    "name": "ipython",
    "version": 3
   },
   "file_extension": ".py",
   "mimetype": "text/x-python",
   "name": "python",
   "nbconvert_exporter": "python",
   "pygments_lexer": "ipython3",
   "version": "3.12.2"
  }
 },
 "nbformat": 4,
 "nbformat_minor": 5
}
